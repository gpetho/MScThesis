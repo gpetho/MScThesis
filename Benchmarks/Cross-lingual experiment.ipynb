{
 "cells": [
  {
   "cell_type": "code",
   "execution_count": 1,
   "metadata": {},
   "outputs": [],
   "source": [
    "from vector_space_models_with_subwords import *\n",
    "from vsm_benchmarking import *\n",
    "import os\n",
    "bsc = BisegmentationCorpus.create_from_pickle('gold_standard_bisegmentation_corpus.pickle')\n",
    "with open('gold_standard_test_set.pickle','rb') as infile:\n",
    "    standard_test_set = pickle.load(infile)"
   ]
  },
  {
   "cell_type": "code",
   "execution_count": 2,
   "metadata": {},
   "outputs": [
    {
     "name": "stdout",
     "output_type": "stream",
     "text": [
      "Loading vocabulary complete\n",
      "{'id': 'VnpSAAJv', 'language': 'en', 'language model': '', 'word types': 78676, 'word tokens': 30310148, 'lower-cased': True, 'lemmatized': False, 'lemmatized forms': 0, 'subsample threshold': 0.0001, 'subsampled frequent words': 971}\n",
      "Loading vocabulary complete\n",
      "{'id': 'Zml4ndmT', 'language': 'hu', 'language model': '', 'word types': 248052, 'word tokens': 27684222, 'lower-cased': True, 'lemmatized': False, 'lemmatized forms': 0, 'subsample threshold': 0.0001, 'subsampled frequent words': 899}\n",
      "Loading bilingual vector space model complete\n",
      "{'id': 'J0v3I6GG', 'vector space dimension': 300, 'vocabulary 1 info': {'id': 'VnpSAAJv', 'language': 'en', 'language model': '', 'word types': 78676, 'word tokens': 30310148, 'lower-cased': True, 'lemmatized': False, 'lemmatized forms': 0, 'subsample threshold': 0.0001, 'subsampled frequent words': 971}, 'vocabulary 2 info': {'id': 'Zml4ndmT', 'language': 'hu', 'language model': '', 'word types': 248052, 'word tokens': 27684222, 'lower-cased': True, 'lemmatized': False, 'lemmatized forms': 0, 'subsample threshold': 0.0001, 'subsampled frequent words': 899}, 'rare word minimum thresholds': (3, 3), 'filtered vocabulary sizes': (58562, 151797), 'context smoothing exponent': 0.75, 'trained': True}\n"
     ]
    }
   ],
   "source": [
    "os.chdir('/media/pgergo/b95e8689-5c5f-4eab-a580-71f2e9cb7b7a/msc data/safe lowered en - lowered hu')\n",
    "bvsm = BilingualVectorSpaceModel(Vocabulary('en'),Vocabulary('hu'))\n",
    "bvsm.load_data('J0v3I6GG')"
   ]
  },
  {
   "cell_type": "code",
   "execution_count": 15,
   "metadata": {},
   "outputs": [
    {
     "name": "stdout",
     "output_type": "stream",
     "text": [
      "U+V\n",
      "Valid test cases: 8547\n",
      "[0.44309437 0.39739917 0.24658842 0.18712775] mean badness: 0.5067275067275068\n",
      "U-V\n",
      "Valid test cases: 8547\n",
      "[-0.10601935 -0.17801559 -0.25333676 -0.28943716] mean badness: 0.6645606645606645\n"
     ]
    }
   ],
   "source": [
    "pts = ProcessedTestSet(standard_test_set,bvsm)\n",
    "print('U+V')\n",
    "pts.evaluate_test_set()\n",
    "print('U-V')\n",
    "pts.evaluate_test_set('U-V')"
   ]
  },
  {
   "cell_type": "code",
   "execution_count": 16,
   "metadata": {},
   "outputs": [
    {
     "name": "stdout",
     "output_type": "stream",
     "text": [
      "U+V\n"
     ]
    },
    {
     "name": "stderr",
     "output_type": "stream",
     "text": [
      "/home/pgergo/prog/msc/vsm_benchmarking.py:157: RuntimeWarning: invalid value encountered in true_divide\n",
      "  return np.dot(np.array([self.token_weights(token_id_list,lang)]),word_rows) / len(token_id_list)\n"
     ]
    },
    {
     "name": "stdout",
     "output_type": "stream",
     "text": [
      "Valid test cases: 8547\n",
      "[0.46016803 0.40651124 0.22638817 0.15393335] mean badness: 0.5358605358605358\n",
      "U-V\n",
      "Valid test cases: 8547\n",
      "[-0.03700087 -0.11411099 -0.20709824 -0.25126667] mean badness: 0.628992628992629\n"
     ]
    }
   ],
   "source": [
    "pts = ProcessedTestSet(standard_test_set,bvsm,downweighting=0.0001)\n",
    "print('U+V')\n",
    "pts.evaluate_test_set()\n",
    "print('U-V')\n",
    "pts.evaluate_test_set('U-V')"
   ]
  },
  {
   "cell_type": "code",
   "execution_count": 17,
   "metadata": {},
   "outputs": [
    {
     "name": "stdout",
     "output_type": "stream",
     "text": [
      "Loading vocabulary complete\n",
      "{'id': 'AmDI954M', 'language': 'en', 'language model': '', 'word types': 78676, 'word tokens': 30310148, 'lower-cased': True, 'lemmatized': False, 'lemmatized forms': 0, 'subsample threshold': 0.0001, 'subsampled frequent words': 971}\n",
      "Loading vocabulary complete\n",
      "{'id': 'lHVDdpQ0', 'language': 'hu', 'language model': 'EmMorph', 'word types': 131215, 'word tokens': 27731467, 'lower-cased': True, 'lemmatized': True, 'lemmatized forms': 533696, 'subsample threshold': 0.0001, 'subsampled frequent words': 1007}\n",
      "Loading bilingual vector space model complete\n",
      "{'id': 'PEzeLmzk', 'vector space dimension': 300, 'vocabulary 1 info': {'id': 'AmDI954M', 'language': 'en', 'language model': '', 'word types': 78676, 'word tokens': 30310148, 'lower-cased': True, 'lemmatized': False, 'lemmatized forms': 0, 'subsample threshold': 0.0001, 'subsampled frequent words': 971}, 'vocabulary 2 info': {'id': 'lHVDdpQ0', 'language': 'hu', 'language model': 'EmMorph', 'word types': 131215, 'word tokens': 27731467, 'lower-cased': True, 'lemmatized': True, 'lemmatized forms': 533696, 'subsample threshold': 0.0001, 'subsampled frequent words': 1007}, 'rare word minimum thresholds': (5, 5), 'filtered vocabulary sizes': (46617, 60642), 'context smoothing exponent': 0.75, 'trained': True}\n"
     ]
    }
   ],
   "source": [
    "os.chdir('/media/pgergo/b95e8689-5c5f-4eab-a580-71f2e9cb7b7a/msc data/safe lowered en - lemmatized hu')\n",
    "bvsm = BilingualVectorSpaceModel(Vocabulary('en'),Vocabulary('hu'))\n",
    "bvsm.load_data('PEzeLmzk')"
   ]
  },
  {
   "cell_type": "code",
   "execution_count": 18,
   "metadata": {},
   "outputs": [
    {
     "name": "stdout",
     "output_type": "stream",
     "text": [
      "U+V\n",
      "Valid test cases: 8545\n",
      "[-0.0207963  -0.12048534 -0.25290797 -0.30873946] mean badness: 0.8252779403159742\n",
      "U-V\n",
      "Valid test cases: 8545\n",
      "[-0.1884281  -0.27022328 -0.33845581 -0.37886282] mean badness: 0.9109420713867759\n"
     ]
    }
   ],
   "source": [
    "pts = ProcessedTestSet(standard_test_set,bvsm)\n",
    "print('U+V')\n",
    "pts.evaluate_test_set()\n",
    "print('U-V')\n",
    "pts.evaluate_test_set('U-V')"
   ]
  },
  {
   "cell_type": "code",
   "execution_count": 19,
   "metadata": {},
   "outputs": [
    {
     "name": "stdout",
     "output_type": "stream",
     "text": [
      "U+V\n",
      "Valid test cases: 8545\n",
      "[ 0.1007098  -0.00222147 -0.17126402 -0.24815557] mean badness: 0.6691632533645406\n",
      "U-V\n",
      "Valid test cases: 8545\n",
      "[-0.07817516 -0.16236946 -0.25741983 -0.30874069] mean badness: 0.7830310122878876\n"
     ]
    }
   ],
   "source": [
    "pts = ProcessedTestSet(standard_test_set,bvsm,downweighting=0.0001)\n",
    "print('U+V')\n",
    "pts.evaluate_test_set()\n",
    "print('U-V')\n",
    "pts.evaluate_test_set('U-V')"
   ]
  },
  {
   "cell_type": "code",
   "execution_count": 7,
   "metadata": {},
   "outputs": [
    {
     "name": "stdout",
     "output_type": "stream",
     "text": [
      "Loading vocabulary complete\n",
      "{'id': '9Nn7rWpV', 'language': 'en', 'language model': '', 'word types': 140896, 'word tokens': 30413884, 'lower-cased': True, 'lemmatized': False, 'lemmatized forms': 0, 'subsample threshold': 0.0001, 'subsampled frequent words': 968}\n",
      "Loading vocabulary complete\n",
      "{'id': '7t1YNsCZ', 'language': 'hu', 'language model': '', 'word types': 349979, 'word tokens': 27811518, 'lower-cased': True, 'lemmatized': False, 'lemmatized forms': 0, 'subsample threshold': 0.0001, 'subsampled frequent words': 896}\n",
      "Loading bilingual vector space model complete\n",
      "{'id': 'RvudxjfH', 'vector space dimension': 300, 'vocabulary 1 info': {'id': '9Nn7rWpV', 'language': 'en', 'language model': '', 'word types': 140896, 'word tokens': 30413884, 'lower-cased': True, 'lemmatized': False, 'lemmatized forms': 0, 'subsample threshold': 0.0001, 'subsampled frequent words': 968}, 'vocabulary 2 info': {'id': '7t1YNsCZ', 'language': 'hu', 'language model': '', 'word types': 349979, 'word tokens': 27811518, 'lower-cased': True, 'lemmatized': False, 'lemmatized forms': 0, 'subsample threshold': 0.0001, 'subsampled frequent words': 896}, 'rare word minimum thresholds': (5, 5), 'filtered vocabulary sizes': (48275, 108691), 'context smoothing exponent': 0.75, 'trained': True, 'subword method': 'fastText', 'minimum subword length': 4, 'maximum subword length': 6, 'minimum subword frequency': 3, 'number of subwords': (154076, 360105), 'weighted subwords': True}\n"
     ]
    }
   ],
   "source": [
    "os.chdir('/media/pgergo/b95e8689-5c5f-4eab-a580-71f2e9cb7b7a/msc data/safe lowered en - lowered hu fastText no copy')\n",
    "bvsm = BilingualVectorSpaceModelWithSubwords(Vocabulary('en'),Vocabulary('hu'))\n",
    "bvsm.load_data('RvudxjfH')"
   ]
  },
  {
   "cell_type": "code",
   "execution_count": 8,
   "metadata": {},
   "outputs": [
    {
     "name": "stdout",
     "output_type": "stream",
     "text": [
      "U+V\n",
      "Valid test cases: 8549\n",
      "[-0.08182247 -0.13938972 -0.19656637 -0.20952373] mean badness: 1.2690373143057667\n",
      "U-V\n",
      "Valid test cases: 8541\n",
      "[-0.1011925  -0.16579886 -0.23346568 -0.26304578] mean badness: 0.7500292705772158\n"
     ]
    }
   ],
   "source": [
    "pts = ProcessedTestSet(standard_test_set,bvsm)\n",
    "print('U+V')\n",
    "pts.evaluate_test_set()\n",
    "print('U-V')\n",
    "pts.evaluate_test_set('U-V')"
   ]
  },
  {
   "cell_type": "code",
   "execution_count": 9,
   "metadata": {},
   "outputs": [
    {
     "name": "stdout",
     "output_type": "stream",
     "text": [
      "U+V\n",
      "Valid test cases: 8549\n",
      "[-0.02302944 -0.08434734 -0.15594771 -0.18004659] mean badness: 1.088080477248801\n",
      "U-V\n",
      "Valid test cases: 8541\n",
      "[-0.04020663 -0.11083595 -0.19409918 -0.23130263] mean badness: 0.7366818873668188\n"
     ]
    }
   ],
   "source": [
    "pts = ProcessedTestSet(standard_test_set,bvsm,downweighting=0.0001)\n",
    "print('U+V')\n",
    "pts.evaluate_test_set()\n",
    "print('U-V')\n",
    "pts.evaluate_test_set('U-V')"
   ]
  },
  {
   "cell_type": "code",
   "execution_count": 10,
   "metadata": {},
   "outputs": [
    {
     "name": "stdout",
     "output_type": "stream",
     "text": [
      "Loading vocabulary complete\n",
      "{'id': '9Nn7rWpV', 'language': 'en', 'language model': '', 'word types': 140896, 'word tokens': 30413884, 'lower-cased': True, 'lemmatized': False, 'lemmatized forms': 0, 'subsample threshold': 0.0001, 'subsampled frequent words': 968}\n",
      "Loading vocabulary complete\n",
      "{'id': '7t1YNsCZ', 'language': 'hu', 'language model': '', 'word types': 349979, 'word tokens': 27811518, 'lower-cased': True, 'lemmatized': False, 'lemmatized forms': 0, 'subsample threshold': 0.0001, 'subsampled frequent words': 896}\n",
      "Loading bilingual vector space model complete\n",
      "{'id': '62HXtItp', 'vector space dimension': 300, 'vocabulary 1 info': {'id': '9Nn7rWpV', 'language': 'en', 'language model': '', 'word types': 140896, 'word tokens': 30413884, 'lower-cased': True, 'lemmatized': False, 'lemmatized forms': 0, 'subsample threshold': 0.0001, 'subsampled frequent words': 968}, 'vocabulary 2 info': {'id': '7t1YNsCZ', 'language': 'hu', 'language model': '', 'word types': 349979, 'word tokens': 27811518, 'lower-cased': True, 'lemmatized': False, 'lemmatized forms': 0, 'subsample threshold': 0.0001, 'subsampled frequent words': 896}, 'rare word minimum thresholds': (5, 5), 'filtered vocabulary sizes': (48275, 108691), 'context smoothing exponent': 0.75, 'trained': True, 'subword method': 'entropy_peak', 'minimum subword length': 4, 'maximum subword length': 6, 'minimum subword frequency': 3, 'number of subwords': (40437, 144601), 'weighted subwords': True}\n"
     ]
    }
   ],
   "source": [
    "os.chdir('/media/pgergo/b95e8689-5c5f-4eab-a580-71f2e9cb7b7a/msc data/safe lowered en - lowered hu entropy_peak no copy')\n",
    "bvsm = BilingualVectorSpaceModelWithSubwords(Vocabulary('en'),Vocabulary('hu'))\n",
    "bvsm.load_data('62HXtItp')"
   ]
  },
  {
   "cell_type": "code",
   "execution_count": 11,
   "metadata": {},
   "outputs": [
    {
     "name": "stdout",
     "output_type": "stream",
     "text": [
      "U+V\n",
      "Valid test cases: 8549\n",
      "[-0.06666395 -0.11505035 -0.16809261 -0.18496526] mean badness: 1.1173236635863844\n",
      "U-V\n",
      "Valid test cases: 8541\n",
      "[-0.07719718 -0.12856793 -0.18657802 -0.21501682] mean badness: 0.7152558248448659\n"
     ]
    }
   ],
   "source": [
    "pts = ProcessedTestSet(standard_test_set,bvsm)\n",
    "print('U+V')\n",
    "pts.evaluate_test_set()\n",
    "print('U-V')\n",
    "pts.evaluate_test_set('U-V')"
   ]
  },
  {
   "cell_type": "code",
   "execution_count": 12,
   "metadata": {},
   "outputs": [
    {
     "name": "stdout",
     "output_type": "stream",
     "text": [
      "U+V\n",
      "Valid test cases: 8549\n",
      "[-0.02062913 -0.07711349 -0.1458762  -0.17160236] mean badness: 0.9956720084220376\n",
      "U-V\n",
      "Valid test cases: 8541\n",
      "[-0.03377402 -0.09335232 -0.16527087 -0.20135721] mean badness: 0.7303594426882098\n"
     ]
    }
   ],
   "source": [
    "pts = ProcessedTestSet(standard_test_set,bvsm,downweighting=0.0001)\n",
    "print('U+V')\n",
    "pts.evaluate_test_set()\n",
    "print('U-V')\n",
    "pts.evaluate_test_set('U-V')"
   ]
  },
  {
   "cell_type": "code",
   "execution_count": 15,
   "metadata": {},
   "outputs": [
    {
     "name": "stdout",
     "output_type": "stream",
     "text": [
      "Loading vocabulary complete\n",
      "{'id': '9Nn7rWpV', 'language': 'en', 'language model': '', 'word types': 140896, 'word tokens': 30413884, 'lower-cased': True, 'lemmatized': False, 'lemmatized forms': 0, 'subsample threshold': 0.0001, 'subsampled frequent words': 968}\n",
      "Loading vocabulary complete\n",
      "{'id': '7t1YNsCZ', 'language': 'hu', 'language model': '', 'word types': 349979, 'word tokens': 27811518, 'lower-cased': True, 'lemmatized': False, 'lemmatized forms': 0, 'subsample threshold': 0.0001, 'subsampled frequent words': 896}\n",
      "Loading bilingual vector space model complete\n",
      "{'id': 'DZMe3ZN2', 'vector space dimension': 300, 'vocabulary 1 info': {'id': '9Nn7rWpV', 'language': 'en', 'language model': '', 'word types': 140896, 'word tokens': 30413884, 'lower-cased': True, 'lemmatized': False, 'lemmatized forms': 0, 'subsample threshold': 0.0001, 'subsampled frequent words': 968}, 'vocabulary 2 info': {'id': '7t1YNsCZ', 'language': 'hu', 'language model': '', 'word types': 349979, 'word tokens': 27811518, 'lower-cased': True, 'lemmatized': False, 'lemmatized forms': 0, 'subsample threshold': 0.0001, 'subsampled frequent words': 896}, 'rare word minimum thresholds': (5, 5), 'filtered vocabulary sizes': (48275, 108691), 'context smoothing exponent': 0.75, 'trained': True, 'subword method': 'fastText', 'minimum subword length': 4, 'maximum subword length': 6, 'minimum subword frequency': 3, 'number of subwords': (154076, 360105), 'weighted subwords': True}\n"
     ]
    }
   ],
   "source": [
    "os.chdir('/media/pgergo/b95e8689-5c5f-4eab-a580-71f2e9cb7b7a/msc data/safe lowered en - lowered hu fastText with copy')\n",
    "bvsm = BilingualVectorSpaceModelWithSubwords(Vocabulary('en'),Vocabulary('hu'))\n",
    "bvsm.load_data('DZMe3ZN2')"
   ]
  },
  {
   "cell_type": "code",
   "execution_count": 16,
   "metadata": {},
   "outputs": [
    {
     "name": "stdout",
     "output_type": "stream",
     "text": [
      "U+V\n",
      "Valid test cases: 8549\n",
      "[ 0.29875813  0.20755353  0.00989222 -0.03988727] mean badness: 0.7703825008772955\n",
      "U-V\n",
      "Valid test cases: 8541\n",
      "[-0.1025978  -0.17230261 -0.24571378 -0.27871976] mean badness: 0.7425360028099754\n"
     ]
    }
   ],
   "source": [
    "pts = ProcessedTestSet(standard_test_set,bvsm)\n",
    "print('U+V')\n",
    "pts.evaluate_test_set()\n",
    "print('U-V')\n",
    "pts.evaluate_test_set('U-V')"
   ]
  },
  {
   "cell_type": "code",
   "execution_count": 17,
   "metadata": {},
   "outputs": [
    {
     "name": "stdout",
     "output_type": "stream",
     "text": [
      "U+V\n",
      "Valid test cases: 8549\n",
      "[ 0.35915858  0.26422753  0.03679487 -0.03729356] mean badness: 0.6684992396771552\n",
      "U-V\n",
      "Valid test cases: 8541\n",
      "[-0.03144757 -0.10550171 -0.19543398 -0.2373215 ] mean badness: 0.7041330055028685\n"
     ]
    }
   ],
   "source": [
    "pts = ProcessedTestSet(standard_test_set,bvsm,downweighting=0.0001)\n",
    "print('U+V')\n",
    "pts.evaluate_test_set()\n",
    "print('U-V')\n",
    "pts.evaluate_test_set('U-V')"
   ]
  },
  {
   "cell_type": "code",
   "execution_count": 18,
   "metadata": {},
   "outputs": [
    {
     "name": "stdout",
     "output_type": "stream",
     "text": [
      "Loading vocabulary complete\n",
      "{'id': '9Nn7rWpV', 'language': 'en', 'language model': '', 'word types': 140896, 'word tokens': 30413884, 'lower-cased': True, 'lemmatized': False, 'lemmatized forms': 0, 'subsample threshold': 0.0001, 'subsampled frequent words': 968}\n",
      "Loading vocabulary complete\n",
      "{'id': '7t1YNsCZ', 'language': 'hu', 'language model': '', 'word types': 349979, 'word tokens': 27811518, 'lower-cased': True, 'lemmatized': False, 'lemmatized forms': 0, 'subsample threshold': 0.0001, 'subsampled frequent words': 896}\n",
      "Loading bilingual vector space model complete\n",
      "{'id': '48gsbTuo', 'vector space dimension': 300, 'vocabulary 1 info': {'id': '9Nn7rWpV', 'language': 'en', 'language model': '', 'word types': 140896, 'word tokens': 30413884, 'lower-cased': True, 'lemmatized': False, 'lemmatized forms': 0, 'subsample threshold': 0.0001, 'subsampled frequent words': 968}, 'vocabulary 2 info': {'id': '7t1YNsCZ', 'language': 'hu', 'language model': '', 'word types': 349979, 'word tokens': 27811518, 'lower-cased': True, 'lemmatized': False, 'lemmatized forms': 0, 'subsample threshold': 0.0001, 'subsampled frequent words': 896}, 'rare word minimum thresholds': (5, 5), 'filtered vocabulary sizes': (48275, 108691), 'context smoothing exponent': 0.75, 'trained': True, 'subword method': 'entropy_peak', 'minimum subword length': 4, 'maximum subword length': 6, 'minimum subword frequency': 3, 'number of subwords': (40437, 144601), 'weighted subwords': True}\n"
     ]
    }
   ],
   "source": [
    "os.chdir('/media/pgergo/b95e8689-5c5f-4eab-a580-71f2e9cb7b7a/msc data/safe lowered en - lowered hu entropy_peak with copy')\n",
    "bvsm = BilingualVectorSpaceModelWithSubwords(Vocabulary('en'),Vocabulary('hu'))\n",
    "bvsm.load_data('48gsbTuo')"
   ]
  },
  {
   "cell_type": "code",
   "execution_count": 2,
   "metadata": {},
   "outputs": [
    {
     "name": "stdout",
     "output_type": "stream",
     "text": [
      "Loading vocabulary complete\n",
      "{'id': '9Nn7rWpV', 'language': 'en', 'language model': '', 'word types': 140896, 'word tokens': 30413884, 'lower-cased': True, 'lemmatized': False, 'lemmatized forms': 0, 'subsample threshold': 0.0001, 'subsampled frequent words': 968}\n",
      "Loading vocabulary complete\n",
      "{'id': '7t1YNsCZ', 'language': 'hu', 'language model': '', 'word types': 349979, 'word tokens': 27811518, 'lower-cased': True, 'lemmatized': False, 'lemmatized forms': 0, 'subsample threshold': 0.0001, 'subsampled frequent words': 896}\n",
      "Loading bilingual vector space model complete\n",
      "{'id': '48gsbTuo', 'vector space dimension': 300, 'vocabulary 1 info': {'id': '9Nn7rWpV', 'language': 'en', 'language model': '', 'word types': 140896, 'word tokens': 30413884, 'lower-cased': True, 'lemmatized': False, 'lemmatized forms': 0, 'subsample threshold': 0.0001, 'subsampled frequent words': 968}, 'vocabulary 2 info': {'id': '7t1YNsCZ', 'language': 'hu', 'language model': '', 'word types': 349979, 'word tokens': 27811518, 'lower-cased': True, 'lemmatized': False, 'lemmatized forms': 0, 'subsample threshold': 0.0001, 'subsampled frequent words': 896}, 'rare word minimum thresholds': (5, 5), 'filtered vocabulary sizes': (48275, 108691), 'context smoothing exponent': 0.75, 'trained': True, 'subword method': 'entropy_peak', 'minimum subword length': 4, 'maximum subword length': 6, 'minimum subword frequency': 3, 'number of subwords': (40437, 144601), 'weighted subwords': True}\n"
     ]
    }
   ],
   "source": [
    "os.chdir('/media/pgergo/b95e8689-5c5f-4eab-a580-71f2e9cb7b7a/msc data/safe lowered en - lowered hu entropy_peak with copy')\n",
    "bvsm = BilingualVectorSpaceModelWithSubwords(Vocabulary('en'),Vocabulary('hu'))\n",
    "bvsm.load_data('48gsbTuo')"
   ]
  },
  {
   "cell_type": "code",
   "execution_count": 19,
   "metadata": {},
   "outputs": [
    {
     "name": "stdout",
     "output_type": "stream",
     "text": [
      "U+V\n",
      "Valid test cases: 8549\n",
      "[0.31190859 0.24729217 0.10085702 0.06487524] mean badness: 0.865247397356416\n",
      "U-V\n",
      "Valid test cases: 8541\n",
      "[-0.07459572 -0.13055331 -0.19155907 -0.22185845] mean badness: 0.7034305116496897\n"
     ]
    }
   ],
   "source": [
    "pts = ProcessedTestSet(standard_test_set,bvsm)\n",
    "print('U+V')\n",
    "pts.evaluate_test_set()\n",
    "print('U-V')\n",
    "pts.evaluate_test_set('U-V')"
   ]
  },
  {
   "cell_type": "code",
   "execution_count": 20,
   "metadata": {},
   "outputs": [
    {
     "name": "stdout",
     "output_type": "stream",
     "text": [
      "U+V\n",
      "Valid test cases: 8549\n",
      "[0.3448333  0.27076036 0.09323545 0.0373011 ] mean badness: 0.7500292431863376\n",
      "U-V\n",
      "Valid test cases: 8541\n",
      "[-0.01820332 -0.07905318 -0.15453098 -0.19241709] mean badness: 0.6932443507785974\n"
     ]
    }
   ],
   "source": [
    "pts = ProcessedTestSet(standard_test_set,bvsm,downweighting=0.0001)\n",
    "print('U+V')\n",
    "pts.evaluate_test_set()\n",
    "print('U-V')\n",
    "pts.evaluate_test_set('U-V')"
   ]
  },
  {
   "cell_type": "code",
   "execution_count": 27,
   "metadata": {},
   "outputs": [
    {
     "name": "stdout",
     "output_type": "stream",
     "text": [
      "Loading vocabulary complete\n",
      "{'id': 'V4i9GXPo', 'language': 'en', 'language model': '', 'word types': 455525, 'word tokens': 188076732, 'lower-cased': True, 'lemmatized': False, 'lemmatized forms': 0, 'subsample threshold': 0.0001, 'subsampled frequent words': 1092}\n",
      "Loading vocabulary complete\n",
      "{'id': 'nJaIYKLx', 'language': 'hu', 'language model': '', 'word types': 1119047, 'word tokens': 173223822, 'lower-cased': True, 'lemmatized': False, 'lemmatized forms': 0, 'subsample threshold': 0.0001, 'subsampled frequent words': 902}\n",
      "Loading bilingual vector space model complete\n",
      "{'id': 'ICbWHyvH', 'vector space dimension': 300, 'vocabulary 1 info': {'id': 'V4i9GXPo', 'language': 'en', 'language model': '', 'word types': 455525, 'word tokens': 188076732, 'lower-cased': True, 'lemmatized': False, 'lemmatized forms': 0, 'subsample threshold': 0.0001, 'subsampled frequent words': 1092}, 'vocabulary 2 info': {'id': 'nJaIYKLx', 'language': 'hu', 'language model': '', 'word types': 1119047, 'word tokens': 173223822, 'lower-cased': True, 'lemmatized': False, 'lemmatized forms': 0, 'subsample threshold': 0.0001, 'subsampled frequent words': 902}, 'rare word minimum thresholds': (10, 7), 'filtered vocabulary sizes': (91474, 296452), 'context smoothing exponent': 0.75, 'trained': True}\n"
     ]
    }
   ],
   "source": [
    "os.chdir('/media/pgergo/b95e8689-5c5f-4eab-a580-71f2e9cb7b7a/msc data/full lowered en - lowered hu')\n",
    "bvsm = BilingualVectorSpaceModel(Vocabulary('en'),Vocabulary('hu'))\n",
    "bvsm.load_data('ICbWHyvH')"
   ]
  },
  {
   "cell_type": "code",
   "execution_count": 23,
   "metadata": {},
   "outputs": [
    {
     "name": "stdout",
     "output_type": "stream",
     "text": [
      "U+V\n",
      "Valid test cases: 8549\n",
      "[ 0.25810289  0.1689997  -0.03380899 -0.13686829] mean badness: 0.5425195929348462\n",
      "U-V\n",
      "Valid test cases: 8549\n",
      "[-0.04778051 -0.13669255 -0.25344756 -0.3313117 ] mean badness: 0.6779740320505322\n"
     ]
    }
   ],
   "source": [
    "pts = ProcessedTestSet(standard_test_set,bvsm)\n",
    "print('U+V')\n",
    "pts.evaluate_test_set()\n",
    "print('U-V')\n",
    "pts.evaluate_test_set('U-V')"
   ]
  },
  {
   "cell_type": "code",
   "execution_count": 28,
   "metadata": {},
   "outputs": [
    {
     "name": "stdout",
     "output_type": "stream",
     "text": [
      "U+V\n",
      "Valid test cases: 8549\n",
      "[ 0.33544618  0.24506309  0.01343639 -0.11023071] mean badness: 0.5045034506959878\n",
      "U-V\n",
      "Valid test cases: 8549\n",
      "[ 0.0360131  -0.05337862 -0.19026633 -0.27999416] mean badness: 0.5852146449877179\n"
     ]
    }
   ],
   "source": [
    "pts = ProcessedTestSet(standard_test_set,bvsm,downweighting=0.0001)\n",
    "print('U+V')\n",
    "pts.evaluate_test_set()\n",
    "print('U-V')\n",
    "pts.evaluate_test_set('U-V')"
   ]
  },
  {
   "cell_type": "code",
   "execution_count": 29,
   "metadata": {},
   "outputs": [
    {
     "name": "stdout",
     "output_type": "stream",
     "text": [
      "U+V\n",
      "Valid test cases: 8549\n",
      "[ 0.35740112  0.26921847  0.03785439 -0.08853111] mean badness: 0.5772604983038951\n",
      "U-V\n",
      "Valid test cases: 8549\n",
      "[ 0.08216652 -0.00312364 -0.14389641 -0.23301255] mean badness: 0.6138729675985496\n"
     ]
    }
   ],
   "source": [
    "pts = ProcessedTestSet(standard_test_set,bvsm,downweighting=0.00001)\n",
    "print('U+V')\n",
    "pts.evaluate_test_set()\n",
    "print('U-V')\n",
    "pts.evaluate_test_set('U-V')"
   ]
  },
  {
   "cell_type": "code",
   "execution_count": 30,
   "metadata": {},
   "outputs": [
    {
     "name": "stdout",
     "output_type": "stream",
     "text": [
      "Loading vocabulary complete\n",
      "{'id': 'QZvqIOZk', 'language': 'en', 'language model': '', 'word types': 455513, 'word tokens': 188077030, 'lower-cased': True, 'lemmatized': False, 'lemmatized forms': 0, 'subsample threshold': 0.0001, 'subsampled frequent words': 1092}\n",
      "Loading vocabulary complete\n",
      "{'id': 'fj0qCKkZ', 'language': 'hu', 'language model': 'EmMorph', 'word types': 645596, 'word tokens': 173224171, 'lower-cased': True, 'lemmatized': True, 'lemmatized forms': 1119031, 'subsample threshold': 0.0001, 'subsampled frequent words': 1064}\n",
      "Loading bilingual vector space model complete\n",
      "{'id': 'ZMeuZGZY', 'vector space dimension': 300, 'vocabulary 1 info': {'id': 'QZvqIOZk', 'language': 'en', 'language model': '', 'word types': 455513, 'word tokens': 188077030, 'lower-cased': True, 'lemmatized': False, 'lemmatized forms': 0, 'subsample threshold': 0.0001, 'subsampled frequent words': 1092}, 'vocabulary 2 info': {'id': 'fj0qCKkZ', 'language': 'hu', 'language model': 'EmMorph', 'word types': 645596, 'word tokens': 173224171, 'lower-cased': True, 'lemmatized': True, 'lemmatized forms': 1119031, 'subsample threshold': 0.0001, 'subsampled frequent words': 1064}, 'rare word minimum thresholds': (10, 10), 'filtered vocabulary sizes': (91475, 127764), 'context smoothing exponent': 0.75, 'trained': True}\n"
     ]
    }
   ],
   "source": [
    "os.chdir('/media/pgergo/b95e8689-5c5f-4eab-a580-71f2e9cb7b7a/msc data/full lowered en - lemmatized hu')\n",
    "bvsm = BilingualVectorSpaceModel(Vocabulary('en'),Vocabulary('hu'))\n",
    "bvsm.load_data('ZMeuZGZY')"
   ]
  },
  {
   "cell_type": "code",
   "execution_count": 31,
   "metadata": {},
   "outputs": [
    {
     "name": "stdout",
     "output_type": "stream",
     "text": [
      "U+V\n",
      "Valid test cases: 8549\n",
      "[ 0.16131966  0.06786513 -0.10739743 -0.21301585] mean badness: 0.5571411861036378\n",
      "U-V\n",
      "Valid test cases: 8549\n",
      "[-0.05921479 -0.1370444  -0.23362342 -0.30469697] mean badness: 0.7054626272078606\n"
     ]
    }
   ],
   "source": [
    "pts = ProcessedTestSet(standard_test_set,bvsm)\n",
    "print('U+V')\n",
    "pts.evaluate_test_set()\n",
    "print('U-V')\n",
    "pts.evaluate_test_set('U-V')"
   ]
  },
  {
   "cell_type": "code",
   "execution_count": 32,
   "metadata": {},
   "outputs": [
    {
     "name": "stdout",
     "output_type": "stream",
     "text": [
      "U+V\n",
      "Valid test cases: 8549\n",
      "[ 0.26857545  0.17240691 -0.04024594 -0.17220198] mean badness: 0.4790033922096152\n",
      "U-V\n",
      "Valid test cases: 8549\n",
      "[ 0.03985981 -0.04040863 -0.16527798 -0.25278423] mean badness: 0.5972628377588022\n"
     ]
    }
   ],
   "source": [
    "pts = ProcessedTestSet(standard_test_set,bvsm,downweighting=0.0001)\n",
    "print('U+V')\n",
    "pts.evaluate_test_set()\n",
    "print('U-V')\n",
    "pts.evaluate_test_set('U-V')"
   ]
  },
  {
   "cell_type": "code",
   "execution_count": 7,
   "metadata": {},
   "outputs": [
    {
     "name": "stdout",
     "output_type": "stream",
     "text": [
      "Loading vocabulary complete\n",
      "{'id': 'V4i9GXPo', 'language': 'en', 'language model': '', 'word types': 455525, 'word tokens': 188076732, 'lower-cased': True, 'lemmatized': False, 'lemmatized forms': 0, 'subsample threshold': 0.0001, 'subsampled frequent words': 1092}\n",
      "Loading vocabulary complete\n",
      "{'id': 'nJaIYKLx', 'language': 'hu', 'language model': '', 'word types': 1119047, 'word tokens': 173223822, 'lower-cased': True, 'lemmatized': False, 'lemmatized forms': 0, 'subsample threshold': 0.0001, 'subsampled frequent words': 902}\n",
      "Loading bilingual vector space model complete\n",
      "{'id': 'KKzwY3PI', 'vector space dimension': 300, 'vocabulary 1 info': {'id': 'V4i9GXPo', 'language': 'en', 'language model': '', 'word types': 455525, 'word tokens': 188076732, 'lower-cased': True, 'lemmatized': False, 'lemmatized forms': 0, 'subsample threshold': 0.0001, 'subsampled frequent words': 1092}, 'vocabulary 2 info': {'id': 'nJaIYKLx', 'language': 'hu', 'language model': '', 'word types': 1119047, 'word tokens': 173223822, 'lower-cased': True, 'lemmatized': False, 'lemmatized forms': 0, 'subsample threshold': 0.0001, 'subsampled frequent words': 902}, 'rare word minimum thresholds': (10, 10), 'filtered vocabulary sizes': (91474, 237721), 'context smoothing exponent': 0.75, 'trained': True, 'subword method': 'entropy_peak', 'minimum subword length': 4, 'maximum subword length': 6, 'minimum subword frequency': 3, 'number of subwords': (123589, 432615), 'weighted subwords': True}\n"
     ]
    }
   ],
   "source": [
    "os.chdir('/media/pgergo/b95e8689-5c5f-4eab-a580-71f2e9cb7b7a/msc data/full lowered en - lowered hu entropy_peak')\n",
    "bvsm = BilingualVectorSpaceModelWithSubwords(Vocabulary('en'),Vocabulary('hu'))\n",
    "bvsm.load_data('KKzwY3PI')"
   ]
  },
  {
   "cell_type": "code",
   "execution_count": 8,
   "metadata": {},
   "outputs": [
    {
     "name": "stdout",
     "output_type": "stream",
     "text": [
      "U+V\n",
      "Valid test cases: 8550\n",
      "[-0.11525538 -0.19607383 -0.27800669 -0.31230233] mean badness: 1.2373099415204678\n",
      "U-V\n",
      "Valid test cases: 8549\n",
      "[-0.12606119 -0.21004998 -0.29905218 -0.3537397 ] mean badness: 0.8768276991460989\n"
     ]
    }
   ],
   "source": [
    "pts = ProcessedTestSet(standard_test_set,bvsm)\n",
    "print('U+V')\n",
    "pts.evaluate_test_set()\n",
    "print('U-V')\n",
    "pts.evaluate_test_set('U-V')"
   ]
  },
  {
   "cell_type": "code",
   "execution_count": 9,
   "metadata": {},
   "outputs": [
    {
     "name": "stdout",
     "output_type": "stream",
     "text": [
      "U+V\n",
      "Valid test cases: 8550\n",
      "[-0.02853913 -0.1088456  -0.20645905 -0.25592501] mean badness: 1.0355555555555556\n",
      "U-V\n",
      "Valid test cases: 8549\n",
      "[-0.03377468 -0.1186326  -0.22580781 -0.29209431] mean badness: 0.8004444964323313\n"
     ]
    }
   ],
   "source": [
    "pts = ProcessedTestSet(standard_test_set,bvsm,downweighting=0.0001)\n",
    "print('U+V')\n",
    "pts.evaluate_test_set()\n",
    "print('U-V')\n",
    "pts.evaluate_test_set('U-V')"
   ]
  },
  {
   "cell_type": "code",
   "execution_count": 10,
   "metadata": {},
   "outputs": [
    {
     "name": "stdout",
     "output_type": "stream",
     "text": [
      "U+V\n",
      "Valid test cases: 8550\n",
      "[ 0.021067   -0.05348415 -0.15176524 -0.20573329] mean badness: 1.0339181286549708\n",
      "U-V\n",
      "Valid test cases: 8549\n",
      "[ 0.0163262  -0.06347812 -0.17210481 -0.23819744] mean badness: 0.8665340975552697\n"
     ]
    }
   ],
   "source": [
    "pts = ProcessedTestSet(standard_test_set,bvsm,downweighting=0.00001)\n",
    "print('U+V')\n",
    "pts.evaluate_test_set()\n",
    "print('U-V')\n",
    "pts.evaluate_test_set('U-V')"
   ]
  },
  {
   "cell_type": "code",
   "execution_count": null,
   "metadata": {},
   "outputs": [],
   "source": []
  }
 ],
 "metadata": {
  "kernelspec": {
   "display_name": "Python 3",
   "language": "python",
   "name": "python3"
  },
  "language_info": {
   "codemirror_mode": {
    "name": "ipython",
    "version": 3
   },
   "file_extension": ".py",
   "mimetype": "text/x-python",
   "name": "python",
   "nbconvert_exporter": "python",
   "pygments_lexer": "ipython3",
   "version": "3.8.3"
  }
 },
 "nbformat": 4,
 "nbformat_minor": 4
}
