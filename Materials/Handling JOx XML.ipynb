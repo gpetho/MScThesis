{
 "cells": [
  {
   "cell_type": "code",
   "execution_count": 3,
   "metadata": {},
   "outputs": [],
   "source": [
    "import regex, os, string"
   ]
  },
  {
   "cell_type": "code",
   "execution_count": null,
   "metadata": {},
   "outputs": [],
   "source": [
    "# root directory containing JOx subdirectories organised by year and language \n",
    "jox_root = '/your_jox_root/'"
   ]
  },
  {
   "cell_type": "code",
   "execution_count": 14,
   "metadata": {},
   "outputs": [],
   "source": [
    "os.chdir(jox_root+'JOx_FMX_EN_2019')\n",
    "fl = [n for n in os.listdir() if len(n) > 5 and n[-5] in string.digits and n[-3:] == 'xml']"
   ]
  },
  {
   "cell_type": "code",
   "execution_count": 15,
   "metadata": {},
   "outputs": [],
   "source": [
    "new_tags = {}\n",
    "new_entities = {}\n",
    "for i in range(len(fl)):\n",
    "    f = open(fl[i],encoding=\"utf8\")\n",
    "    txt = f.read()\n",
    "    f.close()\n",
    "    txt = delete_metadata(txt)\n",
    "    txt = replace_tag(txt)\n",
    "    txt = delete_metadata(txt)\n",
    "    m = regex.findall(\"<(.*?)>\",txt)\n",
    "    ent = regex.findall(\"&(.*?);\",txt)\n",
    "    \n",
    "    for me in m:\n",
    "        if me not in new_tags:\n",
    "            new_tags[me] = i\n",
    "    for e in ent:\n",
    "        if e not in entities and e not in new_entities:\n",
    "            new_entities[e] = i"
   ]
  },
  {
   "cell_type": "code",
   "execution_count": 57,
   "metadata": {},
   "outputs": [],
   "source": [
    "f = open(fl[6625],encoding=\"utf8\")\n",
    "txt = f.read()\n",
    "f.close()\n",
    "txt = delete_metadata(txt)\n",
    "txt = replace_tag(txt)"
   ]
  },
  {
   "cell_type": "code",
   "execution_count": 16,
   "metadata": {},
   "outputs": [
    {
     "name": "stdout",
     "output_type": "stream",
     "text": [
      "{}\n",
      "{'#x2019': 40, '#x2018': 45, '#x2bb': 2042, '#x2610': 3385, '#x0176': 3968, '#x2612': 4094, '#x1E41': 4200, '#x042D': 4328, '#x044D': 4328, '#x0406': 4330, '#x179F': 4658, '#x17D2': 4658, '#x1780': 4658, '#x179A': 4658, '#x178F': 4658, '#x1793': 4658, '#x17C4': 4658, '#x17C6': 4658, '#x1796': 4658, '#x1784': 4658, '#x17CB': 4658, '#x17BA': 4658, '#x0454': 5431, '#x2208': 5431}\n"
     ]
    }
   ],
   "source": [
    "print(new_tags)\n",
    "print(new_entities)"
   ]
  },
  {
   "cell_type": "code",
   "execution_count": 2,
   "metadata": {},
   "outputs": [],
   "source": [
    "def delete_metadata(txt):\n",
    "    elements_2b_deleted = ['BIB.INSTANCE','INDEX','TOC','NOTE','FORMULA.S','LV','CAT.PLANT','CAT.VEGET']\n",
    "    m = regex.findall(\"<NOTE NOTE.*?</NOTE>\",txt)\n",
    "    for t in elements_2b_deleted:\n",
    "        txt = regex.sub(r\"<%s(\\s|>).*?</%s>\"%(t,t),\"\",txt, flags=regex.DOTALL)\n",
    "        txt = regex.sub(r\"</%s>\"%(t),\"\",txt)\n",
    "    for n in m:\n",
    "        txt += n\n",
    "    return txt"
   ]
  },
  {
   "cell_type": "code",
   "execution_count": 3,
   "metadata": {},
   "outputs": [],
   "source": [
    "replacements = {'P': '\\n', 'TITLE': '\\n', 'NP': '\\n', 'DLIST.ITEM': '\\n', 'ROW': '\\n', 'P/': '\\n',\n",
    "          'GR.CONSID.INIT': '\\n', 'PARAG': '\\n', 'HT TYPE=\"NORMAL\"': '\\n', \n",
    "          'NO.GR.SEQ': '\\n', 'TXT.ROW': '\\n', '/TBL': '\\n', 'GR.SEQ': '\\n',\n",
    "          '/NO.PARAG': ' ', '/FORMULA': ' ',\n",
    "          'PREAMBLE.INIT': '\\n', 'VISA': '\\n', 'CONSID': '\\n', 'ARTICLE': '\\n', 'TI.ART': '\\n', 'STI.ART': '\\n',\n",
    "          'FULL.POWER.FINAL': '\\n', 'PREAMBLE.FINAL': '\\n', 'STI.BLK': '\\n', '/MARGIN': '\\n', 'CN.HEADER': '\\n',\n",
    "          'CN.UNIT': '\\n', 'FORMULA.S': '\\n', 'HEADER.OLD': '\\n', 'HEADER.NEW': '\\n', 'GR.VISA.INIT': '\\n',\n",
    "          'GR.CORRECTION': '\\n', 'CORRECTION': '\\n', 'TI.BLK': '\\n', 'IMG.CNT': '\\n', 'LG.PROC': '\\n',\n",
    "          'NO.DOC.C': '\\n', '/STI.ART': '\\n', '/TI.ART': '\\n',\n",
    "         'GENERAL': '', 'TI': '', 'HT': '', 'CONTENTS': '', 'ITEM': '', \n",
    "          'GR.SEQ': '', 'LIST': '', 'DLIST': '', 'NO.P': '', 'NOTE': '', 'REF.DOC.OJ': '', 'CORPUS': '',\n",
    "          'FT': '', 'ADDR.S': '', 'TBL': '', 'TXT/': '', 'COMPETITION': '', 'COMPETITION.INIT': '', 'PREFIX': '',\n",
    "          'ADDR': '', 'ANNEX': '', 'INCL.ELEMENT': '', 'PREAMBLE': '', 'GR.CONSID': '', 'GR.VISA': '', 'ACT': '',\n",
    "          'ENACTING.TERMS': '', 'FINAL': '', 'SIGNATURE': '', 'PL.DATE': '', 'SIGNATORY': '',\n",
    "          'ALINEA': ' ', 'NO.PARAG': '', 'STI': '', 'STI/': '', 'ANNOTATION': '','GR.NOTES': '', 'AGR': '',\n",
    "          'QUOT.S': '', 'PROLOG': '', 'CJT': '', 'TRANS.REF': '', 'TI.CJT': '', 'BLK': '',\n",
    "          'GR.ANNOTATION': '', 'CORR': '', 'CONTENTS.CORR': '', 'DESCRIPTION': '', 'DATE': ' ',\n",
    "          'NEW.CORR': '', 'ENACTING.TERMS.CJT': '', 'OLD.CORR': '', 'FORMULA': '', 'CAPTION': '', 'DIVISION': '',\n",
    "          'GR.TABLE': '', 'TITLE/': '', 'CONTENTS/': '', 'FULL.POWER': '', 'FULL.POWER.INIT': '',\n",
    "          'PLENIPOTENTIARY': '', 'DIV.CONSID': '', 'TI/': '', 'GR.TBL': '', 'ACT.GEN': '', 'COLL.LETTERS': '',\n",
    "          'LETTER': '', 'MARGIN': '', 'EXPR': ' ', 'ROOT/': '', 'IND': ' ', 'TXT.COL': '', 'CN': '',\n",
    "          'CN.RATE': '', 'GR.CN.UNIT': '', 'TI.GR.CN.UNIT': '', 'GR.SEQ': '', 'LOC.NOTES': '', 'REF.NOTE': '',\n",
    "          'PREAMBLE.GEN': '', 'SUBDIV': '', 'ROOT': '', 'CN.DESC/': '', 'LIST.AMEND': '', 'AMEND': '',\n",
    "          'OLD': '', 'NEW': '', 'HEADER.LIST.AMEND': '', 'GR.AMEND': '', 'NO.P/': '', 'ADDR/': '', 'FRACTION': '',\n",
    "          'DIVIDEND': ' ', 'DIVISOR': ' ', 'SUM': '', 'UNDER': '', 'COMMENT': '', '/FMT.VALUE': ' ', 'FMT.VALUE': '',\n",
    "          'QUOT.START': '\"', 'QUOT.END': '\"', 'SUM/': '', 'INTEGRAL': '', 'OVERLINE': '', 'DEGREE': '',\n",
    "          'REF.DOC.ECR': '', 'INTEGRAL ?/': '', 'ANONYMOUS': '', 'BAR ?/': '', 'FUNCTION': '', 'PRODUCT': '',\n",
    "          'DEFINITION': ': ', 'TXT': ' ', 'IE/': ' ', 'IE': ' ', 'TERM': ' ', 'CELL': ' | ',\n",
    "          'CN.CODE': ' | ', 'CN.SUP.UNIT': ' | ', 'CN.CONV.RATE': ' | ', 'CN.DESC': ' | ',\n",
    "          'OVER/': ' / ', 'OVER': ' / ', 'OP.CMP TYPE=\"EQ\" ?/': ' = ', 'OP.MATH TYPE=\"PLUS\" ?/': ' + ',\n",
    "         'OP.MATH TYPE=\"DIV\" ?/': ' / ', 'OP.MATH TYPE=\"MINUS\" ?/': ' - ', 'EXPONENT': ' ',\n",
    "          'OP.MATH TYPE=\"MINUS\"': ' - ', 'OP.MATH TYPE=\"PLUS\"': ' + ', 'OP.MATH TYPE=\"MULT\"': ' * ',\n",
    "         'OP.MATH TYPE=\"CARTPROD\" ?/': ' \\u2a2f ', 'OP.MATH TYPE=\"MULT\" ?/': ' * ',\n",
    "          'OP.MATH TYPE=\"PLUSMINUS\" ?/': ' \\u00b1 ', 'FUNCTION ?/': 'f', 'OP.CMP TYPE=\"EQ\" ?/': ' = ',\n",
    "          'OP.CMP TYPE=\"AP\" ?/': ' = ', 'OP.CMP TYPE=\"NE\" ?/': '\\u2260',\n",
    "          'OP.CMP TYPE=\"EQ\"': ' = ', 'OP.MATH TYPE=\"CARTPROD\"': ' \\u2a2f ',\n",
    "         'OP.CMP TYPE=\"LT\" ?/': ' < ', 'OP.CMP TYPE=\"GT\" ?/': ' > ', 'OP.CMP TYPE=\"GE\" ?/': ' >= ',\n",
    "          'OP.CMP TYPE=\"LE\" ?/': ' <= ', '/OP.CMP': '', '/OP.MATH': ''}\n",
    "\n",
    "patterns_start = {}\n",
    "patterns_end = {}\n",
    "patterns_partial = {}\n",
    "\n",
    "for c in replacements:\n",
    "    patterns_start[c] = regex.compile(\"<%s>\"%c)\n",
    "    patterns_end[c] = regex.compile(\"</%s>\"%c)\n",
    "    patterns_partial[c] = regex.compile(\"<%s\\s.*?>\"%c, flags=regex.DOTALL)\n",
    "\n",
    "def replace_tag(txt):\n",
    "    txt = regex.sub(\"<\\?.*?>\",'\\n',txt, flags=regex.DOTALL)\n",
    "    found = set(regex.findall('<.*?>',txt,flags=regex.DOTALL))\n",
    "    found_join = ''.join(found)\n",
    "    for c in replacements:\n",
    "        (found_join,n) = regex.subn(patterns_start[c], '', found_join)\n",
    "        if n:\n",
    "            txt = regex.sub(patterns_start[c], replacements[c], txt)\n",
    "\n",
    "        (found_join,n) = regex.subn(patterns_end[c], '', found_join)\n",
    "        if n:\n",
    "            txt = regex.sub(patterns_end[c], '', txt)\n",
    "\n",
    "        (found_join,n) = regex.subn(patterns_partial[c], '', found_join)\n",
    "        if n:\n",
    "            txt = regex.sub(patterns_partial[c], replacements[c],txt)\n",
    "    \n",
    "    return txt\n",
    "\n",
    "entities = {'apos': \"'\", 'amp': '&', 'lt': '<', 'gt': '>', 'quot': '\"', '#1099': '\\u044b',\n",
    "             '#x2590': '\\u2590', '#x00BD': '1/2', '#x00BE': '3/4', '#x00BC': '1/4', '#x2154': '2/3',\n",
    "            '#x2005': ' ', '#x0167': 't', '#1199': '\\u04af', '#2022': '\\u2022', '#x201D': '\"', '#x027': \"'\",\n",
    "             '#x0022': '\"', '#x022': '\"', '#x0027': \"'\", '#160': ' ', '#128': ' ', '#146': ' ',\n",
    "             '#x201E': '\"', '#x201C': '\"', '#1110': '\\u0456', '#x22': '\"', '#x2ee': '\"', '#xab': '\\u00ab',\n",
    "             '#xbb': '\\u00bb', '#8212': '-', '#233': 'é', '#252': 'ü', '#237': 'í', '#8211': '-', '#8230': '...',\n",
    "            '#215': '×', '#243': 'ó', '#241': 'ñ', '#232': 'è', '#8217': \"'\", '#224': 'à', '#x2551': '|',\n",
    "            '#x25551': '|', '#8595': '\\u2193', '#167': '§', '#228': 'ä', '#322': 'ł', '#281': 'ę', '#299': 'ī'}\n",
    "\n",
    "def replace_entity(txt):\n",
    "    found = set(regex.findall(\"&#x(.{3,4}?);\",txt))\n",
    "    for t in found:\n",
    "        txt = regex.sub('&#x%s;'%t,chr(int(t,16)),txt)\n",
    "    found = set(regex.findall(\"&(.{,6}?);\",txt))\n",
    "    for t in found:\n",
    "        txt = regex.sub(\"&%s;\"%t,entities[t],txt)\n",
    "    return txt"
   ]
  },
  {
   "cell_type": "code",
   "execution_count": 1225,
   "metadata": {},
   "outputs": [
    {
     "name": "stdout",
     "output_type": "stream",
     "text": [
      "188 :  | 13 | Bulsofagro-Sortovi semena | 61Al. Stamboliyski Blvd., 1303 Sofia, BG\n",
      "304 :  http://www.who.int/gard/publications/GARD%20Book%202007.pdf\n",
      "415 :  Autorità di gestione del programma operativo regionale per il Lazio 2007-2013Via R. R. Garibaldi, 7\n",
      "415 :  http://www.washingtonpost.com/world/europe/turkey-says-russian-ship-allegedly-carrying-munitions-reached-syria-after-leaving cyprus/2012/01/12/gIQAhZ3HtP_story.html\n",
      "415 :  http://www.washingtonpost.com/world/europe/turkey-says-russian-ship-allegedly-carrying-munitions-reached-syria-after-leaving cyprus/2012/01/12/gIQAhZ3HtP_story.html\n",
      "430 :  Το Αξιότιμο Μέλος του Κοινοβουλίου αναφέρεται σε μια σημαντική κλινική μελέτη για το νέο εμβόλιο κατά της μηνιγγίτιδας τύπου Β, η οποία δημοσιεύθηκε πρόσφατα στο επιστημονικό περιοδικό \"The Lancet\". Επιστήμονες από το Πανεπιστήμιο της Χιλής ανακοίνωσαν μια κλινική δοκιμή του προς έγκριση εμβολίου 4CmenB σε 1 600 εφήβους. Η δοκιμή επιβεβαίωσε προηγούμενες κλινικές μελέτες, σύμφωνα με τις οποίες το εμβόλιο 4CmenB προστατεύει τα μικρά παιδιά και τους ενήλικες από τη μηνιγγίτιδα τύπου Β.\n",
      "430 :  Το εμβόλιο 4CmenB αναπτύχθηκε από τη φαρμακευτική εταιρία Novartis, η οποία κατέθεσε πρόσφατα αίτηση στον Ευρωπαϊκό Οργανισμό Φαρμάκων για άδεια κυκλοφορίας. Η νομοθεσία της ΕΕ για τα φάρμακα ορίζει ότι η ποιότητα, η ασφάλεια και η αποτελεσματικότητα ενός φαρμάκου αξιολογούνται πριν από την έκδοση της άδειας κυκλοφορίας. Η αίτηση αξιολογείται. Εάν η γνώμη του Οργανισμού είναι θετική και η Επιτροπή χορηγήσει άδεια κυκλοφορίας, το νέο εμβόλιο θα μπορεί να διατεθεί στην αγορά. \n",
      "430 :  Η ανάπτυξη του εμβολίου 4CmenB πραγματοποιήθηκε στο μεγαλύτερο μέρος της εντός της εταιρείας Novartis. Ωστόσο, η ευρωπαϊκή χρηματοδότηση της έρευνας από το 6ο Πρόγραμμα Πλαίσιο για την Έρευνα και την Ανάπτυξη (6ο ΠΠ, 2002-2006) στήριξε έμμεσα την εν λόγω προσπάθεια στα πρώτα, ουσιαστικά βήματά της. Παρασχέθηκε συνολική συνεισφορά της ΕΕ ύψους 2,3 εκατ. ευρώ στο έργο συνεργατικής έρευνας \"BacAbs\" (Αξιολόγηση των διαρθρωτικών απαιτήσεων των βακτηριοκτόνων συμβάντων μέσω συμπληρωμάτων: προς μια παγκόσμια προσέγγιση για την επιλογή νέων προς έγκριση εμβολίων). Στο εν λόγω έργο, στο οποίο συμμετείχαν εννέα εταίροι, συμπεριλαμβανομένης της Novartis, χρησιμοποιήθηκε ως μοντέλο το έργο ανάπτυξης του εμβολίου 4CmenB προκειμένου να διερευνηθεί ποιες μοριακές ιδιότητες των βακτηριακών επιφανειακών πρωτεϊνών είναι οι πλέον κατάλληλες για την ανάπτυξη του εμβολίου.\n",
      "430 :  The Honourable Member highlights an important clinical study on a new vaccine against type-B meningitis, recently reported in the scientific journal The Lancet. Scientists from the University of Chile reported on a clinical trial of the 4CmenB vaccine candidate among 1 600 teenagers. The trial confirmed previous clinical studies, which had indicated that 4CmenB is protective against type-B meningitis in young children and adults. \n",
      "430 :  The 4CmenB vaccine was developed by the pharmaceutical company Novartis, which recently filed an application to the European Medicines Agency for the marketing authorisation of the vaccine. The EU pharmaceutical legislation requires that quality, safety and efficacy of a medicinal product are evaluated before the marketing authorisation is granted. The application is under evaluation. If the opinion of the Agency is favourable and a marketing authorisation is granted by the Commission, the new vaccine could become available on the market. \n",
      "430 :  Development of the 4CmenB vaccine was in vast majority done internally by Novartis. However, European research funding from the 6th Framework Programme for Research and Development (FP6, 2002-2006) indirectly supported this endeavour in its very initial, basic steps. A total EU contribution of EUR 2.3 million was provided to the collaborative research project \"BacAbs\" (Assessment of structural requirements in complement-mediated bactericidal events: towards a global approach to the selection of new vaccine candidates). This project, which comprised nine partners, including Novartis, used the 4CmenB vaccine development project as a model to discover which molecular properties of bacterial surface proteins are most relevant for vaccine development.\n",
      "432 :  Autorità di gestione del programma operativo regionale per il Lazio 2007-2013Via R. R. Garibaldi, 7\n",
      "432 :  Managing authority regional operational programme Lazio 2007‐2013Via R. R. Garibaldi, 7\n",
      "469 :  Il progetto \"Che strada prendo?\" è proposto dall'Agenzia giornalistica 9Colonne, una cooperativa di giornalisti nata nel 1996 che attualmente occupa 12 professionisti con Ccnl giornalistico, uno staff grafico e circa 40 collaboratori. Il progetto proposto consiste nel realizzare una libreria in continuo aggiornamento con video di circa tre minuti che possano informare e spronare i giovani verso le carriere possibili, raccontando la storia di arti, mestieri e professioni a loro sconosciuti o parzialmente conosciuti. L'obiettivo è quello di presentare ai giovani con immagini e un linguaggio usuale informazioni sulle carriere possibili, la formazione necessaria per accedervi e le possibilità di apprendistato e di avviamento al lavoro.\n",
      "469 :  The \"Which road shall I take?\" project was proposed by the 9Colonne news agency, a cooperative of journalists founded in 1996 which currently employs 12 professionals covered by the National Collective Labour Agreement for journalists, a graphics department and a staff of around 40. The proposed project consists of creating a continuously updated library of videos of around three minutes long designed to inform youngsters and motivate them to consider possible careers by focusing on arts, trades and professions which they know nothing or little about. The aim is to provide young people with information, using images and everyday language, about possible careers, the training required to access them and the opportunities for apprenticeships and introductions to work.\n",
      "470 :  Tel: 91 583 52 23Correo electrónico: aalonso@sgpg.meh.es\n",
      "470 :  http://www.magrama.es/es/prensa/12.02.01 %20Intervenci%C3 %B3n%20Comisi%C3 %B3n_tcm7-190339.pdf\n",
      "470 :  http://www.magrama.es/es/prensa/12.02.01 %20Intervenci%C3 %B3n%20Comisi%C3 %B3n_tcm7-190339.pdf\n",
      "473 :  Council Recommendation (1999/519/EC) of 12 July 1999 on the limitation of the exposure of the general public to electromagnetic fields (0Hz‐300 GHz).\n",
      "474 :  http://ecdc.europa.eu/en/publications/Publications/110412_RA_North%20Africa_Libya_migration.pdf\n",
      "474 :  http://ecdc.europa.eu/en/publications/Publications/110412_RA_North%20Africa_Libya_migration.pdf\n",
      "474 :  http://www.eyv2011.eu/images/stories/pdf/EYV2011Alliance_PAVE.pdf\n",
      "476 :  http://www.imi.europa.eu/sites/default/files/uploads/documents/2nd%20Call%20Fact%20Sheets%20v2.pdf\n",
      "476 :  http://www.imi.europa.eu/sites/default/files/uploads/documents/2nd%20Call%20Fact%20Sheets%20v2.pdf\n",
      "476 :  Vgl.: http://www.hrw.org/sites/default/files/reports/ukraine1210WebVersion.pdf\n",
      "476 :  Vgl. http://www.hrw.org/sites/default/files/reports/ukraine1210WebVersion.pdf\n",
      "477 :  Zie http://www.irs.gov/newsroom/article/0,,id=254068,00.html en http://www.treasury.gov/press-center/press-releases/Documents/020712 %20Treasury%20IRS%20FATCA%20Joint%20Statement.pdf\n",
      "477 :  See http://www.irs.gov/newsroom/article/0,,id=254068,00.html and http://www.treasury.gov/press-center/press-releases/Documents/020712 %20Treasury%20IRS%20FATCA%20Joint%20Statement.pdf\n",
      "477 :  http://photos.state.gov/libraries/cameroon/231771/PDFs/Wildlife%20Trafficking%20Workshop%20Chair%20Summary%20Final%20FRENCH.pdf\n",
      "477 :  http://photos.state.gov/libraries/cameroon/231771/PDFs/Wildlife%20Trafficking%20Workshop%20Chair%20Summary%20Final%20FRENCH.pdf\n",
      "494 :  (http://ec.europa.eu/euraxess/index.cfm/rights/strategy4Researcher).\n",
      "494 :  http://ec.europa.eu/euraxess/index.cfm/rights/strategy4Researcher.\n",
      "495 :  Pokiaľ ide o konkrétnu propagáciu projektu DEHEMS, Komisia skontaktovala Euronews a projekt bol predstavený v programe Futuris. Videoklip možno nájsť na tejto adrese: http://www.youtube.com/watch?v=sX_y17Ob9bA. \n",
      "495 :  http://www.youtube.com/watch?v=sX_y17Ob9bA \n",
      "496 :  http://www.uncitral.org/uncitral/commission/working_groups/3Online_Dispute_Resolution.html.\n",
      "533 :  1. Is the Commission aware of the fact that an Italian woman has recently died — and two people have been hospitalised — after ingesting the sweetener Sorbitol (product: Sorbitol Food Grade 5Kg)?\n"
     ]
    },
    {
     "name": "stdout",
     "output_type": "stream",
     "text": [
      "533 :  5. If a production error can lead to such a great risk for public health, as in the case of Sorbitol Food Grade 5Kg, does the Commission still consider this sweetener safe enough for the European market? If so, why?\n",
      "534 :  Per il tramite del programma di apprendimento permanente la Commissione ha sostenuto nel periodo 2009-2011 la rete Mercator. Diverse reti e progetti patrocinati da programmi europei hanno tra i loro beneficiari le lingue minoritarie in Italia. È il caso della rete per la promozione della diversità linguistica (occitano), di \"Le lingue incontrano lo sport\" (friulano), o del Netzwerk für Mehrsprachigkeit und sprachliche Vielfalt in Europa — RML2Future (Europäische Akademie Bozen/Accademia Europea Bolzano) nonché di diversi altri progetti che interessano indirettamente queste comunità.\n",
      "534 :  The Commission has supported the Mercator network through the LLP in the period 2009-2011. Several networks and projects supported by EU programmes include minority languages in Italy among their beneficiaries. It is the case of the Network to Promote Linguistic Diversity (Occitan), of \"Languages meet Sport\" (Friulan), of the Netzwerk für Mehrsprachigkeit und sprachliche Vielfalt in Europa — RML2Future (Europäische Akademie Bozen/Accademia Europea Bolzano), as well as of many other projects indirectly addressing these communities. \n",
      "608 :  http://ec.europa.eu/food/animal/welfare/actionplan/3%20Final%20Report%20-%20EUPAW%20Evaluation.pdf\n",
      "663 :  http://www.ft.com/intl/cms/s/0/dfd702ee-9840-11e1-8617-00144feabdc0.html#axzz1uCRF7Tim\n",
      "663 :  http://www.ft.com/intl/cms/s/0/dfd702ee-9840-11e1-8617-00144feabdc0.html#axzz1uCRF7Tim; http://www.lavanguardia.com/economia/20120507/54290740183/gobierno-banco-de-espana-bankia.html\n",
      "663 :  http://www.organicdatanetwork.net/dw-news-detail.html?&tx_ttnews%5Btt_news%5D=658&cHash=2478f416c540770938a5aa35af7ef587.\n",
      "663 :  http://www.organicdatanetwork.net/dw-news-detail.html?&tx_ttnews%5Btt_news%5D=658&cHash=2478f416c540770938a5aa35af7ef587.\n",
      "664 :  —USD 1Recognised investment shall be limited to costs necessary prudent for the development of underground storage and the promoters must submit annual and multi-annual plans of investment every year to the regulators.\n",
      "664 :  —USD 1Any deviation of cost or execution times relative to those considered in the planning of this infrastructure must be adequately justified. The regulator may reject or revise the investment plans.\n",
      "664 :  —USD 1In the event of a breach of the provisions of these provisions or the failure of the promoter to complete the agreed plans, sanctions will be applied per the Hydrocarbon Law (34/1998).\n",
      "726 :  http://www.unhchr.ch/tbs/doc.nsf/%28Symbol%29/E.C.12.UZB.CO.1.En?Opendocument\n",
      "736 :  http://www.wwf.gr/images/pdfs/EC-reply-to-WWF-%20OlliRehn&JanezPotocnik.pdf\n",
      "736 :  http://www.wwf.gr/images/pdfs/EC‐reply-to-WWF-%20OlliRehn&JanezPotočnik.pdf\n",
      "736 :  Consultare http://ec.europa.eu/environment/waste/weee/pdf/Study%20on%20PVs%20Bio%20final.pdf\n",
      "736 :  See http://ec.europa.eu/environment/waste/weee/pdf/Study%20on%20PVs%20Bio%20final.pdf\n",
      "736 :  http://www.unece.org/env/pp/compliance/Compliancecommittee/54TableEU.html.\n",
      "753 :  Der Kommission liegen Informationen über Fälle unterschiedlicher Behandlung in Bezug auf Reisebüro-Dienstleistungen vor, nicht aber über Fälle der Art, wie sie der Herr Abgeordnete hier beschrieben hat. In der Vergangenheit haben Bürger mit ähnlichen Problemen ihre lokalen Beratungsstellen kontaktiert, die Beschwerden über die betreffenden Dienstleistungserbringer einlegen und sie, falls erforderlich, bei der Kontaktaufnahme mit den nationalen Behörden, die für die Durchsetzung von Vorschriften zuständig sind, unterstützen können. Im angesprochenen Fall könnten die Südtiroler Bürger das Europäische Verbraucherzentrum wegen weiterer Unterstützung kontaktieren (siehe: http://www.ecc-netitalia.it/tedesco/Redirect%20ECC%20IT%20Bz.htm).\n",
      "753 :  http://www.google.gr/url?sa=t&rct=j&q=&esrc=s&source=web&cd=1&ved=0CCQQFjAA&url=http%3A%2F%2Fwww.copenhageneconomics.com%2FAdmin%2FPublic%2FDWSDownload.aspx%3FFile%3D%252FFiles%252FFiler%252FIntranet%252FDocuments%252FGenerelle%2Bfiler%252F622-01%2BCE%2BFinal%2Breport%2BReview%2Bof%2BEC%2BImpact%2BAssessment%2Bon%2BAudit%2BMarket%2B01FEB2012.pdf&ei=K3mWT62iC871sgbJps24Dg&usg=AFQjCNFUtrj7hrUX7j8bVwaLi_dQYFD-vw&sig2=1j6sP1rYMwjoZ5xkovHaUw.\n",
      "753 :  http://www.google.gr/url?sa=t&rct=j&q=&esrc=s&source=web&cd=1&ved=0CCoQFjAA&url=http%3A%2F%2Fwww.sdabocconi.it%2Ffiles%2Fwp_1_JP0PYEQS7BXXANG8DJJYA61200663293.pdf&ei=53qWT8fjNZHBtAaZluyvDg&usg=AFQjCNFsI8unJ3QsQ3CIBMusx2J-t3yHsA&sig2=DP5dAmm-EXs1yAsCu0Py4w.\n",
      "753 :  http://www.google.gr/url?sa=t&rct=j&q=&esrc=s&source=web&cd=1&ved=0CCQQFjAA&url=http%3A%2F%2Fwww.copenhageneconomics.com%2FAdmin%2FPublic%2FDWSDownload.aspx%3FFile%3D%252FFiles%252FFiler%252FIntranet%252FDocuments%252FGenerelle%2Bfiler%252F622-01%2BCE%2BFinal%2Breport%2BReview%2Bof%2BEC%2BImpact%2BAssessment%2Bon%2BAudit%2BMarket%2B01FEB2012.pdf&ei=K3mWT62iC871sgbJps24Dg&usg=AFQjCNFUtrj7hrUX7j8bVwaLi_dQYFD-vw&sig2=1j6sP1rYMwjoZ5xkovHaUw.\n",
      "753 :  http://www.google.gr/url?sa=t&rct=j&q=&esrc=s&source=web&cd=1&ved=0CCoQFjAA&url=http%3A%2F%2Fwww.sdabocconi.it%2Ffiles%2Fwp_1_JP0PYEQS7BXXANG8DJJYA61200663293.pdf&ei=53qWT8fjNZHBtAaZluyvDg&usg=AFQjCNFsI8unJ3QsQ3CIBMusx2J-t3yHsA&sig2=DP5dAmm-EXs1yAsCu0Py4w.\n",
      "754 :  Il tema \"Energia\" del Settimo programma quadro di ricerca e sviluppo tecnologico (7° PQ, 2007-2013) incoraggia innovazioni radicali pubblicando inviti a presentare proposte relativi alle tecnologie future ed emergenti (Future and Emerging Technologies — FET). La tecnica alla quale fa riferimento l’onorevole parlamentare rientra in uno dei progetti finanziati dall’UE in quanto appartenente alle FET, ossia il progetto CO2SolStock. Tra i diversi risultati ottenuti grazie a soluzioni di tipo biologico per il sequestro del carbonio figura la messa a punto di un approccio ecosistemico, realizzato dopo aver scoperto che l’interazione tra alcuni alberi, funghi e batteri porta alla precipitazione del carbonato di calcio nei suoli acidi circostanti e al di sotto delle radici dell’albero interessato.\n",
      "754 :  The Energy Theme of the Seventh Framework Programme for Research and Technological Development (FP7, 2007-2013) has been encouraging radical breakthroughs, through the publication of calls for proposals dealing with Future and Emerging Technologies (FET). The project mentioned by the Honourable Member is one of these FET funded projects called CO2SolStock. Amongst several results, related to bio-inspired solutions for carbon sequestration, an ecosystem management approach was developed based on the discovery of the interaction between some trees, fungi and bacteria, leading to the precipitation of calcium carbonate in acidic soils around and below the tree roots.\n",
      "754 :  http://ec.europa.eu/research/participants/portal/page/searchcalls;efp7_SESSION_ID=yWhpP9qTS7fTtKDg6K6LkDwswtZkTlPy7vYT8mJ1VPhqcGx0gN2v!-204796060?state=open&theme=health.\n",
      "754 :  http://ec.europa.eu/research/participants/portal/page/searchcalls;efp7_SESSION_ID=yWhpP9qTS7fTtKDg6K6LkDwswtZkTlPy7vYT8mJ1VPhqcGx0gN2v!-204796060?state=open&theme=health.\n",
      "754 :  Risk and safety on the Internet — the perspective of European children, disponibile all’indirizzo http://www2.lse.ac.uk/media@lse/research/EUKidsOnline/EU%20Kids%20II%20(2009-11)/EUKidsOnlineIIReports/D4FullFindings.pdf\n",
      "754 :  http://www2.lse.ac.uk/media@lse/research/EUKidsOnline/EU%20Kids%20II%20(2009-11)/EUKidsOnlineIIReports/D4FullFindings.pdf.\n",
      "758 :  http://www.wwf.gr/index.php?option=com_content&view=article&id=847%3Awwf-&catid=70%3A2008-09-16-12-10-46&Itemid=90\n",
      "758 :  http://www.wwf.gr/index.php?option=com_content&view=article&id=847 %3Awwf-&catid=70 %3A2008-09-16-12-10-46&Itemid=90\n",
      "758 :  http://wayback.archive-it.org/1365/20090215072750/http://www.coe.int/t/e/legal_affairs/legal_co-operation/biological_safety%2C_use_of_animals/farming/Rec%20Muscovy%20ducks%20E%201999.asp; http://wayback.archive-it.org/1365/20090215072727/http://www.coe.int/t/e/legal_affairs/legal_co-operation/biological_safety%2C_use_of_animals/farming/Rec%20geese.asp\n",
      "758 :  http://wayback.archive-it.org/1365/20090215072750/http://www.coe.int/t/e/legal_affairs/legal_cooperation/biological_safety%2C_use_of_animals/farming/Rec%20Muscovy%20ducks%20E%201999.asp\n",
      "759 :  http://eurojust.europa.eu/doclibrary/Eurojust-framework/jitsfunding/Guide%20-%20How%20to%20apply%20for%20funding/EN_JIT_Funding_Project_Guide_update.pdf\n",
      "759 :  http://ec.europa.eu/research/participants/portal/page/searchcalls;efp7_SESSION_ID=yWhpP9qTS7fTtKDg6K6LkDwswtZkTlPy7vYT8mJ1VPhqcGx0gN2v!-204796060?state=open&theme=health.\n",
      "759 :  http://ec.europa.eu/research/participants/portal/page/searchcalls;efp7_SESSION_ID=yWhpP9qTS7fTtKDg6K6LkDwswtZkTlPy7vYT8mJ1VPhqcGx0gN2v!-204796060?state=open&theme=health.\n",
      "760 :  https://twitter.com/#!/search/%23CamaraDeGas; https://twitter.com/jorgeatm/status/219842049166417920.\n",
      "760 :  https://twitter.com/#!/search/%23CamaraDeGas; https://twitter.com/jorgeatm/status/219842049166417920.\n",
      "761 :  http://ec.europa.eu/transparency/regcomitology/index.cfm?do=search.documentdetail documentdetail& XOvfOQKYHt67nl0gDR9EQ0pDU4MfDGIJHglKuEmrBsRhxbx1TISJ2Mfg5DtxY23N.\n",
      "761 :  http://ec.europa.eu/transparency/regcomitology/index.cfm?do=search.documentdetail&XOvfOQKYHt67nl0gDR9EQ0pDU4MfDGIJHglKuEmrBsRhxbx1TISJ2Mfg5DtxY23N\n",
      "761 :  http://ec.europa.eu/homeaffairs/news/intro/docs/20110920/UA%20VLAP%201st%20Progress%20Report%20SEC%202011 %201076_F_EN_DOCUMENT_TRAVAIL_SERVICE.pdf\n",
      "762 :  Siehe: http://www.igdtp.eu/Documents/SRA%20Complete%20web-version_July%2014_2011.pdf\n",
      "762 :  Siehe: http://www.igdtp.eu/Documents/Draft%20Deployment%20Plan_Dec2011.pdf\n",
      "762 :  See at http://www.igdtp.eu/Documents/SRA%20Complete%20web-version_July%2014_2011.pdf\n",
      "762 :  See at http://www.igdtp.eu/Documents/Draft%20Deployment%20Plan_Dec2011.pdf\n"
     ]
    },
    {
     "name": "stdout",
     "output_type": "stream",
     "text": [
      "764 :  Videoklipp: http://youtu.be/PcIHS0YlNm0.\n",
      "764 :  Video extract: http://youtu.be/PcIHS0YlNm0.\n",
      "786 :  http://en.wikipedia.org/wiki/Sea_Garden_%28Varna%29.\n",
      "786 :  http://en.wikipedia.org/wiki/Sea_Garden_%28Varna%29.\n",
      "786 :  http://ec.europa.eu/research/participants/portal/page/searchcalls;efp7_SESSION_ID=yWhpP9qTS7fTtKDg6K6LkDwswtZkTlPy7vYT8mJ1VPhqcGx0gN2v!-204796060?state=open&theme=health.\n",
      "786 :  \"Tackling Crime in our Digital Age: Establishing a European Cybercrime Centre\" http://ec.europa.eu/home-affairs/doc_centre/crime/docs/Communication%20-%20European%20Cybercrime%20Centre.pdf\n",
      "786 :  http://www.lcie.org/docs/Action%20Plans/Bulgarian_Bear_Action_Plan_ENG.pdf, το οποίο περιλαμβάνει τις καλύτερες διαθέσιμες επιστημονικές πληροφορίες σχετικά με την κατανομή της καφέ αρκούδας στη Βουλγαρία.\n",
      "786 :  http://www.lcie.org/docs/Action%20Plans/Bulgarian_Bear_Action_Plan_ENG.pdf, which includes the best available scientific information on the distribution of the brown bear in Bulgaria.\n",
      "787 :  http://www.ft.com/cms/s/0/e36f37ce-ebb4-11e1-985a-00144feab49a.html#axzz24CcJQtt6, http://money.cnn.com/2012/08/16/news/companies/standard-chartered-new-york/index.html, http://online.wsj.com/article/SB10000872396390444233104577591311307733418.html\n",
      "787 :  http://www.ft.com/cms/s/0/e36f37ce-ebb4-11e1-985a-00144feab49a.html#axzz24CcJQtt6,\n",
      "787 :  http://goo.gl/3iDEf e Corriere del Veneto 8.6.2012 http://goo.gl/7WzrK.\n",
      "787 :  See Mattino di Padova, 9.6.2012, http://goo.gl/B9XYB, and Giornale di Vicenza, 9.6.2012, http://goo.gl/3iDEf, and Corriere del Veneto, 8.6.2012, http://goo.gl/7WzrK.\n",
      "788 :  http://www.eubic.org/Position%20papers/2008.12.01 %20Common%20Principles.pdf\n",
      "788 :  http://www.eubic.org/Position%20papers/2008.12.01 %20Common%20Principles.pdf\n",
      "789 :  https://docs.google.com/spreadsheet/ccc?key=0Ajg1MGYerw9NdHhyMWFLRUxUcVRvMkdBd01xOXNLTWc#gid=0.\n",
      "789 :  https://docs.google.com/spreadsheet/ccc?key=0Ajg1MGYerw9NdHhyMWFLRUxUcVRvMkdBd01xOXNLTWc#gid=0.\n",
      "789 :  http://greenpeace.hu/up_files/1319446062Almasfuzito_egyseges_kornyezethasznalati_es_mukodesi_engedely.pdf\n",
      "789 :  http://greenpeace.hu/up_files/13192002851318517072Lorber_szakvelemeny_angol_20111013.pdf\n",
      "789 :  http://greenpeace.hu/up_files/1319446062Almasfuzito_egyseges_kornyezethasznalati_es_mukodesi_engedely.pdf\n",
      "789 :  http://greenpeace.hu/up_files/13192002851318517072Lorber_szakvelemeny_angol_20111013.pdf\n",
      "789 :  http://greenpeace.hu/up_files/1319446062Almasfuzito_egyseges_kornyezethasznalati_es_mukodesi_engedely.pdf\n",
      "789 :  http://greenpeace.hu/up_files/13192002851318517072Lorber_szakvelemeny_angol_20111013.pdf\n",
      "789 :  http://greenpeace.hu/up_files/1319446062Almasfuzito_egyseges_kornyezethasznalati_es_mukodesi_engedely.pdf\n",
      "789 :  http://greenpeace.hu/up_files/13192002851318517072Lorber_szakvelemeny_angol_20111013.pdf\n",
      "806 :  http://www.treasury.gov/press-center/press-releases/Documents/020712 %20Treasury%20IRS%20FATCA%20Joint%20Statement.pdf\n",
      "806 :  http://www.treasury.gov/press-center/press-releases/Documents/020712 %20Treasury%20IRS%20FATCA%20Joint%20Statement.pdf\n",
      "806 :  http://www.treasury.gov/press-center/press-releases/Documents/020712 %20Treasury%20IRS%20FATCA%20Joint%20Statement.pdf\n",
      "806 :  Relazione dell’USDA EU27 annual biofuels report, 2011: http://gain.fas.usda.gov/Recent%20GAIN%20Publications/Biofuels%20Annual_The%20Hague_EU-27_6-22-2011.pdf\n",
      "806 :  USDA report \"EU‐27 annual biofuels report, 2011\": http://gain.fas.usda.gov/Recent%20GAIN%20Publications/Biofuels%20Annual_The%20Hague_EU‐27_6-22-2011.pdf\n",
      "806 :  Directive 2011/92/EU of the European Parliament and of the Council of 13December 2011 on combating the sexual abuse and sexual exploitation of children and child pornography, and replacing Council Framework Decision 2004/68/JHA, OJ L 335, 17.12.2011, p. 1.\n",
      "806 :  BirdLife — EEB — WWF. LIFE position statement (http://www.worldbirdwatch.org/eu/pdfs/2012Jan_BLE_WWWF_EEBPositionLIFE.pdf), 19th January 2012.\n",
      "806 :  BirdLife — EEB — WWF. LIFE position statement (http://www.worldbirdwatch.org/eu/pdfs/2012Jan_BLE_WWWF_EEBPositionLIFE.pdf), 19 January 2012.\n",
      "807 :  Wie sich aus aktuellen Pressemeldungen ergibt, gehörte der Attentäter von Toulouse den radikalislamischen Dschihad-Salafisten an. Stimmen der belgischen Staatssicherheit zufolge könne ein ähnlicher Anschlag jederzeit auch an einem beliebigen Ort Belgiens geschehen. Hier können die Dschihad-Salafisten, deren Gruppe sich Sharia4Belgium nennt, ungehindert agieren. Die Hassprediger von Sharia4Belgium, allen voran Fouad Belkacem, können hier unter dem Schutz des Gesetzes frei ihre Hetze gegen die westlichen Gesellschaften und ihre Grundwerte betreiben und somit als Brandbeschleuniger des islamischen Terrorismus in Europa wirken.\n",
      "807 :  1. Ist der Kommission diese Gruppe bekannt? Wenn ja, über welche Netzwerke verfügt diese Gruppe in Europa? Mit welchen Organisationen in Europa arbeitet Sharia4Belgium zusammen?\n",
      "807 :  2. Ist bekannt, aus welchen Quellen sich Sharia4Belgium finanziert?\n",
      "807 :  According to current press reports, the attack in Toulouse was the work of a member of a radical Islamic Salafist jihadist group. Belgian state security authorities have indicated that a similar attack could occur anywhere throughout Belgium at any time. The Salafist jihadists, organised under the name Sharia4Belgium, can operate without hindrance in the country. Acting under the protection of the law, the hate preachers of Sharia4Belgium, chief among them, Fouad Belkacem, are free to peddle their rabble-rousing propaganda against western society and its fundamental values, thus fanning the flames of Islamic terrorism in Europe.\n",
      "807 :  Is the Commission aware of this group? If so, what networks does this group have in Europe? With which organisations in Europe does Sharia4Belgium collaborate?\n",
      "807 :  Is it known how Sharia4Belgium finances itself?\n",
      "836 :  hernieuwbare%20bronnen%20in%20Nederland%202009-2010.pdf\n",
      "836 :  http://www.pbl.nl/sites/default/files/cms/publicaties/PBL-notitie%20Doorrekening%20motie%20Halsema.pdf\n",
      "836 :  https://www.agentschapnl.nl/sites/default/files/bijlagen/Voortgangsrapportage%20energie%20uit%20. hernieuwbare%20bronnen%20in%20Nederland%202009-2010.pdf\n",
      "836 :  http://www.pbl.nl/sites/default/files/cms/publicaties/PBL-notitie%20Doorrekening%20motie%20Halsema.pdf\n",
      "837 :  Véase: http://www.eutransportghg2050.eu/cms/assets/Uploads/Reports/EU-Transport-GHG-2050-II-Task-8-draftfinal14Feb12.pdf\n",
      "837 :  http://www.eutransportghg2050.eu/cms/assets/Uploads/Reports/EU‐Transport-GHG-2050-II-Task-8-draftfinal14Feb12.pdf.\n",
      "837 :  Directive 2011/93/EU of the European Parliament and of the Council of 13December 2011 on combating the sexual abuse and sexual exploitation of children and child pornography, and replacing Council Framework Decision 2004/68/JHA, OJ L 335, 17.12.2011, p. 1.\n",
      "891 :  International Diabetes Federation (Nemzetközi Diabétesz Szövetség), IDF Diabetes Atlas, 3. kiadás, 2006, Brüsszel http://www.diabetesatlas.org/sites/default/files/IDF%20Diabetes%20Atlas-2007%20(3rd%20edition).pdf\n",
      "891 :  Diabetes expenditure, burden of disease and management in 5 EU countries, 2012 http://www2.lse.ac.uk/LSEHealthAndSocialCare/research/LSEHealth/MTRG/LSEDiabetesReport26Jan2012.pdf\n",
      "1015 :  Specifikacije glede stresnih testov, o katerih sta se dogovorila skupina evropskih regulatorjev za jedrsko varnost (ENSREG) in Komisija, določajo sledeča štiri osrednja področja ocenjevanja: izjemni naravni dogodki (potresi, poplave, izjemne vremenske razmere), odziv obratov na dolgotrajno izgubo električne energije in/ali izgubo končnega ponora toplote (ne glede na začetni vzrok) in obvladovanje večjih nesreč; glej: http://www.ensreg.eu/sites/default/files/EU%20Stress%20tests%20specifications_1.pdf\n",
      "1015 :  http://www.ensreg.eu/sites/default/files/EU%20Stress%20Test%20Peer%20Review%20Final%20Report_0.pdf\n",
      "1015 :  The specifications of the stress tests, which were agreed upon by the European Nuclear Safety Regulators Group (ENSREG) and the Commission, define the following main areas of assessment: extreme natural events (earthquake, flooding, extreme weather conditions), response of the plants to prolonged loss of electric power and/or loss of the ultimate heat sink (irrespective of the initiating cause) and severe accident management; see at http://www.ensreg.eu/sites/default/files/EU%20Stress%20tests%20specifications_1.pdf\n",
      "1015 :  http://www.ensreg.eu/sites/default/files/EU%20Stress%20Test%20Peer%20Review%20Final%20Report_0.pdf\n",
      "1015 :  Relazioni pubbliche europee di valutazione, http://www.ema.europa.eu/ema/index.jsp?curl=%2Fpages%2Fmedicines%2Flanding%2Fepar_search.jsp&mid=WC0b01ac058001d124&searchTab=searchByKey&alreadyLoaded=true&isNewQuery=true&status=Authorised&status=Withdrawn&status=Suspended&status=Refused&keyword=contraception&keywordSearch=Submit&searchType=ti&taxonomyPath=&treeNumber=&searchGenericType=generics.\n",
      "1015 :  European Public Assessment Reports, http://www.ema.europa.eu/ema/index.jsp?curl=%2Fpages%2Fmedicines%2Flanding%2Fepar_search.jsp&mid=WC0b01ac058001d124&searchTab=searchByKey&alreadyLoaded=true&isNewQuery=true&status=Authorised&status=Withdrawn&status=Suspended&status=Refused&keyword=contraception&keywordSearch=Submit&searchType=ti&taxonomyPath=&treeNumber=&searchGenericType=generics.\n",
      "1015 :  http://www.eda.admin.ch/etc/medialib/downloads/edazen/topics/intla/humlaw.Par.0057.File.tmp/Montreux%20Document%20(e).pdf\n",
      "1015 :  Montreux document: http://www.eda.admin.ch/etc/medialib/downloads/edazen/topics/intla/humlaw.Par.0057.File.tmp/Montreux%20Document%20(e).pdf and International Code of Conduct: http://www.icoc-psp.org/uploads/INTERNATIONAL_CODE_OF_CONDUCT_Final_without_Company_Names.pdf\n",
      "1015 :  http://eur-lex.europa.eu/Notice.do?val=570952 %3Acs cs& lang=nl nl& list=570952 %3Acs%2C&pos=1&page=1&nbl=1&pgs=10&hwords=.\n",
      "1015 :  http://ec.europa.eu/research/participants/portal/page/searchcalls;efp7_SESSION_ID=TZnCQxzT7cQCbTsYnmQ4vrSzg3D9By1yfnxHQlrFxsfVRjnr3CxS!-598335810?state=open&theme=health.\n",
      "1015 :  http://ec.europa.eu/research/participants/portal/page/searchcalls;efp7_SESSION_ID=yWhpP9qTS7fTtKDg6K6LkDwswtZkTlPy7vYT8mJ1VPhqcGx0gN2v!-204796060?state=open&theme=health.\n",
      "1016 :  In 2012, the Lifelong Learning Programme will fund, among others, the project \"Signs2Cross: Linguistic mobility for Deaf people in Europe,\" presented by Hochschule Magdeburg-Stendal, for an amount of approximately EUR 325 000. \n"
     ]
    },
    {
     "name": "stdout",
     "output_type": "stream",
     "text": [
      "1050 :  http://www.israelnationalnews.com/News/News.aspx/159589#. UEZQ_9ZlTAG.\n",
      "1050 :  http://www.israelnationalnews.com/News/News.aspx/159589#.UEZQ_9ZlTAG.\n",
      "1052 :  MTE-008468/2012Tweġiba mogħtija mir-Rappreżentanta Għolja/il-Viċi President Ashton f'isem il-Kummissjoni\n",
      "1052 :  http://epp.eurostat.ec.europa.eu/NavTree_prod/AppLinkServices?pid=273_39411782_273_211978_211978&lang=en&appId=nui&appUrl=http%3A%2F%2Fappsso.eurostat.ec.europa.eu%2Fnui%2Fshow.do%3Fdataset%3Dprc_hicp_cann%26lang%3Den\n",
      "1052 :  http://www.doingbusiness.org/~/media/GIAWB/Doing%20Business/Documents/Annual-Reports/English/DB13-full-report.pdf \n",
      "1052 :  http://epp.eurostat.ec.europa.eu/NavTree_prod/AppLinkServices?pid=273_39411782_273_211978_211978&lang=en&appId=nui&appUrl=http%3A%2F%2Fappsso.eurostat.ec.europa.eu%2Fnui%2Fshow.do%3Fdataset%3Dprc_hicp_cann%26lang%3Den.\n",
      "1052 :  http://www.doingbusiness.org/reports/global-reports/doing-business-2013; http://www.doingbusiness.org/data/exploreeconomies/greece; http://www.doingbusiness.org/~/media/GIAWB/Doing%20Business/Documents/Annual-Reports/English/DB13-full-report.pdf\n",
      "1053 :  http://eurojust.europa.eu/doclibrary/corporate/eurojust%20Annual%20Reports/Annual%20Report%202011/Annual-Report-2011-EN.pdf\n",
      "1053 :  De uitzending van Zembla vindt u hier: http://zembla.vara.nl/Afleveringen.1973.0.html?&tx_ttnews%Btt_news%5D=70881&tx_ttnews%5BbackPid%5D=1974&cHash=9f7692088247749d998e2decc748c144.\n",
      "1053 :  Voor nadere informatie zie http://www.dnb.nl/en/binaries/Overview%20of%20Financial%20Stability,%20Spring%202012_tcm47-273633.pdf, http://www.dnb.nl/binaries/OFS_Najaar12_WEB_tcm46-279389.pdf, http://www.nma.nl/images/Samenvatting%20hypothekenonderzoek22-188438.pdf\n",
      "1053 :  The Zembla programme can be found at: http://zembla.vara.nl/Afleveringen.1973.0.html?&tx_ttnews%Btt_news%5D=70881&tx_ttnews%5BbackPid%5D=1974&cHash=9f7692088247749d998e2decc748c144\n",
      "1053 :  For additional information see: http://www.dnb.nl/en/binaries/Overview%20of%20Financial%20Stability,%20Spring%202012_tcm47-273633.pdf, http://www.dnb.nl/binaries/OFS_Najaar12_WEB_tcm46-279389.pdf and http://www.nma.nl/images/Samenvatting%20hypothekenonderzoek22-188438.pdf\n",
      "1053 :  De uitzending van Zembla vindt u hier: http://zembla.vara.nl/Afleveringen.1973.0.html?&tx_ttnews%Btt_news%5D=70881&tx_ttnews%5BbackPid%5D=1974&cHash=9f7692088247749d998e2decc748c144.\n",
      "1053 :  The Zembla programme can be found at: http://zembla.vara.nl/Afleveringen.1973.0.html?&tx_ttnews%Btt_news%5D=70881&tx_ttnews%5BbackPid%5D=1974&cHash=9f7692088247749d998e2decc748c144.\n",
      "1054 :  http://cfca.europa.eu/pages/docs/basic%20docs/Annual%20Report%202011_edited.pdf\n",
      "1054 :  http://www.era.europa.eu/Document-Register/PRR%20Documents/2011-DB%20Fernverkehr%20AG.pdf\n",
      "1054 :  http://www.era.europa.eu/Document-Register/PRR%20Documents/2011-DB%20Fernverkehr%20AG.pdf\n",
      "1054 :  http://corporateeurope.org/sites/default/files/Letter%20to%20the%20Commission%20on%20water%20privatization%20conditionalities.pdf\n",
      "1054 :  http://corporateeurope.org/sites/default/files/Letter%20to%20the%20Commission%20on%20water%20privatization%20conditionalities.pdf\n",
      "1054 :  http://www.sepg.pap.minhap.gob.es/Presup/PGE2013Proyecto/MaestroDocumentos/PGE-ROM/doc/2/3/1/3/1/N_13_A_V_2_O_2_0_1195_INVROOT_17010.PDF\n",
      "1054 :  http://www.sepg.pap.minhap.gob.es/Presup/PGE2013Proyecto/MaestroDocumentos/PGE-ROM/doc/2/3/1/3/1/N_13_A_V_2_O_2_0_1195_INVROOT_17010.PDF\n",
      "1054 :  http://www.sepg.pap.minhap.gob.es/Presup/PGE2013Proyecto/MaestroDocumentos/PGE-ROM/doc/2/3/1/3/1/N_13_A_V_2_O_2_0_1195_INVROOT_17010.PDF\n",
      "1054 :  http://www.sepg.pap.minhap.gob.es/Presup/PGE2013Proyecto/MaestroDocumentos/PGE-ROM/doc/2/3/1/3/1/N_13_A_V_2_O_2_0_1195_INVROOT_17010.PDF\n",
      "1054 :  http://eur-lex.europa.eu/LexUriServ/%20LexUriServ.do?uri=COM:2011:0690:FIN:EN:PDF\n",
      "1054 :  Proposal for a Council decision on the accession of the European Union to the Protocol for the Protection of the Mediterranean Sea against pollution resulting from exploration and exploitation of the continental shelf and the seabed and its subsoil, http://eur-lex.europa.eu/LexUriServ/%20LexUriServ.do?uri=COM:2011:0690:FIN:EN:PDF.\n",
      "1056 :  The Commission will recall its proposal for a regulation on the Connecting Europe Facility (COM(2011)0665), which, if adopted as it stands, will require all homes to have access to at least 30Mb download speed by 2020.\n",
      "1056 :  Firstly, a clarification, the Connecting Europe Facility does not require all homes to have access to at least 30Mb but aims to facilitate such a result. The Digital Agenda for Europe (DAE), one of the seven flagship initiatives of the Europe 2020 strategy, has set up as one of the goals to be achieved by 2020 to ensure that all Europeans have access to much higher Internet speeds of above 30 Mbps.\n",
      "1056 :  A se vedea la: http://www.ensreg.eu/sites/default/files/EU%20Stress%20tests%20specifications_0.pdf\n",
      "1056 :  See at: http://www.ensreg.eu/sites/default/files/EU%20Stress%20tests%20specifications_0.pdf .\n",
      "1057 :  http://intelligence.house.gov/sites/intelligence.house.gov/files/documents/Huawei-ZTE%20Investigative%20Report%20(FINAL).pdf\n",
      "1057 :  http://intelligence.house.gov/sites/intelligence.house.gov/files/documents/Huawei-ZTE%20Investigative%20Report%20(FINAL).pdf\n",
      "1057 :  http://ec.europa.eu/food/animal/welfare/actionplan/3 %20Final%20Report%20-%20EUPAW%20Evaluation.pdf\n",
      "1057 :  http://ec.europa.eu/food/animal/welfare/actionplan/3%20Final%20Report%20-%20EUPAW%20Evaluation.pdf\n",
      "1057 :  http://ec.europa.eu/enterprise/newsroom/cf/itemdetail.cfm?item_id=6227&lang=en&title=Study%2Don%2Dthe%2Dimpact%2Dof%2DEU%2Dpolicies%2Dand%2Dthe%2Dmeasures%2Dundertaken%2Din%2Dtheir%2Dframework%2Don%2Dtourism\n",
      "1057 :  http://ec.europa.eu/enterprise/newsroom/cf/itemdetail.cfm?item_id=6227&lang=en&title=Study%2Don%2Dthe%2Dimpact%2Dof%2DEU%2Dpolicies%2Dand%2Dthe%2Dmeasures%2Dundertaken%2Din%2Dtheir%2Dframework%2Don%2Dtourism\n",
      "1057 :  Directive 2011/92/EU of the European Parliament and of the Council of 13December 2011 on combating the sexual abuse and sexual exploitation of children and child pornography, and replacing Council Framework Decision 2004/68/JHA, OJ L 335, 17.12.2011, p. 1.\n",
      "1057 :  Cfr.: http://www.ensreg.eu/sites/default/files/EU%20Stress%20Test%20Peer%20Review%20Final%20Report_0.pdf\n",
      "1057 :  See at: http://www.ensreg.eu/sites/default/files/EU%20Stress%20Test%20Peer%20Review%20Final%20Report_0.pdf\n",
      "1058 :  For its part, the Commission works towards elimination of prohibited forms of child labour, based on the 2010 Council conclusions on Child Labour, the 2011Communication on an EU Agenda for the Rights of the Child and the ILO International Programme on Elimination of Child Labour. The 2012 EU Strategic Framework and Action Plan on Human Rights foresee EU participation in the 2013 Global Conference on Child Labour and promotion of updated hazardous work lists under ILO Convention No 182. \n",
      "1058 :  The EU has continuously strived to find alternative approaches that avoid testing on animals wherever scientifically possible. The SEURAT-1 initiative, a recent public-private partnership between the Commission and the cosmetics industry, provides EUR 50 million to fill gaps in scientific knowledge and accelerate the development of non-animal test methods. It focuses on repeated dose toxicity. Efforts will increase when Directive 2010/63/EU enters into force, as it requires, notably, establishing an EU reference laboratory for the development of alternative methods, and for Member States to identify and nominate relevant laboratories for validation studies. Since 1992, the EU contributed ca. EUR 200 million to 3Rs research, with ca. EUR 65 million so far under FP7, and more funding available in its current call.\n",
      "1058 :  Directive 2010/63/EU on the protection of animals used for scientific purposes is replacing Directive 86/609/EEC and must be transposed into national legislation by 10 November 2012. It was adopted specifically to improve the protection of animals used for scientific purposes in the EU as well as to promote the development, validation and application of the principle of the 3Rs. Directive 2010/63/EU has a specific emphasis on the protection of non-human primates and a larger scope so that it also includes cephalopods and animals used for education, training, and in basic research.\n",
      "1058 :  Ref. page 13 \"Support to Rules\" in EASA's Business Plan 2012-2016 (http://easa.europa.eu/management-board/docs/management-board-meetings/2011/04/Business%20Plan%202012-2016.pdf).\n",
      "1058 :  http://www.ensreg.eu/sites/default/files/EU%20Stress%20Test%20Peer%20Review%20Final%20Report_0.pdf\n",
      "1058 :  As also noted in the Commission's reply to Written Question E-005892/12, stress tests identified amongst the main areas of improvement to be considered the importance of proper performance of periodic safety reviews, the strengthening of defence-in-depth measures against extreme natural hazards, and the implementation of measures to protect containment integrity: http://www.ensreg.eu/sites/default/files/EU%20Stress%20Test%20Peer%20Review%20Final%20Report_0.pdf\n",
      "1058 :  http://www.ft.com/cms/s/0/65f494e6-f5e7-11e1-a6c2-00144feabdc0.html#axzz25aEZ7Ukd.\n",
      "1058 :  http://www.ft.com/cms/s/0/65f494e6-f5e7-11e1-a6c2-00144feabdc0.html#axzz25aEZ7Ukd.\n",
      "1058 :  http://www.cc.cec/sg/vista/home;VISTA_JSESSIONID=D2TxQZXLGjndT5rxQjbd2KZnG3RNPGTt2j1MFqy4v2sn34jYjlmQ!-530638903?documentDetails&DocRef=COM/2011/0933&ComCat=SPINE&ticket=ST-623347-xme6FCEALZnINtsCsu7OILszkPfQQ8EqoaWs4KeRwKI-wkGjxchnStjMueiTZpKjZG-861fhoZztu22HghRTnHHU0 \n",
      "1058 :  Youth Opportunity Initiative: http://www.cc.cec/sg/vista/home;VISTA_JSESSIONID=D2TxQZXLGjndT5rxQjbd2KZnG3RNPGTt2j1MFqy4v2sn34jYjlmQ!-530638903?documentDetails&DocRef=COM/2011/0933&ComCat=SPINE&ticket=ST-623347-xme6FCEALZnINtsCsu7OILszkPfQQ8EqoaWs4KeRwKI-wkGjxchnStjMueiTZpKjZG-861fhoZztu22HghRTnHHU0\n",
      "1058 :  http://www.leaseurope.org/uploads/Code%20of%20Best%20Practice.pdf\n",
      "1058 :  3Rs: to replace, reduce and refine the use of animals in procedures.\n",
      "1061 :  This question concerns the European Environment Agency and its relationship with, and contracts it has awarded to, Ace&Ace, a Danish video production company based in Copenhagen. On at least seven occasions on which no public procurement procedures were carried out, contracts worth around EUR 370 000 were awarded, five of which were subcontracted through another firm, N1Creative, based in London. Can the Commission provide clarifications in respect of public procurement procedure EEA/COM/10/001 — lot 5, with a budget ceiling of EUR 1 000 000, which contained conditions that could only be met by Ace&Ace?\n",
      "1061 :  http://www.easa.europa.eu/docs/quality/PO.HR.00180_Code%20of%20Conduct%20for%20the%20staff%20of%20EASA.pdf\n",
      "1061 :  http://www20.gencat.cat/portal/site/DAR/menuitem.7d5a409fbe273a69cc497c10d8c0e1a0/?vgnextoid=b014361d78b24110VgnVCM1000000b0c1e0aRCRD&vgnextchannel=b014361d78b24110VgnVCM1000000b0c1e0aRCRD&vgnextfmt=detall&contentid=a54f4afef4e7f110VgnVCM1000008d0c1e0aRCRD.\n",
      "1061 :  http://www20.gencat.cat/portal/site/DAR/menuitem.7d5a409fbe273a69cc497c10d8c0e1a0/?vgnextoid=b014361d78b24110VgnVCM1000000b0c1e0aRCRD&vgnextchannel=b014361d78b24110VgnVCM1000000b0c1e0aRCRD&vgnextfmt=detall&contentid=a54f4afef4e7f110VgnVCM1000008d0c1e0aRCRD.\n",
      "1061 :  A comunicação de 25 de setembro de 2012: http://www.vm.fi/vm/en/03_press_releases_and_speeches/01_press_releases/20120925JointS/name.jsp\n",
      "1061 :  The statement of 25 September 2012 http://www.vm.fi/vm/en/03_press_releases_and_speeches/01_press_releases/20120925JointS/name.jsp\n",
      "1062 :  http://wayback.archive-it.org/1365/20110117124301/http://www.coe.int/t/f/affaires_juridiques/coop%E9ration_juridique/s%E9curit%E9_biologique%2C_utilisation_des_animaux/elevage/2Rec%20oies%20domestiques%20F%201999.asp.\n",
      "1062 :  http://wayback.archive-it.org/1365/20110117124257/http://www.coe.int/t/f/affaires_juridiques/coop%E9ration_juridique/s%E9curit%E9_biologique%2C_utilisation_des_animaux/elevage/2Rec%20canards%20de%20Barbarie%20F%201999.asp.\n",
      "1062 :  http://wayback.archive-it.org/1365/20090215072750/http://www.coe.int/t/e/legal_affairs/legal_cooperation/biological_safety%2C_use_of_animals/farming/Rec%20Muscovy%20ducks%20E%201999.asp.\n",
      "1062 :  http://wayback.archive-it.org/1365/20090215072750/http://www.coe.int/t/e/legal_affairs/legal_cooperation/biological_safety%2C_use_of_animals/farming/Rec%20Muscovy%20ducks%20E%201999.asp.\n",
      "1079 :  In base ai dati contenuti nei seguenti articoli del Tiroler Tageszeitung: \"Gurgiser sieht Fahrverbot aufgeweicht, Land beruhigt\" del 22 settembre 2012 (http://www.tt.com/Tirol/5448217-2/gurgiser-sieht-fahrverbot-aufgeweicht-land-beruhigt.csp) e \"Tiroler Wirtschaft kritisiert strengeres Nachtfahrverbot\" del 26 ottobre 2010 (http://www.tt.com/%C3 %9Cberblick/Chronik/ChronikTirol/5614329-6/tiroler-wirtschaft-kritisiert-strengeres-lkw-nachtfahrverbot.csp).\n"
     ]
    },
    {
     "name": "stdout",
     "output_type": "stream",
     "text": [
      "1079 :  (http://www.tt.com/%C3%9Cberblick/Chronik/ChronikTirol/5614329-6/tiroler-wirtschaft-kritisiert-strengeres-lkw-nachtfahrverbot.csp).\n",
      "1080 :  http://www.sdshhlaw.com/pdfs/European%20Commission%20on%20Behalf%20of%20the%20European%20Union%20(Revised).pdf\n",
      "1080 :  http://www.sdshhlaw.com/pdfs/Professors%20Castermans.pdf\n",
      "1080 :  http://www.sdshhlaw.com/pdfs/European%20Commission%20on%20Behalf%20of%20the%20European%20Union%20(Revised).pdf\n",
      "1080 :  http://www.sdshhlaw.com/pdfs/Professors%20Castermans.pdf\n",
      "1080 :  http://www.ft.com/intl/cms/s/0/a5f8007e-b86f-11e1-a2d6-00144feabdc0.html#axzz2EpHZD7Vx.\n",
      "1080 :  http://www.ft.com/intl/cms/s/0/a5f8007e-b86f-11e1-a2d6-00144feabdc0.html#axzz2EpHZD7Vx.\n",
      "1080 :  Igangværende for øjeblikket. Udkastet er tilgængeligt her: http://ec.europa.eu/transparency/regcomitology/index.cfm?do=search.documentdetail&ESw69lW1liJCyGC0nDxHnHRv2Eqv147LucLOe5USPHlytOqcXifribHkwKQ4Eb38tpvVNTdXoWt1PLNDwNflDw==.\n",
      "1080 :  http://www.parliament.uk/documents/joint-committees/communications-data/written%20evidence%20Volume.pdf\n",
      "1081 :  http://www.cen.eu/cen/Sectors/Sectors/Security%20and%20Defence/Security/Pages/default.aspx.\n",
      "1081 :  http://www.cen.eu/cen/Sectors/Sectors/Security%20and%20Defence/Security/Pages/default.aspx.\n",
      "1081 :  http://www.cnil.fr/la-cnil/actualite/article/article/regles-de-confidentialite-de-google-une-information-incomplete-et-une-combinaison-de-donnees/?tx_ttnews%5BbackPid%5D=2&cHash=0f081a5b92490eb4ce22e52c986f90e4.\n",
      "1081 :  http://www.enisa.europa.eu/media/press-releases/eu-cyber-security-agency-enisa-201Chigh-roller201D-online-bank-robberies-reveal-security-gaps.\n",
      "1081 :  http://www.enisa.europa.eu/media/press-releases/eu-cyber-security-agency-enisa-201Chigh-roller201D-online-bank-robberies-reveal-security-gaps.\n",
      "1081 :  Video relativi a settembre 2012: http://goo.gl/9NcmX, http://goo.gl/gHo56 e http://goo.gl/J1Glv.\n",
      "1081 :  Videos on September 2012: http://goo.gl/9NcmX, http://goo.gl/gHo56 and http://goo.gl/J1Glv.\n",
      "1081 :  2001: 29,8 % das vendas a nível global, em 2011: 19,6 %http://www.cefic.org/Documents/FactsAndFigures/FF_2012/Facts%20and%20Figures%20Leaflet%20Sept2012.pdf\n",
      "1081 :  2001: 8,1 % das vendas a nível global, em 2010: 26,8 % http://www.cefic.org/Documents/FactsAndFigures/FF_2012/Facts%20and%20Figures%20Leaflet%20Sept2012.pdf\n",
      "1081 :  539 mil milhões de euros em 2011, http://www.cefic.org/Documents/FactsAndFigures/FF_2012/Facts%20and%20Figures%20Leaflet%20Sept2012.pdf\n",
      "1081 :  2001: 29.8% of global sales, 2011: 19.6% http://www.cefic.org/Documents/FactsAndFigures/FF_2012/Facts%20and%20Figures%20Leaflet%20Sept2012.pdf\n",
      "1081 :  2001: 8.1% of global sales, 2010: 26.8% http://www.cefic.org/Documents/FactsAndFigures/FF_2012/Facts%20and%20Figures%20Leaflet%20Sept2012.pdf\n",
      "1081 :  EUR 539 billion in 2011, http://www.cefic.org/Documents/FactsAndFigures/FF_2012/Facts%20and%20Figures%20Leaflet%20Sept2012.pdf\n",
      "1081 :  Preguntas más frecuentes sobre el Euribor: http://www.euribor-ebf.eu/assets/files/Euribor%20FAQs%20Final.pdf y página específica del Euribor en el sitio web de la FBE http://www.euribor-ebf.eu/euribor-org/about-euribor.html\n",
      "1081 :  FAQ on Euribor: http://www.euribor-ebf.eu/assets/files/Euribor%20FAQs%20Final.pdf and Euribor specific site in the EBF website http://www.euribor-ebf.eu/euribor-org/about-euribor.html\n",
      "1082 :  http://wayback.archive-it.org/1365/20090215072750/http://www.coe.int/t/e/legal_affairs/legal_co-operation/biological_safety%2C_use_of_animals/farming/Rec%20Muscovy%20ducks%20E%201999.asp ja http://wayback.archive-it.org/1365/20090215072727/http://www.coe.int/t/e/legal_affairs/legal_co-operation/biological_safety%2C_use_of_animals/farming/Rec%20geese.asp.\n",
      "1082 :  http://wayback.archive-it.org/1365/20090215072750/http://www.coe.int/t/e/legal_affairs/legal_cooperation/biological_safety%2C_use_of_animals/farming/Rec%20Muscovy%20ducks%20E%201999.asp and http://wayback.archive-it.org/1365/20090215072727/http://www.coe.int/t/e/legal_affairs/legal_cooperation/biological_safety%2C_use_of_animals/farming/Rec%20geese.asp.\n",
      "1082 :  http://www20.gencat.cat/portal/site/culturacatalana/menuitem.be2bc4cc4c5aec88f94a9710b0c0e1a0/?vgnextoid=841c5c43da896210VgnVCM1000000b0c1e0aRCRD&vgnextchannel=841c5c43da896210VgnVCM1000000b0c1e0aRCRD&vgnextfmt=detall2&contentid=0e613c084ded7210VgnVCM1000008d0c1e0aRCRD&newLang=es_ES.\n",
      "1082 :  http://www.elplural.com/2012/10/28/la-fundacion-franco-pide-%E2 %80 %9Cproclamar-el-estado-de-guerra%E2 %80 %9D-a-cataluna/.\n",
      "1082 :  http://www20.gencat.cat/portal/site/culturacatalana/menuitem.be2bc4cc4c5aec88f94a9710b0c0e1a0/?vgnextoid=841c5c43da896210VgnVCM1000000b0c1e0aRCRD&vgnextchannel=841c5c43da896210VgnVCM1000000b0c1e0aRCRD&vgnextfmt=detall2&contentid=0e613c084ded7210VgnVCM1000008d0c1e0aRCRD&newLang=es_ES.\n",
      "1082 :  http://www.elplural.com/2012/10/28/la-fundacion-franco-pide-%E2%80%9Cproclamar-el-estado-de-guerra%E2%80%9D-a-cataluna/.\n",
      "1130 :  Parmi les exemples de projets financés par les programmes-cadres, on peut citer Ice2Sea (http://www.ice2sea.eu/), Theseus (http://www.theseusproject.eu/), Medsea (http://medsea-project.eu/).\n",
      "1130 :  Examples of projects financed through the framework Programmes include Ice2Sea (http://www.ice2sea.eu/), THESEUS (http://www.theseusproject.eu/), MEDSEA (http://medsea-project.eu/).\n",
      "1130 :  http://www.library.sso.ep.parl.union.eu/lis/site/newsContent.form?agId=2&q=ct_f%3A%28 %22Financial%.\n",
      "1130 :  http://www.library.sso.ep.parl.union.eu/lis/site/newsContent.form?agId=2&q=ct_f%3A%28%22Financial%22%29&src=3&id=5144752.\n",
      "1130 :  \"Retail-related Import and Distribution study\". The Competition Authority. Ireland. May 2009. http://www.tca.ie/images/uploaded/documents/Retail-related%20Import%20and%20Distribution%20Study%20FINAL.pdf .\n",
      "1130 :  https://www.smartutilities.com.mt/wps/portal/Public%20Area/ARMS.PublicArea.UsefulDownloads/ARMS.publicArea.Downloads/!ut/p/c5/hY7JDoJAEEQ_qYthGLwisjnKKghcyMQQJGHxYEz8eyGe0arjq-ouqmnxpF59p579PKmBSqpFI1NXwDU4Ilc6CM6pk-8PKQM3F16JxvYsn5snIGIFwEIjS5BnOgL9T_u6_hONJnK9kJ4GL4yXBD_u7OQCFlnsX_srxxeFIHm6TDfymFqM5bB5A2w1GVM!/dl3/d3/L0lDUmlTUSEhL3dHa0FKRnNBL1lCUmZ3QSEhL210/%20.\n",
      "1130 :  https://www.smartutilities.com.mt/wps/portal/Public%20Area/ARMS.PublicArea.UsefulDownloads/ARMS.publicArea.Downloads/!ut/p/c5/hY1LDoIwAETP4gk6tKW4RYSCVT7FIrJpWBhCIuDCeH5LXKszyzcf0hHnuX-NQ_8cl7m_k5Z0wiqdCCQ-R5GoGNlJx2a31xQ8cPwqbCTDlAdHoKANQHO_rmBqhoz9aV_WP2E9YVijpAeZly7BD9uoOoMWIf3wX_srxxeFIHm6TDfymFqM5bB5A2w1GVM!/dl3/d3/L0lDU0lKSWdra0EhIS9JTlJBQUlpQ2dBek15cUEhL1lCSlAxTkMxTktfMjd3ISEvN19LUkY2MEY1NDBPRktFMElNUkVVQkRSMjBLNQ!!/?PC_7_KRF60F540OFKE0IMREUBDR20K5_WCM_CONTEXT=/wps/wcm/connect/arms_pa/arms_en/services/list+of+services/cn+update+the+registered+number+of+persons+on+your+account.\n",
      "1130 :  Projectos de IDT: Euromarket — (http://www.wise-rtd.info/en/info/water-and-liberalisation-european-water-scenarios), (http://www.uclouvain.be/cps/ucl/doc/espo/documents/D5_Final_Report.pdf) e (http://infoscience.epfl.ch/record/54837/files/CDM%20WP%20-%20Evolution%20of%20the%20Water%20Sector%20in%20Europe%20-%20An%20institutional%20analysis%20of%20possible%20scenarios.pdf).\n",
      "1130 :  RTD project: EUROMARKET — http://www.wise-rtd.info/en/info/water-and-liberalisation-european-water-scenarios; http://www.uclouvain.be/cps/ucl/doc/espo/documents/D5_Final_Report.pdf and http://infoscience.epfl.ch/record/54837/files/CDM%20WP%20-%20Evolution%20of%20the%20Water%20Sector%20in%20Europe%20-%20An%20institutional%20analysis%20of%20possible%20scenarios.pdf\n",
      "1131 :  Endorsed by the EU in 2012 and is applicable from 1January 2013.\n",
      "1131 :  https://docs.google.com/file/d/0B5ID6gGygl3TdkJoWG5NZUw4WG8/edit.\n",
      "1131 :  https://docs.google.com/file/d/0B5ID6gGygl3TdkJoWG5NZUw4WG8/edit.\n",
      "1131 :  http://www.youtube.com/watch?v=VCBTFh3IhQY.\n",
      "1131 :  http://www.youtube.com/watch?v=VCBTFh3IhQY.\n",
      "1132 :  a) Onderzoek door Idara-e-Taleem-o-Aagahi (ITA) en Baela Raza Jamil dat laat zien dat het curriculum voorbereid in 2006 en goedgekeurd als onderwijsbeleid in 2009 nooit is uitgevoerd, http://itacec.org/document/nep09/NCERT%20Pakistan%20paper%20BRJ.pdf\n",
      "1132 :  (a) Study by Idara-e-Taleem-o-Aagahi (ITA) and Baela Raza Jamil showing that the curriculum prepared in 2006 and approved as 2009 education policy was never implemented, http://itacec.org/document/nep09/NCERT%20Pakistan%20paper%20BRJ.pdf; (b) Sustainable Development Policy Institute (SDPI), http://www.sdpi.org/publications/publication_details-286-34.html; (c) Centre for Research and Security Studies (CRSS), http://crss.pk/downloads/Reports/Research-Reports/Curriculum-of-Hate.pdf; (d) The NCJP’s content identification study (in Urdu) finds that hate material in 2012-2013 textbooks increased twofold in Sindh and threefold in Punjab as compared with the previous year.\n",
      "1133 :  ENE-000565/2013Answer given by Mr Füle on behalf of the Commission \n",
      "1133 :  Tel. (+351) 295 206 380Rui.MG.Amann@azores.gov.pt\n",
      "1133 :  http://www.ft.com/intl/cms/s/0/1c89626a-5b4e-11e2-8ccc-00144feab49a.html#axzz1Xj5CrXjU\n",
      "1133 :  http://www.ft.com/intl/cms/s/0/1c89626a-5b4e-11e2-8ccc-00144feab49a.html#axzz1Xj5CrXjU.\n",
      "1133 :  http://ec.europa.eu/environment/iczm/pdf/Final%20Report_progress.pdf\n"
     ]
    },
    {
     "name": "stdout",
     "output_type": "stream",
     "text": [
      "1306 :  E-000820/2013Answer given by Ms Geoghegan-Quinn on behalf of the Commission\n",
      "1306 :  Στόχος της σύνδεσης των λιμανιών Μπουργκάς - Αλεξανδρούπολης είναι η μεταφορά εμπορευμάτων με εμπορευματοκιβώτια στο πλαίσιο των συνδυασμένων μεταφορών και η λειτουργία των δύο λιμανιών ως διαμετακομιστικών κέντρων για την ταχέως αναπτυσσόμενη εμπορικά ευρύτερη περιοχή της Μαύρης Θάλασσας και η παράκαμψη του κορεσμένου, από πλευράς ναυσιπλοΐας, Βοσπόρου. Το νέο λιμάνι της Αλεξανδρούπολης έχει ολοκληρωθεί και οι δύο λιμενικοί οργανισμοί έχουν συμφωνήσει και έχουν καταθέσει πρόταση για την ηλεκτροκίνηση της γραμμής Sea2Sea η οποία εγκρίθηκε από την Επιτροπή.\n",
      "1306 :  Επίσης, με δεδομένη τη σημασία του έργου της σύνδεσης των δύο λιμανιών, που θα μπορούσε να προσφέρει στην τοπική οικονομία άμεσα εκατοντάδες θέσεις εργασίας, υγιή εξωστρεφή έσοδα για τον ΟΣΕ, φορολογικά και λιμενικά έσοδα, κ.λπ. και, σε συνέχεια δημοσιευμάτων του Τύπου, με βάση τα οποία η Επιτροπή έχει εγκρίνει την μελέτη για την ηλεκτροκίνητη σιδηροδρομική σύνδεση των λιμανιών, στο πλαίσιο του διαδρόμου \"Sea2Sea\", με βάση ποια προκαταρκτικά οικονομοτεχνικά στοιχεία και δεδομένα εγκρίθηκε η πραγματοποίηση της μελέτης για την προώθηση των διαμετακομιστικών μεταφορών;\n",
      "1306 :  The aim of linking the ports of Burgas and Alexandroupolis is to transport containerised freight in intermodal transport and to operate the two ports as transit centres for the commercially fast-growing Black Sea area, bypassing the Bosporus which is saturated with shipping. The new port of Alexandroupolis has been completed and the two port authorities have come to an agreement and submitted a proposal for the electrification of the Sea2Sea line approved by the Commission.\n",
      "1306 :  Finally, given the importance of the project of connecting the two ports, which could immediately provide the local economy with hundreds of jobs and generate healthy, outward-looking revenue for the Greek Railways Board and tax and port revenue, etc. and, in the light of media reports that the Commission has approved the study for electric rail link between the ports as part of the \"Sea2Sea\" corridor, on the basis of which preliminary feasibility and data was the realisation of the study to promote transit traffic authorised?\n",
      "1306 :  http://epp.eurostat.ec.europa.eu/portal/page/portal/government_finance_statistics/documents/Austria%20-%20Treatment%20of%20the%20debt%20of%20the%20Austrian%20railway.pdf (auf Englisch).\n",
      "1306 :  http://epp.eurostat.ec.europa.eu/portal/page/portal/government_finance_statistics/documents/Austria%20-%20Treatment%20of%20the%20debt%20of%20the%20Austrian%20railway.pdf\n",
      "1306 :  also known as the \"Sea2Sea\" study.\n",
      "1307 :  3. Is the Commission considering including the principle of the 3Rs in this directive?\n",
      "1307 :  3. In line with Article 13 of the TFEU, the Principle of the 3Rs forms the cornerstone of the directive. All animal breeding and use in the area of science must be carried out in accordance with this Principle (Articles 1, 4, 13 and recitals 10-13).\n",
      "1307 :  5. The directive obliges all users of animals to apply the 3Rs where possible, and when an alternative method or approach is recognised by the legislation of the Union this is a clear legal obligation.\n",
      "1333 :  Az egész életen át tartó tanulás programja, amelynek része az Erasmus program is, számos, jelnyelvvel kapcsolatos projektet támogatott már. A közelmúltban indult programok egyike a EuroSign Interpreter (http://www.eurosign.uni-hamburg.de/es_overview.php), amely a jelnyelvi tolmácsok új, szakmai szerepének kialakítását segíti elő, valamint a \"Signs2Cross: az európai siketek nyelvi mobilitása\" elnevezésű projekt.\n",
      "1333 :  The Lifelong Learning Programme, of which Erasmus is one component, has funded numerous projects related to sign language. Recent examples include, EuroSign Interpreter (http://www.eurosign.uni-hamburg.de/es_overview.php), which promotes the development of a new professional role for interpreters between sign languages and \"Signs2Cross: Linguistic mobility for Deaf people in Europe\".\n",
      "1333 :  E-001164/2013Antwoord van de heer Tajani namens de Commissie\n",
      "1333 :  ENE-001172/2013Answer given by Mr Tajani on behalf of the Commission\n",
      "1333 :  E-001269/2013Antwoord van de heer Tajani namens de Commissie\n",
      "1333 :  http://ec.europa.eu/social/main.jsp?catId=1024&intPageId=1860&langId=en&preview=cHJldmlld0VtcGxQb3J0YWwhMjAxMjAyMTU=\n",
      "1333 :  http://ec.europa.eu/social/main.jsp?catId=1024&intPageId=1860&langId=en&preview=cHJldmlld0VtcGxQb3J0YWwhMjAxMjAyMTU=.\n",
      "1333 :  http://www.disability-europe.net/content/aned/media/ANED%202010%20Task%207%20-%20Disability%20Benefits%20and%20Entitlements%20-%20Report%20-%20FINAL%20%282%29.pdf\n",
      "1333 :  http://www.disability-europe.net/content/aned/media/ANED%202010%20Task%207%20-%20Report%20Annex%201%20-%20database%20summary%20FINAL.pdf\n",
      "1333 :  http://www.disability-europe.net/content/aned/media/ANED%202010%20Task%207%20-%20Disability%20Benefits%20and%20Entitlements%20-%20Report%20-%20FINAL%20%282%29.pdf\n",
      "1333 :  http://www.disability-europe.net/content/aned/media/ANED%202010%20Task%207%20-%20Report%20Annex%201%20-%20database%20summary%20FINAL.pdf\n",
      "1334 :  http://www.easa.europa.eu/agency-measures/docs/agency-decisions/2012/2012-001-R/ED%20Decision%202012-001-R.pdf\n",
      "1334 :  http://www.easa.europa.eu/agency-measures/docs/agency-decisions/2012/2012-001-R/ED%20Decision%202012-001-R.pdf\n",
      "1334 :  http://www.centredelas.org/index.php?option=com_content&view=article&id=965%3Alas-trampas-del-presupuesto-militar-del-ano-2013&catid=42 %3Aeconomia-de-defensa&Itemid=63&lang=es\n",
      "1334 :  http://www.centredelas.org/index.php?option=com_content&view=article&id=965%3Alas-trampas-del-presupuesto-militar-del-ano-2013&catid=42%3Aeconomia-de-defensa&Itemid=63&lang=es.\n",
      "1334 :  This methodology is now in public consultation and testing phase. Further details can be found here: https://colloque4.inra.fr/var/lcafood2012/storage/fckeditor/file/Presentations/Keynote-Bligny-LCA%20Food%202012.pdf\n",
      "1334 :  http://www.dtl.eu/~/media/Files/Webnyheder/Cabotagekoersel%20i%20Danmark%203.ashx.\n",
      "1334 :  http://www.dtl.eu/~/media/Files/Webnyheder/Cabotagekoersel%20i%20Danmark%203.ashx\n",
      "1334 :  Brussels proposes EUR 30 billion \"Tobin Tax\", http://www.ft.com/intl/cms/s/0/d1b16f7a-7601-11e2-8eb6-00144feabdc0.html#axzz2MaNrdGvb.\n",
      "1334 :  Brussels proposes EUR 30 billion \"Tobin Tax\", http://www.ft.com/intl/cms/s/0/d1b16f7a-7601-11e2-8eb6-00144feabdc0.html#axzz2MaNrdGvb.\n",
      "1335 :  2. In January 2013, Directive 2010/63/EU on the protection of animals used for scientific purposes came into full effect. It strengthens and significantly improves the legislation in the area of animal experimentation in the EU. The Principle of the 3Rs to replace, reduce and refine the use of animals forms the cornerstone of the directive. It contains a number of measures designed to minimise significantly the use and suffering animals in scientific procedures, and to channel further resources towards the development of alternative methods and strategies.\n",
      "1335 :  PTE-001822/2013Resposta dada pela Alta Representante/Vice-Presidente Catherine Ashton em nome da Comissão\n",
      "1335 :  http://www.prosafe.org/read_write/file/JA%202011/JA%20China/JA%20China%20newsletter,%20January%202013.pdf\n",
      "1335 :  http://www.prosafe.org/read_write/file/JA%202011/JA%20China/JA%20China%20newsletter,%20January%202013.pdf\n",
      "1335 :  Καταγγελία του Ecocity στην ΕΕ για το λαθρεμπόριο και τις επιπτώσεις στη χώρα μας. http://goo.gl/j9Lv6\n",
      "1335 :  Complaint by ECOCITY to the EU regarding trafficking and its impact on Greece http:/goo.gl/j9Lv6\n",
      "1335 :  Commission Implementing Decision of 2December 2011, C 353/3 of 3 December 2012.\n",
      "1336 :  Tel. (00.351) 291 214 000Email: idr-srpf@gov-madeira.pt\n",
      "1336 :  Vedere dati ARPAV (Agenzia regionale per la prevenzione e protezione ambientale del Veneto): http://goo.gl/p6Os7.\n",
      "1336 :  Cf. data from ARPAV (Veneto Regional Environmental Protection Agency): http://goo.gl/p6Os7.\n",
      "1336 :  Art. 2 in line with provision of Art. 5 Reg. 1338/2001; In accordance with Article 5 (5) of the Council Decision of 6 April 2009 establishing the European Police Office (Europol), Europol’s activities against euro counterfeiting include not only technical and operational assistance to law enforcement authorities of the EU Member States and third countries; but also, upon request, Europol may financially support investigations into euro counterfeiting. Europol has financially supported law enforcement activities against euro counterfeiting since 1January 2006.\n",
      "1336 :  http://www.which.co.uk/news/2013/03/calling-time-on-nuisance-calls-and-texts-314056/?intcmp=HPcarousel1Anewswhich?launchescampaignagainstcoldcallingmarch19\n",
      "1336 :  Survey by \"Which?\": http://www.which.co.uk/news/2013/03/calling-time-on-nuisance-calls-and-texts-314056/?intcmp=HPcarousel1Anewswhich?launchescampaignagainstcoldcallingmarch19.\n"
     ]
    },
    {
     "name": "stdout",
     "output_type": "stream",
     "text": [
      "1782 :  http://www.wrlfmd.org/ref_labs/ref_lab_reports/OIE-FAO%20FMD%20Ref%20Lab%20Report%20Jan-Mar%202012.pdf\n",
      "2191 :  A GAS2GriD Ltd (székhelye: Level 7, 10 Barrack Street, Sydney NSW 2000, Ausztrália) 2011. március 18-án kelt kérelmében folyékony és gáznemű szénhidrogének bányászati kutatására jogosító, 5 évre szóló kizárólagos engedélyért – az ún. \"Permis de Mirande\"-ért – folyamodott. A kérelem Haute-Garonne, Gers és Hautes-Pyrénées megye területének egy részét érinti.\n",
      "2410 :  http://www20.gencat.cat/portal/site/portaldogc/menuitem.c973d2fc58aa0083e4492d92b0c0e1a0/?vgnextoid=485946a6e5dfe210VgnVCM1000000b0c1e0aRCRD&appInstanceName=default&action=fitxa&documentId=621072&language=es_ES\n",
      "2410 :  http://www20.gencat.cat/portal/site/portaldogc/menuitem.c973d2fc58aa0083e4492d92b0c0e1a0/?vgnextoid=485946a6e5dfe210VgnVCM1000000b0c1e0aRCRD&appInstanceName=default&action=fitxa&documentId=620449&language=es_ES\n",
      "2410 :  http://www.lavoro.regione.lombardia.it/cs/Satellite?c=Redazionale_P&childpagename=DG_IFL%2FDetail&cid=1213565758735&packedargs=NoSlotForSitePlan%3Dtrue%26menu-to-render%3D1213501978573&pagename=DG_IFLWrapper\n",
      "2412 :  Skatīt http://www.eurofound.europa.eu/emcc/erm/factsheets/18371/Air%20Baltic%20Corporation?Template=searchfactsheets&kSel=1 un http://www.baltic-course.com/eng/transport/?doc=42089.\n",
      "2803 :  | POLANA KWASOWA | 7Rz | Rejon Swalawski, Ukraina\n"
     ]
    }
   ],
   "source": [
    "clean_files = os.listdir('txt')\n",
    "for i in range(3000):\n",
    "    f = open('txt/'+clean_files[i],encoding=\"utf8\")\n",
    "    txt = f.read()\n",
    "    f.close()\n",
    "    rows = txt.split('\\n')\n",
    "    for s in rows:\n",
    "        if regex.search('\\d\\p{Lu}\\p{Ll}',s):\n",
    "        #if regex.search('\\p{Ll}:\\p{L}',s):\n",
    "        #if regex.search('\\p{Ll}\\)\\p{Lu}',s):\n",
    "            print(i,': ',s)"
   ]
  },
  {
   "cell_type": "code",
   "execution_count": 1113,
   "metadata": {},
   "outputs": [
    {
     "data": {
      "text/plain": [
       "'C_2012104HU.01000101.xml.txt'"
      ]
     },
     "execution_count": 1113,
     "metadata": {},
     "output_type": "execute_result"
    }
   ],
   "source": [
    "clean_files[2564]"
   ]
  },
  {
   "cell_type": "code",
   "execution_count": 101,
   "metadata": {},
   "outputs": [
    {
     "name": "stdout",
     "output_type": "stream",
     "text": [
      "{'\\\\': 5, '÷': 2, '¤': 0}\n"
     ]
    }
   ],
   "source": [
    "clean_files = os.listdir('txt')\n",
    "characters = '\\\\÷¤'\n",
    "numbers = {}\n",
    "for k in characters:\n",
    "    numbers[k] = 0\n",
    "for fn in clean_files:\n",
    "    f = open('txt/'+fn,encoding=\"utf8\")\n",
    "    txt = f.read()\n",
    "    for k in characters:\n",
    "        if k in txt:\n",
    "            numbers[k] += 1\n",
    "print(numbers)"
   ]
  },
  {
   "cell_type": "code",
   "execution_count": 4,
   "metadata": {},
   "outputs": [],
   "source": [
    "def clean_xmls(fl):\n",
    "    if not 'txt' in os.listdir():\n",
    "        os.mkdir('txt')\n",
    "\n",
    "    total_tokens = 0\n",
    "\n",
    "    for i in range(len(fl)):\n",
    "        if i % 100 == 0:\n",
    "            print(i, '/', len(fl), 'files done')\n",
    "        f = open(fl[i],encoding=\"utf8\")\n",
    "        txt = f.read()\n",
    "        f.close()\n",
    "        txt = delete_metadata(txt)\n",
    "        txt = replace_tag(txt)\n",
    "        txt = delete_metadata(txt)\n",
    "        txt = replace_entity(txt)\n",
    "        txt = regex.sub('\\p{Zs}+',' ',txt)\n",
    "        txt = regex.sub(' ?\\n\\s+','\\n',txt)\n",
    "        txt = regex.sub('(\\p{Ll}):(\\p{L})',r'\\1: \\2',txt)\n",
    "        txt = re.sub('^\\n','',txt)\n",
    "        txt = re.sub(' \\n','\\n',txt)\n",
    "        txt = re.sub('\\n(\\| ?)+\\n','\\n',txt)\n",
    "        words = len([w for w in regex.split('\\W',txt) if len(w)])\n",
    "        if len(txt) > 100 and words > 20:\n",
    "            fo = open('txt/'+fl[i]+'.txt','w',encoding=\"utf8\")\n",
    "            fo.write(txt)\n",
    "            fo.close\n",
    "            total_tokens += words\n",
    "    \n",
    "    return total_tokens"
   ]
  },
  {
   "cell_type": "code",
   "execution_count": 82,
   "metadata": {},
   "outputs": [
    {
     "name": "stdout",
     "output_type": "stream",
     "text": [
      "2018\n",
      "0 / 11931 files done\n",
      "100 / 11931 files done\n",
      "200 / 11931 files done\n",
      "300 / 11931 files done\n",
      "400 / 11931 files done\n",
      "500 / 11931 files done\n",
      "600 / 11931 files done\n",
      "700 / 11931 files done\n",
      "800 / 11931 files done\n",
      "900 / 11931 files done\n",
      "1000 / 11931 files done\n",
      "1100 / 11931 files done\n",
      "1200 / 11931 files done\n",
      "1300 / 11931 files done\n",
      "1400 / 11931 files done\n",
      "1500 / 11931 files done\n",
      "1600 / 11931 files done\n",
      "1700 / 11931 files done\n",
      "1800 / 11931 files done\n",
      "1900 / 11931 files done\n",
      "2000 / 11931 files done\n",
      "2100 / 11931 files done\n",
      "2200 / 11931 files done\n",
      "2300 / 11931 files done\n",
      "2400 / 11931 files done\n",
      "2500 / 11931 files done\n",
      "2600 / 11931 files done\n",
      "2700 / 11931 files done\n",
      "2800 / 11931 files done\n",
      "2900 / 11931 files done\n",
      "3000 / 11931 files done\n",
      "3100 / 11931 files done\n",
      "3200 / 11931 files done\n",
      "3300 / 11931 files done\n",
      "3400 / 11931 files done\n",
      "3500 / 11931 files done\n",
      "3600 / 11931 files done\n",
      "3700 / 11931 files done\n",
      "3800 / 11931 files done\n",
      "3900 / 11931 files done\n",
      "4000 / 11931 files done\n",
      "4100 / 11931 files done\n",
      "4200 / 11931 files done\n",
      "4300 / 11931 files done\n",
      "4400 / 11931 files done\n",
      "4500 / 11931 files done\n",
      "4600 / 11931 files done\n",
      "4700 / 11931 files done\n",
      "4800 / 11931 files done\n",
      "4900 / 11931 files done\n",
      "5000 / 11931 files done\n",
      "5100 / 11931 files done\n",
      "5200 / 11931 files done\n",
      "5300 / 11931 files done\n",
      "5400 / 11931 files done\n",
      "5500 / 11931 files done\n",
      "5600 / 11931 files done\n",
      "5700 / 11931 files done\n",
      "5800 / 11931 files done\n",
      "5900 / 11931 files done\n",
      "6000 / 11931 files done\n",
      "6100 / 11931 files done\n",
      "6200 / 11931 files done\n",
      "6300 / 11931 files done\n",
      "6400 / 11931 files done\n",
      "6500 / 11931 files done\n",
      "6600 / 11931 files done\n",
      "6700 / 11931 files done\n",
      "6800 / 11931 files done\n",
      "6900 / 11931 files done\n",
      "7000 / 11931 files done\n",
      "7100 / 11931 files done\n",
      "7200 / 11931 files done\n",
      "7300 / 11931 files done\n",
      "7400 / 11931 files done\n",
      "7500 / 11931 files done\n",
      "7600 / 11931 files done\n",
      "7700 / 11931 files done\n",
      "7800 / 11931 files done\n",
      "7900 / 11931 files done\n",
      "8000 / 11931 files done\n",
      "8100 / 11931 files done\n",
      "8200 / 11931 files done\n",
      "8300 / 11931 files done\n",
      "8400 / 11931 files done\n",
      "8500 / 11931 files done\n",
      "8600 / 11931 files done\n",
      "8700 / 11931 files done\n",
      "8800 / 11931 files done\n",
      "8900 / 11931 files done\n",
      "9000 / 11931 files done\n",
      "9100 / 11931 files done\n",
      "9200 / 11931 files done\n",
      "9300 / 11931 files done\n",
      "9400 / 11931 files done\n",
      "9500 / 11931 files done\n",
      "9600 / 11931 files done\n",
      "9700 / 11931 files done\n",
      "9800 / 11931 files done\n",
      "9900 / 11931 files done\n",
      "10000 / 11931 files done\n",
      "10100 / 11931 files done\n",
      "10200 / 11931 files done\n",
      "10300 / 11931 files done\n",
      "10400 / 11931 files done\n",
      "10500 / 11931 files done\n",
      "10600 / 11931 files done\n",
      "10700 / 11931 files done\n",
      "10800 / 11931 files done\n",
      "10900 / 11931 files done\n",
      "11000 / 11931 files done\n",
      "11100 / 11931 files done\n",
      "11200 / 11931 files done\n",
      "11300 / 11931 files done\n",
      "11400 / 11931 files done\n",
      "11500 / 11931 files done\n",
      "11600 / 11931 files done\n",
      "11700 / 11931 files done\n",
      "11800 / 11931 files done\n",
      "11900 / 11931 files done\n",
      "18029746 tokens\n",
      "2019\n",
      "0 / 6012 files done\n",
      "100 / 6012 files done\n",
      "200 / 6012 files done\n",
      "300 / 6012 files done\n",
      "400 / 6012 files done\n",
      "500 / 6012 files done\n",
      "600 / 6012 files done\n",
      "700 / 6012 files done\n",
      "800 / 6012 files done\n",
      "900 / 6012 files done\n",
      "1000 / 6012 files done\n",
      "1100 / 6012 files done\n",
      "1200 / 6012 files done\n",
      "1300 / 6012 files done\n",
      "1400 / 6012 files done\n",
      "1500 / 6012 files done\n",
      "1600 / 6012 files done\n",
      "1700 / 6012 files done\n",
      "1800 / 6012 files done\n",
      "1900 / 6012 files done\n",
      "2000 / 6012 files done\n",
      "2100 / 6012 files done\n",
      "2200 / 6012 files done\n",
      "2300 / 6012 files done\n",
      "2400 / 6012 files done\n",
      "2500 / 6012 files done\n",
      "2600 / 6012 files done\n",
      "2700 / 6012 files done\n",
      "2800 / 6012 files done\n",
      "2900 / 6012 files done\n",
      "3000 / 6012 files done\n",
      "3100 / 6012 files done\n",
      "3200 / 6012 files done\n",
      "3300 / 6012 files done\n",
      "3400 / 6012 files done\n",
      "3500 / 6012 files done\n",
      "3600 / 6012 files done\n",
      "3700 / 6012 files done\n",
      "3800 / 6012 files done\n",
      "3900 / 6012 files done\n",
      "4000 / 6012 files done\n",
      "4100 / 6012 files done\n",
      "4200 / 6012 files done\n",
      "4300 / 6012 files done\n",
      "4400 / 6012 files done\n",
      "4500 / 6012 files done\n",
      "4600 / 6012 files done\n",
      "4700 / 6012 files done\n",
      "4800 / 6012 files done\n",
      "4900 / 6012 files done\n",
      "5000 / 6012 files done\n",
      "5100 / 6012 files done\n",
      "5200 / 6012 files done\n",
      "5300 / 6012 files done\n",
      "5400 / 6012 files done\n",
      "5500 / 6012 files done\n",
      "5600 / 6012 files done\n",
      "5700 / 6012 files done\n",
      "5800 / 6012 files done\n",
      "5900 / 6012 files done\n",
      "6000 / 6012 files done\n",
      "13595463 tokens\n"
     ]
    }
   ],
   "source": [
    "total_tokens_per_year = {}\n",
    "for year in range(2018,2020):\n",
    "    print(year)\n",
    "    os.chdir(jox_root+'JOx_FMX_HU_%s'%str(year))\n",
    "    fl = [n for n in os.listdir() if len(n) > 5 and n[-5] in string.digits and n[-3:] == 'xml']\n",
    "    total_tokens_per_year[year] = clean_xmls(fl)\n",
    "    print(total_tokens_per_year[year], 'tokens')"
   ]
  },
  {
   "cell_type": "code",
   "execution_count": 85,
   "metadata": {},
   "outputs": [
    {
     "data": {
      "text/plain": [
       "{2018: 18029746,\n",
       " 2019: 13595463,\n",
       " 2004: 4384075,\n",
       " 2005: 11897677,\n",
       " 2006: 19228648,\n",
       " 2007: 11497525,\n",
       " 2008: 18615944,\n",
       " 2009: 15173965,\n",
       " 2010: 14007496,\n",
       " 2011: 15418063,\n",
       " 2012: 17187741,\n",
       " 2013: 28966733,\n",
       " 2014: 30656703,\n",
       " 2015: 16194512,\n",
       " 2016: 20436659,\n",
       " 2017: 19779568}"
      ]
     },
     "execution_count": 85,
     "metadata": {},
     "output_type": "execute_result"
    }
   ],
   "source": [
    "total_tokens_per_year"
   ]
  },
  {
   "cell_type": "code",
   "execution_count": 87,
   "metadata": {},
   "outputs": [],
   "source": [
    "sum = 0\n",
    "for v in total_tokens_per_year.values():\n",
    "    sum += v"
   ]
  },
  {
   "cell_type": "code",
   "execution_count": 88,
   "metadata": {},
   "outputs": [
    {
     "data": {
      "text/plain": [
       "275070518"
      ]
     },
     "execution_count": 88,
     "metadata": {},
     "output_type": "execute_result"
    }
   ],
   "source": [
    "sum"
   ]
  },
  {
   "cell_type": "code",
   "execution_count": 27,
   "metadata": {},
   "outputs": [
    {
     "data": {
      "text/plain": [
       "5678"
      ]
     },
     "execution_count": 27,
     "metadata": {},
     "output_type": "execute_result"
    }
   ],
   "source": [
    "os.chdir(jox_root+'JOx_FMX_HU_2004/txt')\n",
    "fl = os.listdir()\n",
    "len(fl)"
   ]
  },
  {
   "cell_type": "code",
   "execution_count": 28,
   "metadata": {
    "scrolled": true
   },
   "outputs": [
    {
     "name": "stdout",
     "output_type": "stream",
     "text": [
      "0\n",
      "3\n"
     ]
    }
   ],
   "source": [
    "hu_fl = set([])\n",
    "for fn in fl:\n",
    "    hu_fl.add(regex.sub('HU','EN',fn))\n",
    "os.chdir(jox_root+'JOx_FMX_EN_2004/txt')\n",
    "en_fl = set(os.listdir())\n",
    "print(len(en_fl - hu_fl))\n",
    "print(len(hu_fl - en_fl))"
   ]
  },
  {
   "cell_type": "code",
   "execution_count": 26,
   "metadata": {},
   "outputs": [
    {
     "data": {
      "text/plain": [
       "{'L_2007287EN.01001101.xml.txt', 'L_2007342EN.01002301.xml.txt'}"
      ]
     },
     "execution_count": 26,
     "metadata": {},
     "output_type": "execute_result"
    }
   ],
   "source": [
    "hu_fl - en_fl"
   ]
  },
  {
   "cell_type": "code",
   "execution_count": 13,
   "metadata": {
    "scrolled": false
   },
   "outputs": [],
   "source": [
    "#for f in (angol_fl - magyar_fl):\n",
    "#    os.remove(f)\n",
    "\n",
    "os.chdir(jox_root+'JOx_FMX_HU_2019/txt')\n",
    "for f in (hu_fl - en_fl):\n",
    "    os.remove(regex.sub('EN','HU',f)+'.txt')"
   ]
  },
  {
   "cell_type": "code",
   "execution_count": 17,
   "metadata": {},
   "outputs": [
    {
     "name": "stdout",
     "output_type": "stream",
     "text": [
      "0 / 5803 files done\n",
      "100 / 5803 files done\n",
      "200 / 5803 files done\n",
      "300 / 5803 files done\n",
      "400 / 5803 files done\n",
      "500 / 5803 files done\n",
      "600 / 5803 files done\n",
      "700 / 5803 files done\n",
      "800 / 5803 files done\n",
      "900 / 5803 files done\n",
      "1000 / 5803 files done\n",
      "1100 / 5803 files done\n",
      "1200 / 5803 files done\n",
      "1300 / 5803 files done\n",
      "1400 / 5803 files done\n",
      "1500 / 5803 files done\n",
      "1600 / 5803 files done\n",
      "1700 / 5803 files done\n",
      "1800 / 5803 files done\n",
      "1900 / 5803 files done\n",
      "2000 / 5803 files done\n",
      "2100 / 5803 files done\n",
      "2200 / 5803 files done\n",
      "2300 / 5803 files done\n",
      "2400 / 5803 files done\n",
      "2500 / 5803 files done\n",
      "2600 / 5803 files done\n",
      "2700 / 5803 files done\n",
      "2800 / 5803 files done\n",
      "2900 / 5803 files done\n",
      "3000 / 5803 files done\n",
      "3100 / 5803 files done\n",
      "3200 / 5803 files done\n",
      "3300 / 5803 files done\n",
      "3400 / 5803 files done\n",
      "3500 / 5803 files done\n",
      "3600 / 5803 files done\n",
      "3700 / 5803 files done\n",
      "3800 / 5803 files done\n",
      "3900 / 5803 files done\n",
      "4000 / 5803 files done\n",
      "4100 / 5803 files done\n",
      "4200 / 5803 files done\n",
      "4300 / 5803 files done\n",
      "4400 / 5803 files done\n",
      "4500 / 5803 files done\n",
      "4600 / 5803 files done\n",
      "4700 / 5803 files done\n",
      "4800 / 5803 files done\n",
      "4900 / 5803 files done\n",
      "5000 / 5803 files done\n",
      "5100 / 5803 files done\n",
      "5200 / 5803 files done\n",
      "5300 / 5803 files done\n",
      "5400 / 5803 files done\n",
      "5500 / 5803 files done\n",
      "5600 / 5803 files done\n",
      "5700 / 5803 files done\n",
      "5800 / 5803 files done\n",
      "14986298\n"
     ]
    }
   ],
   "source": [
    "os.chdir(jox_root+'JOx_FMX_EN_2019')\n",
    "fl = [f for f in os.listdir() if f[-4:] == '.xml']\n",
    "print(clean_xmls(fl))"
   ]
  },
  {
   "cell_type": "code",
   "execution_count": 5,
   "metadata": {},
   "outputs": [],
   "source": [
    "os.chdir(jox_root+'JOx_FMX_EN_2004')\n",
    "en_raw = os.listdir()\n",
    "en_done = os.listdir('txt')"
   ]
  },
  {
   "cell_type": "code",
   "execution_count": 60,
   "metadata": {},
   "outputs": [],
   "source": [
    "english_total_tokens = {}"
   ]
  },
  {
   "cell_type": "code",
   "execution_count": 10,
   "metadata": {},
   "outputs": [],
   "source": [
    "english_total_tokens[2018] = 19981704"
   ]
  },
  {
   "cell_type": "code",
   "execution_count": 195,
   "metadata": {},
   "outputs": [
    {
     "data": {
      "text/plain": [
       "{2004: 5017669,\n",
       " 2005: 13220165,\n",
       " 2006: 21509390,\n",
       " 2007: 12969089,\n",
       " 2008: 20674429,\n",
       " 2009: 17023199,\n",
       " 2010: 15916404,\n",
       " 2011: 17165290,\n",
       " 2013: 30984344,\n",
       " 2012: 19169316,\n",
       " 2014: 32756269,\n",
       " 2015: 17951291,\n",
       " 2016: 22630322,\n",
       " 2017: 21937049}"
      ]
     },
     "execution_count": 195,
     "metadata": {},
     "output_type": "execute_result"
    }
   ],
   "source": [
    "english_total_tokens"
   ]
  },
  {
   "cell_type": "code",
   "execution_count": 203,
   "metadata": {},
   "outputs": [],
   "source": [
    "en_fl.remove('txt')"
   ]
  },
  {
   "cell_type": "code",
   "execution_count": 5,
   "metadata": {},
   "outputs": [],
   "source": [
    "english_total_tokens = {2004: 5017669,\n",
    " 2005: 13220165,\n",
    " 2006: 21509390,\n",
    " 2007: 12969089,\n",
    " 2008: 20674429,\n",
    " 2009: 17023199,\n",
    " 2010: 15916404,\n",
    " 2011: 17165290,\n",
    " 2013: 30984344,\n",
    " 2012: 19169316,\n",
    " 2014: 32756269,\n",
    " 2015: 17951291,\n",
    " 2016: 22630322,\n",
    " 2017: 21937049}"
   ]
  },
  {
   "cell_type": "code",
   "execution_count": 41,
   "metadata": {},
   "outputs": [
    {
     "name": "stdout",
     "output_type": "stream",
     "text": [
      "2004\n",
      "0\n",
      "[]\n",
      "2005\n",
      "0\n",
      "[]\n",
      "2006\n",
      "0\n",
      "[]\n",
      "2007\n",
      "0\n",
      "[]\n",
      "2008\n",
      "0\n",
      "[]\n",
      "2009\n",
      "0\n",
      "[]\n",
      "2010\n",
      "0\n",
      "[]\n",
      "2011\n",
      "0\n",
      "[]\n",
      "2012\n",
      "0\n",
      "[]\n",
      "2013\n",
      "0\n",
      "[]\n",
      "2014\n",
      "0\n",
      "[]\n",
      "2015\n",
      "0\n",
      "[]\n",
      "2016\n",
      "0\n",
      "[]\n",
      "2017\n",
      "0\n",
      "[]\n",
      "2018\n",
      "0\n",
      "[]\n",
      "2019\n",
      "0\n",
      "[]\n"
     ]
    }
   ],
   "source": [
    "for i in range(2004,2020):\n",
    "    fl = os.listdir(jox_root+'JOx_FMX_HU_%d/txt'%i)\n",
    "    hu_fl = set([fn.replace('HU','EN') for fn in fl])\n",
    "    en_fl = set(os.listdir(jox_root+'JOx_FMX_EN_%d/txt'%i))\n",
    "    print(i)\n",
    "    print(len(hu_fl - en_fl))\n",
    "    print(list(hu_fl - en_fl))\n",
    "    for fn in list(hu_fl - en_fl):\n",
    "        print(jox_root+'JOx_FMX_HU_%d/txt/'%i + fn.replace('EN','HU'))\n",
    "#        os.remove(jox_root+'JOx_FMX_HU_%d/txt/'%i + fn.replace('EN','HU'))"
   ]
  },
  {
   "cell_type": "code",
   "execution_count": 31,
   "metadata": {},
   "outputs": [],
   "source": [
    "fl = os.listdir('c:/Users/Gergo/Downloads/JOx/JOx_FMX_EN_2004/txt')"
   ]
  },
  {
   "cell_type": "code",
   "execution_count": 32,
   "metadata": {},
   "outputs": [
    {
     "data": {
      "text/plain": [
       "5675"
      ]
     },
     "execution_count": 32,
     "metadata": {},
     "output_type": "execute_result"
    }
   ],
   "source": [
    "len(fl)"
   ]
  },
  {
   "cell_type": "code",
   "execution_count": null,
   "metadata": {},
   "outputs": [],
   "source": []
  }
 ],
 "metadata": {
  "kernelspec": {
   "display_name": "Python 3",
   "language": "python",
   "name": "python3"
  },
  "language_info": {
   "codemirror_mode": {
    "name": "ipython",
    "version": 3
   },
   "file_extension": ".py",
   "mimetype": "text/x-python",
   "name": "python",
   "nbconvert_exporter": "python",
   "pygments_lexer": "ipython3",
   "version": "3.7.2"
  }
 },
 "nbformat": 4,
 "nbformat_minor": 2
}
