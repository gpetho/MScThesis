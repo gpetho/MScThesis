{
 "cells": [
  {
   "cell_type": "code",
   "execution_count": 1,
   "metadata": {},
   "outputs": [],
   "source": [
    "import os, numpy as np, regex, pandas, pickle\n",
    "from collections import defaultdict\n",
    "jox_root = '/your_jox_root/'\n",
    "dir_pattern = jox_root+'JOx_FMX_xx_yyyy/txt/'\n",
    "langs = ('HU','EN')"
   ]
  },
  {
   "cell_type": "code",
   "execution_count": 78,
   "metadata": {},
   "outputs": [],
   "source": [
    "def read_document(fpath,tokens,file_length_list,cell_count_list):\n",
    "    f = open(fpath,encoding = 'utf8')\n",
    "    txt = f.read()\n",
    "    f.close()\n",
    "    tokens.append(np.array([w for w in regex.split('(\\W)',txt) if len(w) and not w.isspace()]))\n",
    "    file_length_list.append(len(txt))\n",
    "    cell_count_list.append(len(regex.findall('\\|',txt)))\n",
    "\n",
    "first_year = 2004\n",
    "last_year = 2006\n",
    "\n",
    "for yr in range(first_year,last_year):\n",
    "    dirname = dir_pattern.replace('xx',langs[0]).replace('yyyy',str(yr))\n",
    "    os.chdir(dirname)\n",
    "    fl = os.listdir()\n",
    "    keep_files = list()\n",
    "    file_length_list = (list(),list())\n",
    "    token_count_list = (list(),list())\n",
    "    cell_count_list = (list(),list())\n",
    "    numeric_count_list = (list(),list())\n",
    "    alpha_count_list = (list(),list())\n",
    "    alpha_length_list = (list(),list())\n",
    "    df = list()\n",
    "    for fn in fl[:100]:\n",
    "        tokens = list()\n",
    "        fpath = dirname + fn\n",
    "        read_document(fpath,tokens,file_length_list[0],cell_count_list[0])\n",
    "        if len(tokens[0]) < 10:\n",
    "            file_length_list[0].pop()\n",
    "            cell_count_list[0].pop()\n",
    "            continue\n",
    "        keep_files.append(fn)\n",
    "        read_document(fpath.replace(langs[0],langs[1]),tokens,file_length_list[1],cell_count_list[1])\n",
    "        for i in range(len(langs)):\n",
    "            token_count_list[i].append(len(tokens[i]))\n",
    "            numeric_count_list[i].append(sum(np.char.isnumeric(tokens[i])))\n",
    "            alpha_count_list[i].append(sum(np.char.isalpha(tokens[i])))\n",
    "            alpha_length_list[i].append(sum(np.char.str_len(np.array(tokens[i])[np.char.isalpha(tokens[i])])))\n",
    "\n",
    "    for i in range(len(langs)):\n",
    "        if i > 0:\n",
    "            keep_files = [f.replace(langs[i-1],langs[i]) for f in keep_files]\n",
    "        df.append(pandas.DataFrame({'file_name': keep_files, 'num_chars': file_length_list[i],\n",
    "                                    'num_tokens': token_count_list[i], 'num_table_cells': cell_count_list[i],\n",
    "                                    'num_numeric_tokens': numeric_count_list[i],\n",
    "                                    'num_alphabetic_tokens': alpha_count_list[i],\n",
    "                                    'length_alphabetic_tokens': alpha_length_list[i]}))\n",
    "    \n",
    "    f = open(jox_root+'%s.pickle' % str(yr),'wb')\n",
    "    pickle.dump(df,f)\n",
    "    f.close()"
   ]
  },
  {
   "cell_type": "code",
   "execution_count": 268,
   "metadata": {},
   "outputs": [],
   "source": [
    "(first_year,last_year) = (2004,2020)\n",
    "dfs = {}\n",
    "for yr in range(first_year,last_year):\n",
    "    f = open(jox_root+'%s.pickle' % str(yr),'rb')\n",
    "    dfs[yr] = pickle.load(f)\n",
    "    f.close()"
   ]
  },
  {
   "cell_type": "code",
   "execution_count": 269,
   "metadata": {},
   "outputs": [
    {
     "data": {
      "text/plain": [
       "23"
      ]
     },
     "execution_count": 269,
     "metadata": {},
     "output_type": "execute_result"
    }
   ],
   "source": [
    "dfs[2004][0]['num_tokens'].min()"
   ]
  },
  {
   "cell_type": "code",
   "execution_count": 45,
   "metadata": {},
   "outputs": [
    {
     "data": {
      "text/html": [
       "<div>\n",
       "<style scoped>\n",
       "    .dataframe tbody tr th:only-of-type {\n",
       "        vertical-align: middle;\n",
       "    }\n",
       "\n",
       "    .dataframe tbody tr th {\n",
       "        vertical-align: top;\n",
       "    }\n",
       "\n",
       "    .dataframe thead th {\n",
       "        text-align: right;\n",
       "    }\n",
       "</style>\n",
       "<table border=\"1\" class=\"dataframe\">\n",
       "  <thead>\n",
       "    <tr style=\"text-align: right;\">\n",
       "      <th></th>\n",
       "      <th>year</th>\n",
       "      <th>all_files</th>\n",
       "      <th>filtered_files</th>\n",
       "      <th>diff</th>\n",
       "    </tr>\n",
       "  </thead>\n",
       "  <tbody>\n",
       "    <tr>\n",
       "      <th>0</th>\n",
       "      <td>2004</td>\n",
       "      <td>5675</td>\n",
       "      <td>5675</td>\n",
       "      <td>0</td>\n",
       "    </tr>\n",
       "    <tr>\n",
       "      <th>1</th>\n",
       "      <td>2005</td>\n",
       "      <td>11964</td>\n",
       "      <td>11964</td>\n",
       "      <td>0</td>\n",
       "    </tr>\n",
       "    <tr>\n",
       "      <th>2</th>\n",
       "      <td>2006</td>\n",
       "      <td>14639</td>\n",
       "      <td>14639</td>\n",
       "      <td>0</td>\n",
       "    </tr>\n",
       "    <tr>\n",
       "      <th>3</th>\n",
       "      <td>2007</td>\n",
       "      <td>11409</td>\n",
       "      <td>11409</td>\n",
       "      <td>0</td>\n",
       "    </tr>\n",
       "    <tr>\n",
       "      <th>4</th>\n",
       "      <td>2008</td>\n",
       "      <td>13337</td>\n",
       "      <td>13337</td>\n",
       "      <td>0</td>\n",
       "    </tr>\n",
       "    <tr>\n",
       "      <th>5</th>\n",
       "      <td>2009</td>\n",
       "      <td>12049</td>\n",
       "      <td>12049</td>\n",
       "      <td>0</td>\n",
       "    </tr>\n",
       "    <tr>\n",
       "      <th>6</th>\n",
       "      <td>2010</td>\n",
       "      <td>12476</td>\n",
       "      <td>12476</td>\n",
       "      <td>0</td>\n",
       "    </tr>\n",
       "    <tr>\n",
       "      <th>7</th>\n",
       "      <td>2011</td>\n",
       "      <td>12499</td>\n",
       "      <td>12499</td>\n",
       "      <td>0</td>\n",
       "    </tr>\n",
       "    <tr>\n",
       "      <th>8</th>\n",
       "      <td>2012</td>\n",
       "      <td>12029</td>\n",
       "      <td>12029</td>\n",
       "      <td>0</td>\n",
       "    </tr>\n",
       "    <tr>\n",
       "      <th>9</th>\n",
       "      <td>2013</td>\n",
       "      <td>12879</td>\n",
       "      <td>12879</td>\n",
       "      <td>0</td>\n",
       "    </tr>\n",
       "    <tr>\n",
       "      <th>10</th>\n",
       "      <td>2014</td>\n",
       "      <td>13187</td>\n",
       "      <td>13187</td>\n",
       "      <td>0</td>\n",
       "    </tr>\n",
       "    <tr>\n",
       "      <th>11</th>\n",
       "      <td>2015</td>\n",
       "      <td>11796</td>\n",
       "      <td>11796</td>\n",
       "      <td>0</td>\n",
       "    </tr>\n",
       "    <tr>\n",
       "      <th>12</th>\n",
       "      <td>2016</td>\n",
       "      <td>12716</td>\n",
       "      <td>12716</td>\n",
       "      <td>0</td>\n",
       "    </tr>\n",
       "    <tr>\n",
       "      <th>13</th>\n",
       "      <td>2017</td>\n",
       "      <td>12384</td>\n",
       "      <td>12384</td>\n",
       "      <td>0</td>\n",
       "    </tr>\n",
       "    <tr>\n",
       "      <th>14</th>\n",
       "      <td>2018</td>\n",
       "      <td>11594</td>\n",
       "      <td>11594</td>\n",
       "      <td>0</td>\n",
       "    </tr>\n",
       "    <tr>\n",
       "      <th>15</th>\n",
       "      <td>2019</td>\n",
       "      <td>5801</td>\n",
       "      <td>5801</td>\n",
       "      <td>0</td>\n",
       "    </tr>\n",
       "  </tbody>\n",
       "</table>\n",
       "</div>"
      ],
      "text/plain": [
       "    year  all_files  filtered_files  diff\n",
       "0   2004       5675            5675     0\n",
       "1   2005      11964           11964     0\n",
       "2   2006      14639           14639     0\n",
       "3   2007      11409           11409     0\n",
       "4   2008      13337           13337     0\n",
       "5   2009      12049           12049     0\n",
       "6   2010      12476           12476     0\n",
       "7   2011      12499           12499     0\n",
       "8   2012      12029           12029     0\n",
       "9   2013      12879           12879     0\n",
       "10  2014      13187           13187     0\n",
       "11  2015      11796           11796     0\n",
       "12  2016      12716           12716     0\n",
       "13  2017      12384           12384     0\n",
       "14  2018      11594           11594     0\n",
       "15  2019       5801            5801     0"
      ]
     },
     "execution_count": 45,
     "metadata": {},
     "output_type": "execute_result"
    }
   ],
   "source": [
    "filecounts = pandas.DataFrame(np.zeros([16,4]),columns=['year','all_files','filtered_files','diff'],dtype=('int'))\n",
    "for yr in range(first_year,last_year):\n",
    "    dirname = dir_pattern.replace('xx',langs[0]).replace('yyyy',str(yr))\n",
    "    filecounts['year'][yr-first_year] = yr\n",
    "    filecounts['all_files'][yr-first_year] = len(os.listdir(dirname))\n",
    "    filecounts['filtered_files'][yr-first_year] = len(dfs[yr][0])\n",
    "\n",
    "filecounts"
   ]
  },
  {
   "cell_type": "code",
   "execution_count": 46,
   "metadata": {},
   "outputs": [],
   "source": [
    "filecounts['diff'] = filecounts['all_files'] - filecounts['filtered_files']"
   ]
  },
  {
   "cell_type": "code",
   "execution_count": 50,
   "metadata": {},
   "outputs": [],
   "source": [
    "minfiles = pandas.DataFrame(np.zeros([16,3]),columns=['year','min_HU','min_EN'],dtype=('int'))"
   ]
  },
  {
   "cell_type": "code",
   "execution_count": 51,
   "metadata": {},
   "outputs": [
    {
     "data": {
      "text/html": [
       "<div>\n",
       "<style scoped>\n",
       "    .dataframe tbody tr th:only-of-type {\n",
       "        vertical-align: middle;\n",
       "    }\n",
       "\n",
       "    .dataframe tbody tr th {\n",
       "        vertical-align: top;\n",
       "    }\n",
       "\n",
       "    .dataframe thead th {\n",
       "        text-align: right;\n",
       "    }\n",
       "</style>\n",
       "<table border=\"1\" class=\"dataframe\">\n",
       "  <thead>\n",
       "    <tr style=\"text-align: right;\">\n",
       "      <th></th>\n",
       "      <th>year</th>\n",
       "      <th>min_HU</th>\n",
       "      <th>min_EN</th>\n",
       "    </tr>\n",
       "  </thead>\n",
       "  <tbody>\n",
       "    <tr>\n",
       "      <th>0</th>\n",
       "      <td>2004</td>\n",
       "      <td>23</td>\n",
       "      <td>26</td>\n",
       "    </tr>\n",
       "    <tr>\n",
       "      <th>1</th>\n",
       "      <td>2005</td>\n",
       "      <td>26</td>\n",
       "      <td>24</td>\n",
       "    </tr>\n",
       "    <tr>\n",
       "      <th>2</th>\n",
       "      <td>2006</td>\n",
       "      <td>24</td>\n",
       "      <td>25</td>\n",
       "    </tr>\n",
       "    <tr>\n",
       "      <th>3</th>\n",
       "      <td>2007</td>\n",
       "      <td>23</td>\n",
       "      <td>25</td>\n",
       "    </tr>\n",
       "    <tr>\n",
       "      <th>4</th>\n",
       "      <td>2008</td>\n",
       "      <td>25</td>\n",
       "      <td>22</td>\n",
       "    </tr>\n",
       "    <tr>\n",
       "      <th>5</th>\n",
       "      <td>2009</td>\n",
       "      <td>23</td>\n",
       "      <td>24</td>\n",
       "    </tr>\n",
       "    <tr>\n",
       "      <th>6</th>\n",
       "      <td>2010</td>\n",
       "      <td>24</td>\n",
       "      <td>21</td>\n",
       "    </tr>\n",
       "    <tr>\n",
       "      <th>7</th>\n",
       "      <td>2011</td>\n",
       "      <td>26</td>\n",
       "      <td>25</td>\n",
       "    </tr>\n",
       "    <tr>\n",
       "      <th>8</th>\n",
       "      <td>2012</td>\n",
       "      <td>26</td>\n",
       "      <td>26</td>\n",
       "    </tr>\n",
       "    <tr>\n",
       "      <th>9</th>\n",
       "      <td>2013</td>\n",
       "      <td>22</td>\n",
       "      <td>24</td>\n",
       "    </tr>\n",
       "    <tr>\n",
       "      <th>10</th>\n",
       "      <td>2014</td>\n",
       "      <td>26</td>\n",
       "      <td>22</td>\n",
       "    </tr>\n",
       "    <tr>\n",
       "      <th>11</th>\n",
       "      <td>2015</td>\n",
       "      <td>24</td>\n",
       "      <td>25</td>\n",
       "    </tr>\n",
       "    <tr>\n",
       "      <th>12</th>\n",
       "      <td>2016</td>\n",
       "      <td>25</td>\n",
       "      <td>25</td>\n",
       "    </tr>\n",
       "    <tr>\n",
       "      <th>13</th>\n",
       "      <td>2017</td>\n",
       "      <td>25</td>\n",
       "      <td>27</td>\n",
       "    </tr>\n",
       "    <tr>\n",
       "      <th>14</th>\n",
       "      <td>2018</td>\n",
       "      <td>23</td>\n",
       "      <td>26</td>\n",
       "    </tr>\n",
       "    <tr>\n",
       "      <th>15</th>\n",
       "      <td>2019</td>\n",
       "      <td>28</td>\n",
       "      <td>28</td>\n",
       "    </tr>\n",
       "  </tbody>\n",
       "</table>\n",
       "</div>"
      ],
      "text/plain": [
       "    year  min_HU  min_EN\n",
       "0   2004      23      26\n",
       "1   2005      26      24\n",
       "2   2006      24      25\n",
       "3   2007      23      25\n",
       "4   2008      25      22\n",
       "5   2009      23      24\n",
       "6   2010      24      21\n",
       "7   2011      26      25\n",
       "8   2012      26      26\n",
       "9   2013      22      24\n",
       "10  2014      26      22\n",
       "11  2015      24      25\n",
       "12  2016      25      25\n",
       "13  2017      25      27\n",
       "14  2018      23      26\n",
       "15  2019      28      28"
      ]
     },
     "execution_count": 51,
     "metadata": {},
     "output_type": "execute_result"
    }
   ],
   "source": [
    "for yr in range(first_year,last_year):\n",
    "    dirname = dir_pattern.replace('xx',langs[0]).replace('yyyy',str(yr))\n",
    "    minfiles['year'][yr-first_year] = yr\n",
    "    minfiles['min_HU'][yr-first_year] = dfs[yr][0]['num_tokens'].min()\n",
    "    minfiles['min_EN'][yr-first_year] = dfs[yr][1]['num_tokens'].min()\n",
    "minfiles"
   ]
  },
  {
   "cell_type": "code",
   "execution_count": 90,
   "metadata": {},
   "outputs": [
    {
     "data": {
      "text/plain": [
       "Index(['file_name', 'num_chars', 'num_tokens', 'num_table_cells',\n",
       "       'num_numeric_tokens', 'num_alphabetic_tokens',\n",
       "       'length_alphabetic_tokens'],\n",
       "      dtype='object')"
      ]
     },
     "execution_count": 90,
     "metadata": {},
     "output_type": "execute_result"
    }
   ],
   "source": [
    "dfs[2010][0].columns"
   ]
  },
  {
   "cell_type": "code",
   "execution_count": 194,
   "metadata": {},
   "outputs": [],
   "source": [
    "ratios = pandas.DataFrame()\n",
    "for yr in range(first_year,last_year):\n",
    "    hu_data = dfs[yr][0]\n",
    "    en_data = dfs[yr][1]\n",
    "    ratios = ratios.append(\n",
    "        pandas.DataFrame(\n",
    "        {'year': [yr]*len(hu_data),\n",
    "            'file_name': hu_data['file_name'],\n",
    "           'num_alpha_ratio': hu_data['num_numeric_tokens'] / hu_data['num_alphabetic_tokens'],\n",
    "         'hu_en_num_ratio': hu_data['num_numeric_tokens'] / en_data['num_numeric_tokens'],\n",
    "         'hu_en_length_ratio': hu_data['num_chars'] / en_data['num_chars'],\n",
    "         'hu_en_char_ratio': (hu_data['num_alphabetic_tokens'] + hu_data['length_alphabetic_tokens']) / \n",
    "             (en_data['num_alphabetic_tokens'] + en_data['length_alphabetic_tokens']),\n",
    "        })\n",
    "    )"
   ]
  },
  {
   "cell_type": "code",
   "execution_count": 238,
   "metadata": {},
   "outputs": [],
   "source": [
    "ratios.to_csv(jox_root+'ratios.csv')"
   ]
  },
  {
   "cell_type": "code",
   "execution_count": 191,
   "metadata": {},
   "outputs": [
    {
     "data": {
      "text/plain": [
       "count    158206.000000\n",
       "mean          1.054561\n",
       "std           0.671184\n",
       "min           0.009905\n",
       "1%            0.894446\n",
       "10%           0.972181\n",
       "25%           1.004547\n",
       "50%           1.045210\n",
       "75%           1.089961\n",
       "90%           1.131380\n",
       "99%           1.251316\n",
       "max         154.484171\n",
       "Name: hu_en_length_ratio, dtype: float64"
      ]
     },
     "execution_count": 191,
     "metadata": {},
     "output_type": "execute_result"
    }
   ],
   "source": [
    "ratios['hu_en_length_ratio'][ratios['num_alpha_ratio'] < 0.3].describe(percentiles=[0.01,0.1,0.25,0.5,0.75,0.9,0.99])"
   ]
  },
  {
   "cell_type": "code",
   "execution_count": 190,
   "metadata": {},
   "outputs": [
    {
     "data": {
      "text/plain": [
       "count    155216.000000\n",
       "mean          1.046779\n",
       "std           0.067543\n",
       "min           0.808841\n",
       "25%           1.000430\n",
       "50%           1.043381\n",
       "75%           1.090553\n",
       "max           1.415254\n",
       "Name: hu_en_char_ratio, dtype: float64"
      ]
     },
     "execution_count": 190,
     "metadata": {},
     "output_type": "execute_result"
    }
   ],
   "source": [
    "ratios['hu_en_char_ratio'][(ratios['num_alpha_ratio'] < 0.3) & (ratios['hu_en_length_ratio'] > 0.89) & (ratios['hu_en_length_ratio'] < 1.25)].describe()"
   ]
  },
  {
   "cell_type": "code",
   "execution_count": 199,
   "metadata": {},
   "outputs": [
    {
     "data": {
      "text/html": [
       "<div>\n",
       "<style scoped>\n",
       "    .dataframe tbody tr th:only-of-type {\n",
       "        vertical-align: middle;\n",
       "    }\n",
       "\n",
       "    .dataframe tbody tr th {\n",
       "        vertical-align: top;\n",
       "    }\n",
       "\n",
       "    .dataframe thead th {\n",
       "        text-align: right;\n",
       "    }\n",
       "</style>\n",
       "<table border=\"1\" class=\"dataframe\">\n",
       "  <thead>\n",
       "    <tr style=\"text-align: right;\">\n",
       "      <th></th>\n",
       "      <th>year</th>\n",
       "      <th>file_name</th>\n",
       "      <th>num_alpha_ratio</th>\n",
       "      <th>hu_en_num_ratio</th>\n",
       "      <th>hu_en_length_ratio</th>\n",
       "      <th>hu_en_char_ratio</th>\n",
       "    </tr>\n",
       "  </thead>\n",
       "  <tbody>\n",
       "    <tr>\n",
       "      <th>0</th>\n",
       "      <td>2004</td>\n",
       "      <td>C_2004229HU.01001602.xml.txt</td>\n",
       "      <td>0.080645</td>\n",
       "      <td>1.000000</td>\n",
       "      <td>1.019567</td>\n",
       "      <td>1.016911</td>\n",
       "    </tr>\n",
       "    <tr>\n",
       "      <th>5</th>\n",
       "      <td>2004</td>\n",
       "      <td>CE2004321HU.01000602.xml.txt</td>\n",
       "      <td>0.023098</td>\n",
       "      <td>1.000000</td>\n",
       "      <td>1.063117</td>\n",
       "      <td>1.060715</td>\n",
       "    </tr>\n",
       "    <tr>\n",
       "      <th>8</th>\n",
       "      <td>2004</td>\n",
       "      <td>C_2004161HU.01000901.xml.txt</td>\n",
       "      <td>0.162791</td>\n",
       "      <td>1.000000</td>\n",
       "      <td>0.998668</td>\n",
       "      <td>0.998494</td>\n",
       "    </tr>\n",
       "    <tr>\n",
       "      <th>10</th>\n",
       "      <td>2004</td>\n",
       "      <td>C_2004314HU.01000101.xml.txt</td>\n",
       "      <td>0.158730</td>\n",
       "      <td>1.000000</td>\n",
       "      <td>1.049312</td>\n",
       "      <td>1.042724</td>\n",
       "    </tr>\n",
       "    <tr>\n",
       "      <th>11</th>\n",
       "      <td>2004</td>\n",
       "      <td>L_2004173HU.01000701.xml.txt</td>\n",
       "      <td>0.152542</td>\n",
       "      <td>1.000000</td>\n",
       "      <td>1.030722</td>\n",
       "      <td>1.046135</td>\n",
       "    </tr>\n",
       "    <tr>\n",
       "      <th>12</th>\n",
       "      <td>2004</td>\n",
       "      <td>L_2004172HU.01000101.xml.txt</td>\n",
       "      <td>0.214724</td>\n",
       "      <td>1.000000</td>\n",
       "      <td>1.010309</td>\n",
       "      <td>1.005426</td>\n",
       "    </tr>\n",
       "    <tr>\n",
       "      <th>13</th>\n",
       "      <td>2004</td>\n",
       "      <td>L_2004265HU.01000501.xml.txt</td>\n",
       "      <td>0.279605</td>\n",
       "      <td>1.000000</td>\n",
       "      <td>1.042194</td>\n",
       "      <td>1.039527</td>\n",
       "    </tr>\n",
       "    <tr>\n",
       "      <th>15</th>\n",
       "      <td>2004</td>\n",
       "      <td>C_2004300HU.01005401.xml.txt</td>\n",
       "      <td>0.048860</td>\n",
       "      <td>1.071429</td>\n",
       "      <td>0.962380</td>\n",
       "      <td>0.954473</td>\n",
       "    </tr>\n",
       "    <tr>\n",
       "      <th>16</th>\n",
       "      <td>2004</td>\n",
       "      <td>L_2004256HU.01002101.xml.txt</td>\n",
       "      <td>0.243590</td>\n",
       "      <td>1.085714</td>\n",
       "      <td>0.997416</td>\n",
       "      <td>0.968912</td>\n",
       "    </tr>\n",
       "    <tr>\n",
       "      <th>19</th>\n",
       "      <td>2004</td>\n",
       "      <td>C_2004218HU.01000201.xml.txt</td>\n",
       "      <td>0.193548</td>\n",
       "      <td>1.200000</td>\n",
       "      <td>1.020619</td>\n",
       "      <td>1.010062</td>\n",
       "    </tr>\n",
       "    <tr>\n",
       "      <th>20</th>\n",
       "      <td>2004</td>\n",
       "      <td>L_2004274HU.01000501.xml.txt</td>\n",
       "      <td>0.055690</td>\n",
       "      <td>0.920000</td>\n",
       "      <td>1.075426</td>\n",
       "      <td>1.077325</td>\n",
       "    </tr>\n",
       "    <tr>\n",
       "      <th>21</th>\n",
       "      <td>2004</td>\n",
       "      <td>C_2004217HU.01003502.xml.txt</td>\n",
       "      <td>0.112245</td>\n",
       "      <td>1.047619</td>\n",
       "      <td>1.024684</td>\n",
       "      <td>1.021305</td>\n",
       "    </tr>\n",
       "    <tr>\n",
       "      <th>22</th>\n",
       "      <td>2004</td>\n",
       "      <td>L_2004278HU.01005501.xml.txt</td>\n",
       "      <td>0.268595</td>\n",
       "      <td>1.000000</td>\n",
       "      <td>1.000000</td>\n",
       "      <td>0.994155</td>\n",
       "    </tr>\n",
       "    <tr>\n",
       "      <th>23</th>\n",
       "      <td>2004</td>\n",
       "      <td>C_2004231HU.01S00301.xml.txt</td>\n",
       "      <td>0.034483</td>\n",
       "      <td>1.333333</td>\n",
       "      <td>0.937968</td>\n",
       "      <td>0.942922</td>\n",
       "    </tr>\n",
       "    <tr>\n",
       "      <th>24</th>\n",
       "      <td>2004</td>\n",
       "      <td>C_2004300HU.01004201.xml.txt</td>\n",
       "      <td>0.079012</td>\n",
       "      <td>1.032258</td>\n",
       "      <td>1.001450</td>\n",
       "      <td>0.991424</td>\n",
       "    </tr>\n",
       "    <tr>\n",
       "      <th>25</th>\n",
       "      <td>2004</td>\n",
       "      <td>C_2004268HU.01001601.xml.txt</td>\n",
       "      <td>0.101796</td>\n",
       "      <td>0.971429</td>\n",
       "      <td>1.062123</td>\n",
       "      <td>1.067263</td>\n",
       "    </tr>\n",
       "    <tr>\n",
       "      <th>26</th>\n",
       "      <td>2004</td>\n",
       "      <td>L_2004276HU.01001101.xml.txt</td>\n",
       "      <td>0.128852</td>\n",
       "      <td>1.000000</td>\n",
       "      <td>1.167961</td>\n",
       "      <td>1.170875</td>\n",
       "    </tr>\n",
       "    <tr>\n",
       "      <th>27</th>\n",
       "      <td>2004</td>\n",
       "      <td>L_2004331HU.01001601.xml.txt</td>\n",
       "      <td>0.121593</td>\n",
       "      <td>1.000000</td>\n",
       "      <td>0.934221</td>\n",
       "      <td>0.911353</td>\n",
       "    </tr>\n",
       "    <tr>\n",
       "      <th>29</th>\n",
       "      <td>2004</td>\n",
       "      <td>C_2004284HU.01000501.xml.txt</td>\n",
       "      <td>0.179856</td>\n",
       "      <td>0.925926</td>\n",
       "      <td>0.969072</td>\n",
       "      <td>0.968442</td>\n",
       "    </tr>\n",
       "    <tr>\n",
       "      <th>30</th>\n",
       "      <td>2004</td>\n",
       "      <td>L_2004281HU.01021901.xml.txt</td>\n",
       "      <td>0.060650</td>\n",
       "      <td>0.961538</td>\n",
       "      <td>1.144095</td>\n",
       "      <td>1.158790</td>\n",
       "    </tr>\n",
       "    <tr>\n",
       "      <th>31</th>\n",
       "      <td>2004</td>\n",
       "      <td>C_2004312HU.01001301.xml.txt</td>\n",
       "      <td>0.119469</td>\n",
       "      <td>0.972973</td>\n",
       "      <td>1.050742</td>\n",
       "      <td>1.048974</td>\n",
       "    </tr>\n",
       "    <tr>\n",
       "      <th>32</th>\n",
       "      <td>2004</td>\n",
       "      <td>L_2004266HU.01001001.xml.txt</td>\n",
       "      <td>0.268595</td>\n",
       "      <td>1.000000</td>\n",
       "      <td>1.001837</td>\n",
       "      <td>0.996271</td>\n",
       "    </tr>\n",
       "    <tr>\n",
       "      <th>34</th>\n",
       "      <td>2004</td>\n",
       "      <td>L_2004258HU.01000101.xml.txt</td>\n",
       "      <td>0.162791</td>\n",
       "      <td>1.000000</td>\n",
       "      <td>1.055455</td>\n",
       "      <td>1.056335</td>\n",
       "    </tr>\n",
       "    <tr>\n",
       "      <th>35</th>\n",
       "      <td>2004</td>\n",
       "      <td>L_2004339HU.01000601.xml.txt</td>\n",
       "      <td>0.238434</td>\n",
       "      <td>1.000000</td>\n",
       "      <td>0.963869</td>\n",
       "      <td>0.954667</td>\n",
       "    </tr>\n",
       "    <tr>\n",
       "      <th>37</th>\n",
       "      <td>2004</td>\n",
       "      <td>L_2004354HU.01004301.xml.txt</td>\n",
       "      <td>0.067611</td>\n",
       "      <td>1.062500</td>\n",
       "      <td>1.051097</td>\n",
       "      <td>1.059227</td>\n",
       "    </tr>\n",
       "    <tr>\n",
       "      <th>39</th>\n",
       "      <td>2004</td>\n",
       "      <td>L_2004367HU.01000601.xml.txt</td>\n",
       "      <td>0.212121</td>\n",
       "      <td>1.000000</td>\n",
       "      <td>1.001333</td>\n",
       "      <td>0.996243</td>\n",
       "    </tr>\n",
       "    <tr>\n",
       "      <th>40</th>\n",
       "      <td>2004</td>\n",
       "      <td>L_2004254HU.01002901.xml.txt</td>\n",
       "      <td>0.281250</td>\n",
       "      <td>1.000000</td>\n",
       "      <td>1.011307</td>\n",
       "      <td>1.005867</td>\n",
       "    </tr>\n",
       "    <tr>\n",
       "      <th>41</th>\n",
       "      <td>2004</td>\n",
       "      <td>L_2004321HU.01002301.xml.txt</td>\n",
       "      <td>0.203540</td>\n",
       "      <td>1.000000</td>\n",
       "      <td>0.980898</td>\n",
       "      <td>0.977113</td>\n",
       "    </tr>\n",
       "    <tr>\n",
       "      <th>42</th>\n",
       "      <td>2004</td>\n",
       "      <td>C_2004201HU.01001101.xml.txt</td>\n",
       "      <td>0.077236</td>\n",
       "      <td>0.863636</td>\n",
       "      <td>0.941549</td>\n",
       "      <td>0.942798</td>\n",
       "    </tr>\n",
       "    <tr>\n",
       "      <th>43</th>\n",
       "      <td>2004</td>\n",
       "      <td>C_2004315HU.01000302.xml.txt</td>\n",
       "      <td>0.136364</td>\n",
       "      <td>1.000000</td>\n",
       "      <td>0.932836</td>\n",
       "      <td>0.929624</td>\n",
       "    </tr>\n",
       "    <tr>\n",
       "      <th>...</th>\n",
       "      <td>...</td>\n",
       "      <td>...</td>\n",
       "      <td>...</td>\n",
       "      <td>...</td>\n",
       "      <td>...</td>\n",
       "      <td>...</td>\n",
       "    </tr>\n",
       "    <tr>\n",
       "      <th>5637</th>\n",
       "      <td>2004</td>\n",
       "      <td>L_2004251HU.01001701.xml.txt</td>\n",
       "      <td>0.097436</td>\n",
       "      <td>1.000000</td>\n",
       "      <td>0.953057</td>\n",
       "      <td>0.963529</td>\n",
       "    </tr>\n",
       "    <tr>\n",
       "      <th>5639</th>\n",
       "      <td>2004</td>\n",
       "      <td>L_2004272HU.01000301.xml.txt</td>\n",
       "      <td>0.099812</td>\n",
       "      <td>1.000000</td>\n",
       "      <td>0.985956</td>\n",
       "      <td>0.978222</td>\n",
       "    </tr>\n",
       "    <tr>\n",
       "      <th>5641</th>\n",
       "      <td>2004</td>\n",
       "      <td>L_2004316HU.01005801.xml.txt</td>\n",
       "      <td>0.168618</td>\n",
       "      <td>1.028571</td>\n",
       "      <td>0.996760</td>\n",
       "      <td>0.990496</td>\n",
       "    </tr>\n",
       "    <tr>\n",
       "      <th>5642</th>\n",
       "      <td>2004</td>\n",
       "      <td>L_2004218HU.01000101.xml.txt</td>\n",
       "      <td>0.214724</td>\n",
       "      <td>1.000000</td>\n",
       "      <td>1.009576</td>\n",
       "      <td>1.005414</td>\n",
       "    </tr>\n",
       "    <tr>\n",
       "      <th>5643</th>\n",
       "      <td>2004</td>\n",
       "      <td>L_2004345HU.01006301.xml.txt</td>\n",
       "      <td>0.035088</td>\n",
       "      <td>1.000000</td>\n",
       "      <td>1.064795</td>\n",
       "      <td>1.069307</td>\n",
       "    </tr>\n",
       "    <tr>\n",
       "      <th>5644</th>\n",
       "      <td>2004</td>\n",
       "      <td>C_2004211HU.01001101.xml.txt</td>\n",
       "      <td>0.124113</td>\n",
       "      <td>1.166667</td>\n",
       "      <td>1.115830</td>\n",
       "      <td>1.122481</td>\n",
       "    </tr>\n",
       "    <tr>\n",
       "      <th>5645</th>\n",
       "      <td>2004</td>\n",
       "      <td>C_2004156HU.01000303.xml.txt</td>\n",
       "      <td>0.094340</td>\n",
       "      <td>1.000000</td>\n",
       "      <td>1.079923</td>\n",
       "      <td>1.078611</td>\n",
       "    </tr>\n",
       "    <tr>\n",
       "      <th>5646</th>\n",
       "      <td>2004</td>\n",
       "      <td>L_2004310HU.01006201.xml.txt</td>\n",
       "      <td>0.075075</td>\n",
       "      <td>1.000000</td>\n",
       "      <td>1.014808</td>\n",
       "      <td>1.016452</td>\n",
       "    </tr>\n",
       "    <tr>\n",
       "      <th>5648</th>\n",
       "      <td>2004</td>\n",
       "      <td>L_2004278HU.01005901.xml.txt</td>\n",
       "      <td>0.195767</td>\n",
       "      <td>0.986667</td>\n",
       "      <td>1.014812</td>\n",
       "      <td>1.008553</td>\n",
       "    </tr>\n",
       "    <tr>\n",
       "      <th>5650</th>\n",
       "      <td>2004</td>\n",
       "      <td>C_2004239HU.01000101.xml.txt</td>\n",
       "      <td>0.120513</td>\n",
       "      <td>0.959184</td>\n",
       "      <td>0.955477</td>\n",
       "      <td>0.942788</td>\n",
       "    </tr>\n",
       "    <tr>\n",
       "      <th>5651</th>\n",
       "      <td>2004</td>\n",
       "      <td>C_2004179HU.01000901.xml.txt</td>\n",
       "      <td>0.126761</td>\n",
       "      <td>1.000000</td>\n",
       "      <td>0.982272</td>\n",
       "      <td>0.973913</td>\n",
       "    </tr>\n",
       "    <tr>\n",
       "      <th>5652</th>\n",
       "      <td>2004</td>\n",
       "      <td>C_2004200HU.01000401.xml.txt</td>\n",
       "      <td>0.080645</td>\n",
       "      <td>1.041667</td>\n",
       "      <td>1.017557</td>\n",
       "      <td>1.017282</td>\n",
       "    </tr>\n",
       "    <tr>\n",
       "      <th>5653</th>\n",
       "      <td>2004</td>\n",
       "      <td>C_2004251HU.01002301.xml.txt</td>\n",
       "      <td>0.081744</td>\n",
       "      <td>1.000000</td>\n",
       "      <td>1.029652</td>\n",
       "      <td>1.020195</td>\n",
       "    </tr>\n",
       "    <tr>\n",
       "      <th>5654</th>\n",
       "      <td>2004</td>\n",
       "      <td>L_2004331HU.01000101.xml.txt</td>\n",
       "      <td>0.185682</td>\n",
       "      <td>1.000000</td>\n",
       "      <td>1.047765</td>\n",
       "      <td>1.049433</td>\n",
       "    </tr>\n",
       "    <tr>\n",
       "      <th>5655</th>\n",
       "      <td>2004</td>\n",
       "      <td>L_2004182HU.01002702.xml.txt</td>\n",
       "      <td>0.051402</td>\n",
       "      <td>1.000000</td>\n",
       "      <td>0.972493</td>\n",
       "      <td>0.965165</td>\n",
       "    </tr>\n",
       "    <tr>\n",
       "      <th>5656</th>\n",
       "      <td>2004</td>\n",
       "      <td>L_2004179HU.01000601.xml.txt</td>\n",
       "      <td>0.169412</td>\n",
       "      <td>1.028571</td>\n",
       "      <td>0.994310</td>\n",
       "      <td>0.988376</td>\n",
       "    </tr>\n",
       "    <tr>\n",
       "      <th>5657</th>\n",
       "      <td>2004</td>\n",
       "      <td>C_2004241HU.01002301.xml.txt</td>\n",
       "      <td>0.106312</td>\n",
       "      <td>1.066667</td>\n",
       "      <td>1.045080</td>\n",
       "      <td>1.044145</td>\n",
       "    </tr>\n",
       "    <tr>\n",
       "      <th>5660</th>\n",
       "      <td>2004</td>\n",
       "      <td>C_2004321HU.01001001.xml.txt</td>\n",
       "      <td>0.130597</td>\n",
       "      <td>0.972222</td>\n",
       "      <td>1.066730</td>\n",
       "      <td>1.073016</td>\n",
       "    </tr>\n",
       "    <tr>\n",
       "      <th>5661</th>\n",
       "      <td>2004</td>\n",
       "      <td>L_2004337HU.01004301.xml.txt</td>\n",
       "      <td>0.101266</td>\n",
       "      <td>1.000000</td>\n",
       "      <td>1.104132</td>\n",
       "      <td>1.110108</td>\n",
       "    </tr>\n",
       "    <tr>\n",
       "      <th>5662</th>\n",
       "      <td>2004</td>\n",
       "      <td>C_2004284HU.01002901.xml.txt</td>\n",
       "      <td>0.134503</td>\n",
       "      <td>1.150000</td>\n",
       "      <td>1.035688</td>\n",
       "      <td>1.009788</td>\n",
       "    </tr>\n",
       "    <tr>\n",
       "      <th>5663</th>\n",
       "      <td>2004</td>\n",
       "      <td>C_2004195HU.01000401.xml.txt</td>\n",
       "      <td>0.141956</td>\n",
       "      <td>1.097561</td>\n",
       "      <td>1.009966</td>\n",
       "      <td>1.005922</td>\n",
       "    </tr>\n",
       "    <tr>\n",
       "      <th>5664</th>\n",
       "      <td>2004</td>\n",
       "      <td>C_2004160HU.01000501.xml.txt</td>\n",
       "      <td>0.080109</td>\n",
       "      <td>1.040609</td>\n",
       "      <td>1.065250</td>\n",
       "      <td>1.058462</td>\n",
       "    </tr>\n",
       "    <tr>\n",
       "      <th>5665</th>\n",
       "      <td>2004</td>\n",
       "      <td>L_2004190HU.01002001.xml.txt</td>\n",
       "      <td>0.168618</td>\n",
       "      <td>1.028571</td>\n",
       "      <td>0.997833</td>\n",
       "      <td>0.992250</td>\n",
       "    </tr>\n",
       "    <tr>\n",
       "      <th>5666</th>\n",
       "      <td>2004</td>\n",
       "      <td>C_2004239HU.01002402.xml.txt</td>\n",
       "      <td>0.154639</td>\n",
       "      <td>1.000000</td>\n",
       "      <td>0.969526</td>\n",
       "      <td>0.961250</td>\n",
       "    </tr>\n",
       "    <tr>\n",
       "      <th>5668</th>\n",
       "      <td>2004</td>\n",
       "      <td>C_2004179HU.01001201.xml.txt</td>\n",
       "      <td>0.054795</td>\n",
       "      <td>1.000000</td>\n",
       "      <td>1.013064</td>\n",
       "      <td>1.003506</td>\n",
       "    </tr>\n",
       "    <tr>\n",
       "      <th>5669</th>\n",
       "      <td>2004</td>\n",
       "      <td>C_2004300HU.01002001.xml.txt</td>\n",
       "      <td>0.167442</td>\n",
       "      <td>1.000000</td>\n",
       "      <td>1.123632</td>\n",
       "      <td>1.138971</td>\n",
       "    </tr>\n",
       "    <tr>\n",
       "      <th>5670</th>\n",
       "      <td>2004</td>\n",
       "      <td>L_2004322HU.01001901.xml.txt</td>\n",
       "      <td>0.143041</td>\n",
       "      <td>1.000000</td>\n",
       "      <td>1.056162</td>\n",
       "      <td>1.051120</td>\n",
       "    </tr>\n",
       "    <tr>\n",
       "      <th>5671</th>\n",
       "      <td>2004</td>\n",
       "      <td>L_2004247HU.01001301.xml.txt</td>\n",
       "      <td>0.201863</td>\n",
       "      <td>1.000000</td>\n",
       "      <td>1.033680</td>\n",
       "      <td>1.033360</td>\n",
       "    </tr>\n",
       "    <tr>\n",
       "      <th>5672</th>\n",
       "      <td>2004</td>\n",
       "      <td>L_2004230HU.01000501.xml.txt</td>\n",
       "      <td>0.212389</td>\n",
       "      <td>1.000000</td>\n",
       "      <td>1.069055</td>\n",
       "      <td>1.071137</td>\n",
       "    </tr>\n",
       "    <tr>\n",
       "      <th>5674</th>\n",
       "      <td>2004</td>\n",
       "      <td>L_2004289HU.01001601.xml.txt</td>\n",
       "      <td>0.117851</td>\n",
       "      <td>1.000000</td>\n",
       "      <td>1.067928</td>\n",
       "      <td>1.099213</td>\n",
       "    </tr>\n",
       "  </tbody>\n",
       "</table>\n",
       "<p>4166 rows × 6 columns</p>\n",
       "</div>"
      ],
      "text/plain": [
       "      year                     file_name  num_alpha_ratio  hu_en_num_ratio  \\\n",
       "0     2004  C_2004229HU.01001602.xml.txt         0.080645         1.000000   \n",
       "5     2004  CE2004321HU.01000602.xml.txt         0.023098         1.000000   \n",
       "8     2004  C_2004161HU.01000901.xml.txt         0.162791         1.000000   \n",
       "10    2004  C_2004314HU.01000101.xml.txt         0.158730         1.000000   \n",
       "11    2004  L_2004173HU.01000701.xml.txt         0.152542         1.000000   \n",
       "12    2004  L_2004172HU.01000101.xml.txt         0.214724         1.000000   \n",
       "13    2004  L_2004265HU.01000501.xml.txt         0.279605         1.000000   \n",
       "15    2004  C_2004300HU.01005401.xml.txt         0.048860         1.071429   \n",
       "16    2004  L_2004256HU.01002101.xml.txt         0.243590         1.085714   \n",
       "19    2004  C_2004218HU.01000201.xml.txt         0.193548         1.200000   \n",
       "20    2004  L_2004274HU.01000501.xml.txt         0.055690         0.920000   \n",
       "21    2004  C_2004217HU.01003502.xml.txt         0.112245         1.047619   \n",
       "22    2004  L_2004278HU.01005501.xml.txt         0.268595         1.000000   \n",
       "23    2004  C_2004231HU.01S00301.xml.txt         0.034483         1.333333   \n",
       "24    2004  C_2004300HU.01004201.xml.txt         0.079012         1.032258   \n",
       "25    2004  C_2004268HU.01001601.xml.txt         0.101796         0.971429   \n",
       "26    2004  L_2004276HU.01001101.xml.txt         0.128852         1.000000   \n",
       "27    2004  L_2004331HU.01001601.xml.txt         0.121593         1.000000   \n",
       "29    2004  C_2004284HU.01000501.xml.txt         0.179856         0.925926   \n",
       "30    2004  L_2004281HU.01021901.xml.txt         0.060650         0.961538   \n",
       "31    2004  C_2004312HU.01001301.xml.txt         0.119469         0.972973   \n",
       "32    2004  L_2004266HU.01001001.xml.txt         0.268595         1.000000   \n",
       "34    2004  L_2004258HU.01000101.xml.txt         0.162791         1.000000   \n",
       "35    2004  L_2004339HU.01000601.xml.txt         0.238434         1.000000   \n",
       "37    2004  L_2004354HU.01004301.xml.txt         0.067611         1.062500   \n",
       "39    2004  L_2004367HU.01000601.xml.txt         0.212121         1.000000   \n",
       "40    2004  L_2004254HU.01002901.xml.txt         0.281250         1.000000   \n",
       "41    2004  L_2004321HU.01002301.xml.txt         0.203540         1.000000   \n",
       "42    2004  C_2004201HU.01001101.xml.txt         0.077236         0.863636   \n",
       "43    2004  C_2004315HU.01000302.xml.txt         0.136364         1.000000   \n",
       "...    ...                           ...              ...              ...   \n",
       "5637  2004  L_2004251HU.01001701.xml.txt         0.097436         1.000000   \n",
       "5639  2004  L_2004272HU.01000301.xml.txt         0.099812         1.000000   \n",
       "5641  2004  L_2004316HU.01005801.xml.txt         0.168618         1.028571   \n",
       "5642  2004  L_2004218HU.01000101.xml.txt         0.214724         1.000000   \n",
       "5643  2004  L_2004345HU.01006301.xml.txt         0.035088         1.000000   \n",
       "5644  2004  C_2004211HU.01001101.xml.txt         0.124113         1.166667   \n",
       "5645  2004  C_2004156HU.01000303.xml.txt         0.094340         1.000000   \n",
       "5646  2004  L_2004310HU.01006201.xml.txt         0.075075         1.000000   \n",
       "5648  2004  L_2004278HU.01005901.xml.txt         0.195767         0.986667   \n",
       "5650  2004  C_2004239HU.01000101.xml.txt         0.120513         0.959184   \n",
       "5651  2004  C_2004179HU.01000901.xml.txt         0.126761         1.000000   \n",
       "5652  2004  C_2004200HU.01000401.xml.txt         0.080645         1.041667   \n",
       "5653  2004  C_2004251HU.01002301.xml.txt         0.081744         1.000000   \n",
       "5654  2004  L_2004331HU.01000101.xml.txt         0.185682         1.000000   \n",
       "5655  2004  L_2004182HU.01002702.xml.txt         0.051402         1.000000   \n",
       "5656  2004  L_2004179HU.01000601.xml.txt         0.169412         1.028571   \n",
       "5657  2004  C_2004241HU.01002301.xml.txt         0.106312         1.066667   \n",
       "5660  2004  C_2004321HU.01001001.xml.txt         0.130597         0.972222   \n",
       "5661  2004  L_2004337HU.01004301.xml.txt         0.101266         1.000000   \n",
       "5662  2004  C_2004284HU.01002901.xml.txt         0.134503         1.150000   \n",
       "5663  2004  C_2004195HU.01000401.xml.txt         0.141956         1.097561   \n",
       "5664  2004  C_2004160HU.01000501.xml.txt         0.080109         1.040609   \n",
       "5665  2004  L_2004190HU.01002001.xml.txt         0.168618         1.028571   \n",
       "5666  2004  C_2004239HU.01002402.xml.txt         0.154639         1.000000   \n",
       "5668  2004  C_2004179HU.01001201.xml.txt         0.054795         1.000000   \n",
       "5669  2004  C_2004300HU.01002001.xml.txt         0.167442         1.000000   \n",
       "5670  2004  L_2004322HU.01001901.xml.txt         0.143041         1.000000   \n",
       "5671  2004  L_2004247HU.01001301.xml.txt         0.201863         1.000000   \n",
       "5672  2004  L_2004230HU.01000501.xml.txt         0.212389         1.000000   \n",
       "5674  2004  L_2004289HU.01001601.xml.txt         0.117851         1.000000   \n",
       "\n",
       "      hu_en_length_ratio  hu_en_char_ratio  \n",
       "0               1.019567          1.016911  \n",
       "5               1.063117          1.060715  \n",
       "8               0.998668          0.998494  \n",
       "10              1.049312          1.042724  \n",
       "11              1.030722          1.046135  \n",
       "12              1.010309          1.005426  \n",
       "13              1.042194          1.039527  \n",
       "15              0.962380          0.954473  \n",
       "16              0.997416          0.968912  \n",
       "19              1.020619          1.010062  \n",
       "20              1.075426          1.077325  \n",
       "21              1.024684          1.021305  \n",
       "22              1.000000          0.994155  \n",
       "23              0.937968          0.942922  \n",
       "24              1.001450          0.991424  \n",
       "25              1.062123          1.067263  \n",
       "26              1.167961          1.170875  \n",
       "27              0.934221          0.911353  \n",
       "29              0.969072          0.968442  \n",
       "30              1.144095          1.158790  \n",
       "31              1.050742          1.048974  \n",
       "32              1.001837          0.996271  \n",
       "34              1.055455          1.056335  \n",
       "35              0.963869          0.954667  \n",
       "37              1.051097          1.059227  \n",
       "39              1.001333          0.996243  \n",
       "40              1.011307          1.005867  \n",
       "41              0.980898          0.977113  \n",
       "42              0.941549          0.942798  \n",
       "43              0.932836          0.929624  \n",
       "...                  ...               ...  \n",
       "5637            0.953057          0.963529  \n",
       "5639            0.985956          0.978222  \n",
       "5641            0.996760          0.990496  \n",
       "5642            1.009576          1.005414  \n",
       "5643            1.064795          1.069307  \n",
       "5644            1.115830          1.122481  \n",
       "5645            1.079923          1.078611  \n",
       "5646            1.014808          1.016452  \n",
       "5648            1.014812          1.008553  \n",
       "5650            0.955477          0.942788  \n",
       "5651            0.982272          0.973913  \n",
       "5652            1.017557          1.017282  \n",
       "5653            1.029652          1.020195  \n",
       "5654            1.047765          1.049433  \n",
       "5655            0.972493          0.965165  \n",
       "5656            0.994310          0.988376  \n",
       "5657            1.045080          1.044145  \n",
       "5660            1.066730          1.073016  \n",
       "5661            1.104132          1.110108  \n",
       "5662            1.035688          1.009788  \n",
       "5663            1.009966          1.005922  \n",
       "5664            1.065250          1.058462  \n",
       "5665            0.997833          0.992250  \n",
       "5666            0.969526          0.961250  \n",
       "5668            1.013064          1.003506  \n",
       "5669            1.123632          1.138971  \n",
       "5670            1.056162          1.051120  \n",
       "5671            1.033680          1.033360  \n",
       "5672            1.069055          1.071137  \n",
       "5674            1.067928          1.099213  \n",
       "\n",
       "[4166 rows x 6 columns]"
      ]
     },
     "execution_count": 199,
     "metadata": {},
     "output_type": "execute_result"
    }
   ],
   "source": [
    "ratios[(ratios['year'] == 2004) & (ratios['num_alpha_ratio'] < 0.3) & (ratios['hu_en_length_ratio'] > 0.89) & (ratios['hu_en_length_ratio'] < 1.25)]"
   ]
  },
  {
   "cell_type": "code",
   "execution_count": 206,
   "metadata": {},
   "outputs": [],
   "source": [
    "ratios = pandas.DataFrame.read_csv(jox_root+'ratios.csv')"
   ]
  },
  {
   "cell_type": "code",
   "execution_count": 207,
   "metadata": {},
   "outputs": [
    {
     "data": {
      "text/plain": [
       "4166"
      ]
     },
     "execution_count": 207,
     "metadata": {},
     "output_type": "execute_result"
    }
   ],
   "source": [
    "len(fajlok)"
   ]
  },
  {
   "cell_type": "code",
   "execution_count": 244,
   "metadata": {},
   "outputs": [
    {
     "name": "stdout",
     "output_type": "stream",
     "text": [
      "2004 start\n",
      "2004 done\n",
      "8.406369924545288\n",
      "2005 start\n",
      "2005 done\n",
      "22.29979681968689\n"
     ]
    }
   ],
   "source": [
    "import time\n",
    "(first_year,last_year) = (2004,2006)\n",
    "df = pandas.DataFrame()\n",
    "for yr in range(first_year,last_year):\n",
    "    print(yr,'start')\n",
    "    dirname = dir_pattern.replace('xx','HU').replace('yyyy',str(yr))\n",
    "    fajlok = ratios['file_name'][(ratios['year'] == yr) & (ratios['num_alpha_ratio'] < 0.3) & (ratios['hu_en_length_ratio'] > 0.89) & (ratios['hu_en_length_ratio'] < 1.25)].to_numpy()\n",
    "    start_time = time.time()\n",
    "    similarity = np.zeros(len(fajlok))\n",
    "    for i in range(len(fajlok)):\n",
    "        alpha_types = list()\n",
    "        fpath = dirname + fajlok[i]\n",
    "        f = open(fpath,encoding = 'utf8')\n",
    "        txt = f.read()\n",
    "        f.close()\n",
    "        alpha_types.append(set([w for w in regex.split('(\\W)',txt) if len(w) and w.isalpha()]))\n",
    "        f = open(fpath.replace('HU','EN'),encoding = 'utf8')\n",
    "        txt = f.read()\n",
    "        f.close()\n",
    "        alpha_types.append(set([w for w in regex.split('(\\W)',txt) if len(w) and w.isalpha()]))\n",
    "        similarity[i] = len(alpha_types[0].intersection(alpha_types[1])) / min(len(alpha_types[0]),len(alpha_types[1]))\n",
    "    df = df.append(pandas.DataFrame({'year': [yr] * len(fajlok), 'file_name': fajlok, 'similarity': similarity}))\n",
    "    print(yr,'done')\n",
    "    print(time.time()-start_time)"
   ]
  },
  {
   "cell_type": "code",
   "execution_count": 254,
   "metadata": {},
   "outputs": [],
   "source": [
    "df2 = pandas.merge(ratios,df[['file_name','similarity']],on='file_name')"
   ]
  },
  {
   "cell_type": "code",
   "execution_count": null,
   "metadata": {},
   "outputs": [],
   "source": [
    "df2.to_csv(jox_root+'ratios_with_en_hu_similarity.csv')"
   ]
  },
  {
   "cell_type": "code",
   "execution_count": null,
   "metadata": {},
   "outputs": [],
   "source": [
    "df2['similarity'].describe(percentiles=[0.01,0.1,0.25,0.5,0.75,0.9,0.99])"
   ]
  },
  {
   "cell_type": "code",
   "execution_count": 432,
   "metadata": {},
   "outputs": [
    {
     "name": "stderr",
     "output_type": "stream",
     "text": [
      "C:\\Users\\Gergo\\Anaconda3\\lib\\site-packages\\ipykernel_launcher.py:1: FutureWarning: The signature of `Series.to_csv` was aligned to that of `DataFrame.to_csv`, and argument 'header' will change its default value from False to True: please pass an explicit value to suppress this warning.\n",
      "  \"\"\"Entry point for launching an IPython kernel.\n"
     ]
    }
   ],
   "source": [
    "df2['file_name'][df2['similarity'] < 0.5].to_csv('/home/pgergo/prog/msc/JOx/files_filtered_by_similarity.csv')"
   ]
  },
  {
   "cell_type": "code",
   "execution_count": 259,
   "metadata": {},
   "outputs": [],
   "source": [
    "filtered_files = pandas.read_csv(jox_root+'files_filtered_by_similarity.csv',header=None)"
   ]
  },
  {
   "cell_type": "code",
   "execution_count": 263,
   "metadata": {},
   "outputs": [],
   "source": [
    "filtered_files.columns = [0,'file_name']"
   ]
  },
  {
   "cell_type": "code",
   "execution_count": 265,
   "metadata": {},
   "outputs": [],
   "source": [
    "filtered_files = filtered_files['file_name']"
   ]
  },
  {
   "cell_type": "code",
   "execution_count": 272,
   "metadata": {},
   "outputs": [
    {
     "data": {
      "text/plain": [
       "3825"
      ]
     },
     "execution_count": 272,
     "metadata": {},
     "output_type": "execute_result"
    }
   ],
   "source": [
    "len(pandas.merge(dfs[2004][0],filtered_files))"
   ]
  },
  {
   "cell_type": "code",
   "execution_count": 357,
   "metadata": {},
   "outputs": [],
   "source": [
    "sorted_filtered = pandas.merge(dfs[2004][0],filtered_files).sort_values(by=['num_chars'])\n",
    "sorted_filtered_np = sorted_filtered[['file_name','num_chars']].to_numpy()"
   ]
  },
  {
   "cell_type": "code",
   "execution_count": 343,
   "metadata": {},
   "outputs": [
    {
     "data": {
      "text/plain": [
       "670200"
      ]
     },
     "execution_count": 343,
     "metadata": {},
     "output_type": "execute_result"
    }
   ],
   "source": [
    "comparisons = 0\n",
    "for i in range(1999):\n",
    "    j = i + 1\n",
    "    while j < len(sorted_filtered_np) and sorted_filtered_np[j][1] < sorted_filtered_np[i][1] * 1.2:\n",
    "        comparisons += 1\n",
    "        j += 1\n",
    "comparisons"
   ]
  },
  {
   "cell_type": "code",
   "execution_count": 344,
   "metadata": {},
   "outputs": [],
   "source": [
    "dirname = dir_pattern.replace('xx',langs[0]).replace('yyyy',str(2004))\n",
    "alpha_types = list()\n",
    "for i in range(2000):\n",
    "    fpath = dirname + sorted_filtered_np[i][0]\n",
    "    f = open(fpath,encoding = 'utf8')\n",
    "    txt = f.read()\n",
    "    f.close()\n",
    "    alpha_types.append(set([w for w in regex.split('(\\W)',txt) if len(w) and w.isalpha()]))"
   ]
  },
  {
   "cell_type": "code",
   "execution_count": 345,
   "metadata": {},
   "outputs": [
    {
     "data": {
      "text/plain": [
       "2000"
      ]
     },
     "execution_count": 345,
     "metadata": {},
     "output_type": "execute_result"
    }
   ],
   "source": [
    "len(alpha_types)"
   ]
  },
  {
   "cell_type": "code",
   "execution_count": 358,
   "metadata": {},
   "outputs": [
    {
     "data": {
      "text/plain": [
       "355765"
      ]
     },
     "execution_count": 358,
     "metadata": {},
     "output_type": "execute_result"
    }
   ],
   "source": [
    "comparisons = 0\n",
    "is_duplicate_of = {}\n",
    "for i in range(1999):\n",
    "    j = i + 1\n",
    "    while j < 2000 and sorted_filtered_np[j][1] < sorted_filtered_np[i][1] * 1.2:\n",
    "        comparisons += 1\n",
    "        overlap = len(alpha_types[i].intersection(alpha_types[j])) / min(len(alpha_types[i]),len(alpha_types[j]))\n",
    "        if overlap > 0.85:\n",
    "            is_duplicate_of[sorted_filtered_np[i][0]] = (sorted_filtered_np[j][0],overlap)\n",
    "            break\n",
    "        j += 1\n",
    "comparisons"
   ]
  },
  {
   "cell_type": "code",
   "execution_count": 543,
   "metadata": {
    "scrolled": true
   },
   "outputs": [
    {
     "data": {
      "text/plain": [
       "765"
      ]
     },
     "execution_count": 543,
     "metadata": {},
     "output_type": "execute_result"
    }
   ],
   "source": [
    "len(is_duplicate_of)"
   ]
  },
  {
   "cell_type": "code",
   "execution_count": null,
   "metadata": {},
   "outputs": [],
   "source": [
    "import time\n",
    "(first_year,last_year) = (2004,2006)\n",
    "is_duplicate_of = {}\n",
    "for yr in range(first_year,last_year):\n",
    "    print(yr,'start')\n",
    "    dirname = dir_pattern.replace('xx','HU').replace('yyyy',str(yr))\n",
    "    sorted_filtered = pandas.merge(dfs[yr][0],filtered_files).sort_values(by=['num_chars'])\n",
    "    sorted_filtered_np = sorted_filtered[['file_name','num_chars']].to_numpy()\n",
    "    start_time = time.time()\n",
    "    \n",
    "    alpha_types = list()\n",
    "    for item in sorted_filtered_np:\n",
    "        fpath = dirname + item[0]\n",
    "        f = open(fpath,encoding = 'utf8')\n",
    "        txt = f.read()\n",
    "        f.close()\n",
    "        alpha_types.append(set([w for w in regex.split('(\\W)',txt) if len(w) and w.isalpha()]))\n",
    "    \n",
    "    comparisons = 0\n",
    "    for i in range(len(sorted_filtered_np) - 1):\n",
    "        j = i + 1\n",
    "        while j < len(sorted_filtered_np) and sorted_filtered_np[j][1] < sorted_filtered_np[i][1] * 1.2:\n",
    "            comparisons += 1\n",
    "            overlap = len(alpha_types[i].intersection(alpha_types[j])) / min(len(alpha_types[i]),len(alpha_types[j]))\n",
    "            if overlap > 0.85:\n",
    "                is_duplicate_of[sorted_filtered_np[i][0]] = (sorted_filtered_np[j][0],overlap)\n",
    "                break\n",
    "            j += 1\n",
    "\n",
    "    print(comparisons,'comparisons')\n",
    "    print(yr,'done')\n",
    "    print(time.time()-start_time)"
   ]
  },
  {
   "cell_type": "code",
   "execution_count": 434,
   "metadata": {},
   "outputs": [
    {
     "data": {
      "text/plain": [
       "186434"
      ]
     },
     "execution_count": 434,
     "metadata": {},
     "output_type": "execute_result"
    }
   ],
   "source": [
    "filecounts['all_files'].sum()"
   ]
  },
  {
   "cell_type": "code",
   "execution_count": 435,
   "metadata": {},
   "outputs": [
    {
     "data": {
      "text/plain": [
       "16"
      ]
     },
     "execution_count": 435,
     "metadata": {},
     "output_type": "execute_result"
    }
   ],
   "source": [
    "len(dfs)"
   ]
  },
  {
   "cell_type": "code",
   "execution_count": 486,
   "metadata": {},
   "outputs": [],
   "source": [
    "total_en = 0\n",
    "total_hu = 0\n",
    "total_length = 0\n",
    "for y in dfs:\n",
    "    total_length += len(dfs[y][0])\n",
    "    total_hu += dfs[y][0]['num_tokens'].sum()\n",
    "    total_en += dfs[y][1]['num_tokens'].sum()"
   ]
  },
  {
   "cell_type": "code",
   "execution_count": 562,
   "metadata": {},
   "outputs": [
    {
     "data": {
      "text/plain": [
       "110651"
      ]
     },
     "execution_count": 562,
     "metadata": {},
     "output_type": "execute_result"
    }
   ],
   "source": [
    "total_length"
   ]
  },
  {
   "cell_type": "code",
   "execution_count": 563,
   "metadata": {},
   "outputs": [
    {
     "data": {
      "text/plain": [
       "207315922"
      ]
     },
     "execution_count": 563,
     "metadata": {},
     "output_type": "execute_result"
    }
   ],
   "source": [
    "total_en"
   ]
  },
  {
   "cell_type": "code",
   "execution_count": 564,
   "metadata": {},
   "outputs": [
    {
     "data": {
      "text/plain": [
       "190981860"
      ]
     },
     "execution_count": 564,
     "metadata": {},
     "output_type": "execute_result"
    }
   ],
   "source": [
    "total_hu"
   ]
  },
  {
   "cell_type": "code",
   "execution_count": 494,
   "metadata": {},
   "outputs": [],
   "source": [
    "total_en = 0\n",
    "total_hu = 0\n",
    "total_length = 0\n",
    "for y in dfs:\n",
    "    cc = pandas.concat([pandas.merge(dfs[y][0],ratios,on='file_name'),dfs[y][1]],1)\n",
    "    cc_filtered = cc[(cc['num_alpha_ratio'] < 0.3) & (cc['hu_en_length_ratio'] > 0.89) & (cc['hu_en_length_ratio'] < 1.25)]\n",
    "    total_length += len(cc_filtered)\n",
    "    (hu, en) = cc_filtered['num_tokens'].to_numpy().sum(0)\n",
    "    total_hu += hu\n",
    "    total_en += en"
   ]
  },
  {
   "cell_type": "code",
   "execution_count": 539,
   "metadata": {},
   "outputs": [],
   "source": [
    "total_en = 0\n",
    "total_hu = 0\n",
    "total_length = 0\n",
    "for y in dfs:\n",
    "    filtered = pandas.merge(\n",
    "        dfs[y][0].join(dfs[y][1],lsuffix='_hu',rsuffix='_en'),\n",
    "        filtered_files,\n",
    "        left_on='file_name_hu', right_on='file_name')\n",
    "    total_length += len(filtered)\n",
    "    (hu, en) = filtered[['num_tokens_hu','num_tokens_en']].sum(0)\n",
    "    total_hu += hu\n",
    "    total_en += en"
   ]
  },
  {
   "cell_type": "code",
   "execution_count": 544,
   "metadata": {},
   "outputs": [],
   "source": [
    "f = open(jox_root+'duplicate_files.pickle','rb')\n",
    "duplicates = pickle.load(f)\n",
    "f.close()"
   ]
  },
  {
   "cell_type": "code",
   "execution_count": 545,
   "metadata": {},
   "outputs": [
    {
     "data": {
      "text/plain": [
       "35584"
      ]
     },
     "execution_count": 545,
     "metadata": {},
     "output_type": "execute_result"
    }
   ],
   "source": [
    "dupe_names = set(duplicates.keys())\n",
    "all_names = set(filtered_files['file_name'])\n",
    "keep_names = pandas.DataFrame({'file_name': list(all_names - dupe_names)})"
   ]
  },
  {
   "cell_type": "code",
   "execution_count": 561,
   "metadata": {},
   "outputs": [],
   "source": [
    "total_en = 0\n",
    "total_hu = 0\n",
    "total_length = 0\n",
    "for y in dfs:\n",
    "    final = pandas.merge(\n",
    "        dfs[y][0].join(dfs[y][1],lsuffix='_hu',rsuffix='_en'),\n",
    "        keep_names,\n",
    "        left_on='file_name_hu', right_on='file_name')\n",
    "    total_length += len(final)\n",
    "    (hu, en) = final[['num_tokens_hu','num_tokens_en']].sum(0)\n",
    "    total_hu += hu\n",
    "    total_en += en"
   ]
  },
  {
   "cell_type": "code",
   "execution_count": 560,
   "metadata": {},
   "outputs": [
    {
     "data": {
      "text/plain": [
       "3793"
      ]
     },
     "execution_count": 560,
     "metadata": {},
     "output_type": "execute_result"
    }
   ],
   "source": [
    "len(final)"
   ]
  },
  {
   "cell_type": "code",
   "execution_count": 577,
   "metadata": {},
   "outputs": [
    {
     "data": {
      "text/plain": [
       "(110651, 1)"
      ]
     },
     "execution_count": 577,
     "metadata": {},
     "output_type": "execute_result"
    }
   ],
   "source": [
    "keep_names.shape"
   ]
  },
  {
   "cell_type": "code",
   "execution_count": 552,
   "metadata": {},
   "outputs": [
    {
     "data": {
      "text/plain": [
       "146235"
      ]
     },
     "execution_count": 552,
     "metadata": {},
     "output_type": "execute_result"
    }
   ],
   "source": [
    "len(all_names)"
   ]
  },
  {
   "cell_type": "code",
   "execution_count": 575,
   "metadata": {},
   "outputs": [],
   "source": [
    "keep_names.to_csv(jox_root+'keep_files.csv')"
   ]
  },
  {
   "cell_type": "code",
   "execution_count": 558,
   "metadata": {},
   "outputs": [
    {
     "data": {
      "text/plain": [
       "110651"
      ]
     },
     "execution_count": 558,
     "metadata": {},
     "output_type": "execute_result"
    }
   ],
   "source": [
    "len(keep_names)"
   ]
  },
  {
   "cell_type": "code",
   "execution_count": 576,
   "metadata": {},
   "outputs": [
    {
     "data": {
      "text/plain": [
       "(186434, 6)"
      ]
     },
     "execution_count": 576,
     "metadata": {},
     "output_type": "execute_result"
    }
   ],
   "source": [
    "ratios.shape"
   ]
  },
  {
   "cell_type": "code",
   "execution_count": 578,
   "metadata": {},
   "outputs": [],
   "source": [
    "ratios_final = pandas.merge(ratios,keep_names,on='file_name')"
   ]
  },
  {
   "cell_type": "code",
   "execution_count": 579,
   "metadata": {},
   "outputs": [
    {
     "data": {
      "text/plain": [
       "(110651, 6)"
      ]
     },
     "execution_count": 579,
     "metadata": {},
     "output_type": "execute_result"
    }
   ],
   "source": [
    "ratios_final.shape"
   ]
  },
  {
   "cell_type": "code",
   "execution_count": 580,
   "metadata": {},
   "outputs": [
    {
     "data": {
      "text/plain": [
       "1.0524100328857948"
      ]
     },
     "execution_count": 580,
     "metadata": {},
     "output_type": "execute_result"
    }
   ],
   "source": [
    "ratios_final['hu_en_char_ratio'].mean()"
   ]
  },
  {
   "cell_type": "code",
   "execution_count": 585,
   "metadata": {},
   "outputs": [
    {
     "data": {
      "text/plain": [
       "0.06806975428391841"
      ]
     },
     "execution_count": 585,
     "metadata": {},
     "output_type": "execute_result"
    }
   ],
   "source": [
    "ratios_final['hu_en_char_ratio'].std()"
   ]
  },
  {
   "cell_type": "code",
   "execution_count": 586,
   "metadata": {},
   "outputs": [
    {
     "data": {
      "text/plain": [
       "Index(['year', 'file_name', 'num_alpha_ratio', 'hu_en_num_ratio',\n",
       "       'hu_en_length_ratio', 'hu_en_char_ratio'],\n",
       "      dtype='object')"
      ]
     },
     "execution_count": 586,
     "metadata": {},
     "output_type": "execute_result"
    }
   ],
   "source": [
    "ratios.columns"
   ]
  },
  {
   "cell_type": "code",
   "execution_count": 589,
   "metadata": {},
   "outputs": [
    {
     "data": {
      "text/plain": [
       "Index(['file_name', 'num_chars', 'num_tokens', 'num_table_cells',\n",
       "       'num_numeric_tokens', 'num_alphabetic_tokens',\n",
       "       'length_alphabetic_tokens'],\n",
       "      dtype='object')"
      ]
     },
     "execution_count": 589,
     "metadata": {},
     "output_type": "execute_result"
    }
   ],
   "source": [
    "dfs[2004][0].columns"
   ]
  },
  {
   "cell_type": "code",
   "execution_count": 713,
   "metadata": {},
   "outputs": [
    {
     "name": "stderr",
     "output_type": "stream",
     "text": [
      "C:\\Users\\Gergo\\Anaconda3\\lib\\site-packages\\pandas\\core\\frame.py:6692: FutureWarning: Sorting because non-concatenation axis is not aligned. A future version\n",
      "of pandas will change to not sort by default.\n",
      "\n",
      "To accept the future behavior, pass 'sort=False'.\n",
      "\n",
      "To retain the current behavior and silence the warning, pass 'sort=True'.\n",
      "\n",
      "  sort=sort)\n"
     ]
    }
   ],
   "source": [
    "ossz = pandas.DataFrame()\n",
    "for yr in range(2004,2020):\n",
    "    ossz = ossz.append(dfs[yr][0].join(dfs[yr][1],lsuffix='_hu',rsuffix='_en'))[['file_name_hu','num_chars_hu','num_numeric_tokens_hu','num_alphabetic_tokens_hu',\n",
    "       'length_alphabetic_tokens_hu','num_alphabetic_tokens_en','length_alphabetic_tokens_en','num_chars_en','num_numeric_tokens_en']]"
   ]
  },
  {
   "cell_type": "code",
   "execution_count": 638,
   "metadata": {},
   "outputs": [
    {
     "data": {
      "text/plain": [
       "(13337, 7)"
      ]
     },
     "execution_count": 638,
     "metadata": {},
     "output_type": "execute_result"
    }
   ],
   "source": [
    "dfs[2008][1].shape"
   ]
  },
  {
   "cell_type": "code",
   "execution_count": 714,
   "metadata": {},
   "outputs": [
    {
     "data": {
      "text/plain": [
       "(186434, 9)"
      ]
     },
     "execution_count": 714,
     "metadata": {},
     "output_type": "execute_result"
    }
   ],
   "source": [
    "ossz.shape"
   ]
  },
  {
   "cell_type": "code",
   "execution_count": 611,
   "metadata": {},
   "outputs": [
    {
     "data": {
      "text/plain": [
       "(5675, 14)"
      ]
     },
     "execution_count": 611,
     "metadata": {},
     "output_type": "execute_result"
    }
   ],
   "source": [
    "dfs[2004][0].join(dfs[2004][1],lsuffix='_hu',rsuffix='_en').shape"
   ]
  },
  {
   "cell_type": "code",
   "execution_count": 612,
   "metadata": {},
   "outputs": [],
   "source": [
    "ossz = pandas.DataFrame()"
   ]
  },
  {
   "cell_type": "code",
   "execution_count": 613,
   "metadata": {},
   "outputs": [
    {
     "data": {
      "text/plain": [
       "(5675, 14)"
      ]
     },
     "execution_count": 613,
     "metadata": {},
     "output_type": "execute_result"
    }
   ],
   "source": [
    "ossz.append(dfs[2004][0].join(dfs[2004][1],lsuffix='_hu',rsuffix='_en')).shape"
   ]
  },
  {
   "cell_type": "code",
   "execution_count": 646,
   "metadata": {},
   "outputs": [
    {
     "data": {
      "text/plain": [
       "(186434, 5)"
      ]
     },
     "execution_count": 646,
     "metadata": {},
     "output_type": "execute_result"
    }
   ],
   "source": [
    "ossz.shape"
   ]
  },
  {
   "cell_type": "code",
   "execution_count": 623,
   "metadata": {},
   "outputs": [
    {
     "data": {
      "text/plain": [
       "Index(['file_name_hu', 'num_chars_hu', 'num_tokens_hu', 'num_table_cells_hu',\n",
       "       'num_numeric_tokens_hu', 'num_alphabetic_tokens_hu',\n",
       "       'length_alphabetic_tokens_hu', 'file_name_en', 'num_chars_en',\n",
       "       'num_tokens_en', 'num_table_cells_en', 'num_numeric_tokens_en',\n",
       "       'num_alphabetic_tokens_en', 'length_alphabetic_tokens_en'],\n",
       "      dtype='object')"
      ]
     },
     "execution_count": 623,
     "metadata": {},
     "output_type": "execute_result"
    }
   ],
   "source": [
    "ossz.columns"
   ]
  },
  {
   "cell_type": "code",
   "execution_count": 716,
   "metadata": {},
   "outputs": [],
   "source": [
    "final_properties = pandas.merge(ossz,ratios_final,left_on='file_name_hu',right_on='file_name')"
   ]
  },
  {
   "cell_type": "code",
   "execution_count": 688,
   "metadata": {},
   "outputs": [
    {
     "data": {
      "text/plain": [
       "0.07089374526224779"
      ]
     },
     "execution_count": 688,
     "metadata": {},
     "output_type": "execute_result"
    }
   ],
   "source": [
    "final_properties[(1200 < final_properties['num_chars_hu']) & (final_properties['num_chars_hu'] < 1300)]['hu_en_char_ratio'].std()"
   ]
  },
  {
   "cell_type": "code",
   "execution_count": 689,
   "metadata": {},
   "outputs": [
    {
     "data": {
      "text/plain": [
       "155216"
      ]
     },
     "execution_count": 689,
     "metadata": {},
     "output_type": "execute_result"
    }
   ],
   "source": [
    "len(df2)"
   ]
  },
  {
   "cell_type": "code",
   "execution_count": 690,
   "metadata": {},
   "outputs": [
    {
     "data": {
      "text/plain": [
       "(155216, 8)"
      ]
     },
     "execution_count": 690,
     "metadata": {},
     "output_type": "execute_result"
    }
   ],
   "source": [
    "df2.shape"
   ]
  },
  {
   "cell_type": "code",
   "execution_count": 694,
   "metadata": {},
   "outputs": [
    {
     "data": {
      "text/plain": [
       "0         0.328571\n",
       "1         0.341463\n",
       "2         0.049296\n",
       "3         0.061111\n",
       "4         0.204545\n",
       "5         0.102564\n",
       "6         0.120690\n",
       "7         0.050360\n",
       "8         0.051282\n",
       "9         0.036866\n",
       "10        0.222222\n",
       "11        0.077176\n",
       "12        0.031818\n",
       "13        0.066176\n",
       "14        0.208333\n",
       "15        0.028926\n",
       "16        0.036145\n",
       "17        0.059259\n",
       "18        0.056911\n",
       "19        0.060995\n",
       "20        0.033149\n",
       "21        0.111717\n",
       "22        0.378378\n",
       "23        0.145985\n",
       "24        0.134228\n",
       "25        0.080537\n",
       "26        0.027972\n",
       "27        0.122905\n",
       "28        0.061644\n",
       "29        0.180645\n",
       "            ...   \n",
       "110621    0.022005\n",
       "110622    0.233831\n",
       "110623    0.263415\n",
       "110624    0.059783\n",
       "110625    0.246684\n",
       "110626    0.177215\n",
       "110627    0.363636\n",
       "110628    0.102564\n",
       "110629    0.099237\n",
       "110630    0.058252\n",
       "110631    0.085174\n",
       "110632    0.077381\n",
       "110633    0.026616\n",
       "110634    0.051282\n",
       "110635    0.160494\n",
       "110636    0.098039\n",
       "110637    0.024691\n",
       "110638    0.097087\n",
       "110639    0.095000\n",
       "110640    0.042969\n",
       "110641    0.076923\n",
       "110642    0.113208\n",
       "110643    0.050279\n",
       "110644    0.167702\n",
       "110645    0.061630\n",
       "110646    0.071006\n",
       "110647    0.032491\n",
       "110648    0.378151\n",
       "110649    0.127517\n",
       "110650    0.082324\n",
       "Name: similarity, Length: 110651, dtype: float64"
      ]
     },
     "execution_count": 694,
     "metadata": {},
     "output_type": "execute_result"
    }
   ],
   "source": [
    "pandas.merge(df2,keep_names,on='file_name')['similarity']"
   ]
  },
  {
   "cell_type": "code",
   "execution_count": 696,
   "metadata": {},
   "outputs": [],
   "source": [
    "import scipy.stats\n",
    "fit_alpha, fit_loc, fit_beta=scipy.stats.gamma.fit(pandas.merge(df2,keep_names,on='file_name')['similarity'])"
   ]
  },
  {
   "cell_type": "code",
   "execution_count": 697,
   "metadata": {},
   "outputs": [
    {
     "data": {
      "text/plain": [
       "(1.674982055374307, -0.0008541176512601694, 0.06827457109777044)"
      ]
     },
     "execution_count": 697,
     "metadata": {},
     "output_type": "execute_result"
    }
   ],
   "source": [
    "fit_alpha, fit_loc, fit_beta"
   ]
  },
  {
   "cell_type": "code",
   "execution_count": 707,
   "metadata": {},
   "outputs": [
    {
     "data": {
      "text/plain": [
       "0.38009490203353136"
      ]
     },
     "execution_count": 707,
     "metadata": {},
     "output_type": "execute_result"
    }
   ],
   "source": [
    "scipy.stats.gamma.cdf(0.07, fit_alpha, loc=fit_loc, scale=fit_beta)"
   ]
  },
  {
   "cell_type": "code",
   "execution_count": 717,
   "metadata": {},
   "outputs": [
    {
     "data": {
      "text/plain": [
       "Index(['file_name_hu', 'num_chars_hu', 'num_numeric_tokens_hu',\n",
       "       'num_alphabetic_tokens_hu', 'length_alphabetic_tokens_hu',\n",
       "       'num_alphabetic_tokens_en', 'length_alphabetic_tokens_en',\n",
       "       'num_chars_en', 'num_numeric_tokens_en', 'year', 'file_name',\n",
       "       'num_alpha_ratio', 'hu_en_num_ratio', 'hu_en_length_ratio',\n",
       "       'hu_en_char_ratio'],\n",
       "      dtype='object')"
      ]
     },
     "execution_count": 717,
     "metadata": {},
     "output_type": "execute_result"
    }
   ],
   "source": [
    "final_properties.columns"
   ]
  },
  {
   "cell_type": "code",
   "execution_count": 712,
   "metadata": {},
   "outputs": [
    {
     "data": {
      "text/plain": [
       "Index(['file_name_hu', 'num_chars_hu', 'num_numeric_tokens_hu', 'num_chars_en',\n",
       "       'num_numeric_tokens_en'],\n",
       "      dtype='object')"
      ]
     },
     "execution_count": 712,
     "metadata": {},
     "output_type": "execute_result"
    }
   ],
   "source": [
    "ossz.columns"
   ]
  },
  {
   "cell_type": "code",
   "execution_count": 718,
   "metadata": {},
   "outputs": [
    {
     "data": {
      "text/plain": [
       "(110651, 15)"
      ]
     },
     "execution_count": 718,
     "metadata": {},
     "output_type": "execute_result"
    }
   ],
   "source": [
    "final_properties.shape"
   ]
  },
  {
   "cell_type": "code",
   "execution_count": 740,
   "metadata": {},
   "outputs": [],
   "source": [
    "non_alpha_ratio_hu_en = (final_properties['num_chars_hu']-final_properties['length_alphabetic_tokens_hu']-final_properties['num_alphabetic_tokens_hu']+1) / (final_properties['num_chars_en']-final_properties['length_alphabetic_tokens_en']-final_properties['num_alphabetic_tokens_en']+1)"
   ]
  },
  {
   "cell_type": "code",
   "execution_count": 741,
   "metadata": {},
   "outputs": [
    {
     "data": {
      "text/plain": [
       "Series([], dtype: float64)"
      ]
     },
     "execution_count": 741,
     "metadata": {},
     "output_type": "execute_result"
    }
   ],
   "source": [
    "non_alpha_ratio_hu_en[non_alpha_ratio_hu_en == np.inf]"
   ]
  },
  {
   "cell_type": "code",
   "execution_count": 742,
   "metadata": {},
   "outputs": [
    {
     "data": {
      "text/html": [
       "<div>\n",
       "<style scoped>\n",
       "    .dataframe tbody tr th:only-of-type {\n",
       "        vertical-align: middle;\n",
       "    }\n",
       "\n",
       "    .dataframe tbody tr th {\n",
       "        vertical-align: top;\n",
       "    }\n",
       "\n",
       "    .dataframe thead th {\n",
       "        text-align: right;\n",
       "    }\n",
       "</style>\n",
       "<table border=\"1\" class=\"dataframe\">\n",
       "  <thead>\n",
       "    <tr style=\"text-align: right;\">\n",
       "      <th></th>\n",
       "      <th>0</th>\n",
       "    </tr>\n",
       "  </thead>\n",
       "  <tbody>\n",
       "    <tr>\n",
       "      <th>count</th>\n",
       "      <td>110651.000000</td>\n",
       "    </tr>\n",
       "    <tr>\n",
       "      <th>mean</th>\n",
       "      <td>1.092143</td>\n",
       "    </tr>\n",
       "    <tr>\n",
       "      <th>std</th>\n",
       "      <td>0.110825</td>\n",
       "    </tr>\n",
       "    <tr>\n",
       "      <th>min</th>\n",
       "      <td>0.200000</td>\n",
       "    </tr>\n",
       "    <tr>\n",
       "      <th>25%</th>\n",
       "      <td>1.034859</td>\n",
       "    </tr>\n",
       "    <tr>\n",
       "      <th>50%</th>\n",
       "      <td>1.079618</td>\n",
       "    </tr>\n",
       "    <tr>\n",
       "      <th>75%</th>\n",
       "      <td>1.133333</td>\n",
       "    </tr>\n",
       "    <tr>\n",
       "      <th>max</th>\n",
       "      <td>15.000000</td>\n",
       "    </tr>\n",
       "  </tbody>\n",
       "</table>\n",
       "</div>"
      ],
      "text/plain": [
       "                   0\n",
       "count  110651.000000\n",
       "mean        1.092143\n",
       "std         0.110825\n",
       "min         0.200000\n",
       "25%         1.034859\n",
       "50%         1.079618\n",
       "75%         1.133333\n",
       "max        15.000000"
      ]
     },
     "execution_count": 742,
     "metadata": {},
     "output_type": "execute_result"
    }
   ],
   "source": [
    "pandas.DataFrame(non_alpha_ratio_hu_en).describe()"
   ]
  },
  {
   "cell_type": "code",
   "execution_count": 746,
   "metadata": {},
   "outputs": [
    {
     "data": {
      "text/plain": [
       "count    110651.000000\n",
       "mean          1.052410\n",
       "std           0.068070\n",
       "min           0.808841\n",
       "25%           1.006548\n",
       "50%           1.049925\n",
       "75%           1.094538\n",
       "max           1.415254\n",
       "Name: hu_en_char_ratio, dtype: float64"
      ]
     },
     "execution_count": 746,
     "metadata": {},
     "output_type": "execute_result"
    }
   ],
   "source": [
    "final_properties['hu_en_char_ratio'].describe()"
   ]
  },
  {
   "cell_type": "code",
   "execution_count": 747,
   "metadata": {},
   "outputs": [
    {
     "data": {
      "text/plain": [
       "count    110651.000000\n",
       "mean          1.054266\n",
       "std           0.062000\n",
       "min           0.890052\n",
       "25%           1.012346\n",
       "50%           1.051975\n",
       "75%           1.093331\n",
       "max           1.249924\n",
       "Name: hu_en_length_ratio, dtype: float64"
      ]
     },
     "execution_count": 747,
     "metadata": {},
     "output_type": "execute_result"
    }
   ],
   "source": [
    "final_properties['hu_en_length_ratio'].describe()"
   ]
  },
  {
   "cell_type": "code",
   "execution_count": 803,
   "metadata": {},
   "outputs": [],
   "source": [
    "sorted_lengths_ratios = final_properties[['hu_en_length_ratio','num_chars_hu']].sort_values(by='num_chars_hu')\n",
    "sorted_lengths_ratios = sorted_lengths_ratios.join(pandas.DataFrame({'log_of_length_ratio': np.log(sorted_lengths_ratios['hu_en_length_ratio'])}))"
   ]
  },
  {
   "cell_type": "code",
   "execution_count": 804,
   "metadata": {},
   "outputs": [
    {
     "data": {
      "text/html": [
       "<div>\n",
       "<style scoped>\n",
       "    .dataframe tbody tr th:only-of-type {\n",
       "        vertical-align: middle;\n",
       "    }\n",
       "\n",
       "    .dataframe tbody tr th {\n",
       "        vertical-align: top;\n",
       "    }\n",
       "\n",
       "    .dataframe thead th {\n",
       "        text-align: right;\n",
       "    }\n",
       "</style>\n",
       "<table border=\"1\" class=\"dataframe\">\n",
       "  <thead>\n",
       "    <tr style=\"text-align: right;\">\n",
       "      <th></th>\n",
       "      <th>hu_en_length_ratio</th>\n",
       "      <th>num_chars_hu</th>\n",
       "      <th>log_of_length_ratio</th>\n",
       "    </tr>\n",
       "  </thead>\n",
       "  <tbody>\n",
       "    <tr>\n",
       "      <th>14297</th>\n",
       "      <td>0.938931</td>\n",
       "      <td>123</td>\n",
       "      <td>-0.063013</td>\n",
       "    </tr>\n",
       "    <tr>\n",
       "      <th>3985</th>\n",
       "      <td>1.007812</td>\n",
       "      <td>129</td>\n",
       "      <td>0.007782</td>\n",
       "    </tr>\n",
       "    <tr>\n",
       "      <th>108911</th>\n",
       "      <td>1.200000</td>\n",
       "      <td>132</td>\n",
       "      <td>0.182322</td>\n",
       "    </tr>\n",
       "    <tr>\n",
       "      <th>69127</th>\n",
       "      <td>1.000000</td>\n",
       "      <td>132</td>\n",
       "      <td>0.000000</td>\n",
       "    </tr>\n",
       "    <tr>\n",
       "      <th>24506</th>\n",
       "      <td>0.933333</td>\n",
       "      <td>140</td>\n",
       "      <td>-0.068993</td>\n",
       "    </tr>\n",
       "    <tr>\n",
       "      <th>18725</th>\n",
       "      <td>1.217391</td>\n",
       "      <td>140</td>\n",
       "      <td>0.196710</td>\n",
       "    </tr>\n",
       "    <tr>\n",
       "      <th>55656</th>\n",
       "      <td>1.076336</td>\n",
       "      <td>141</td>\n",
       "      <td>0.073563</td>\n",
       "    </tr>\n",
       "    <tr>\n",
       "      <th>31109</th>\n",
       "      <td>1.036765</td>\n",
       "      <td>141</td>\n",
       "      <td>0.036105</td>\n",
       "    </tr>\n",
       "    <tr>\n",
       "      <th>107195</th>\n",
       "      <td>1.234783</td>\n",
       "      <td>142</td>\n",
       "      <td>0.210895</td>\n",
       "    </tr>\n",
       "    <tr>\n",
       "      <th>21931</th>\n",
       "      <td>0.959459</td>\n",
       "      <td>142</td>\n",
       "      <td>-0.041385</td>\n",
       "    </tr>\n",
       "  </tbody>\n",
       "</table>\n",
       "</div>"
      ],
      "text/plain": [
       "        hu_en_length_ratio  num_chars_hu  log_of_length_ratio\n",
       "14297             0.938931           123            -0.063013\n",
       "3985              1.007812           129             0.007782\n",
       "108911            1.200000           132             0.182322\n",
       "69127             1.000000           132             0.000000\n",
       "24506             0.933333           140            -0.068993\n",
       "18725             1.217391           140             0.196710\n",
       "55656             1.076336           141             0.073563\n",
       "31109             1.036765           141             0.036105\n",
       "107195            1.234783           142             0.210895\n",
       "21931             0.959459           142            -0.041385"
      ]
     },
     "execution_count": 804,
     "metadata": {},
     "output_type": "execute_result"
    }
   ],
   "source": [
    "sorted_lengths_ratios[:10]"
   ]
  },
  {
   "cell_type": "code",
   "execution_count": 813,
   "metadata": {},
   "outputs": [],
   "source": [
    "num_slices = 500\n",
    "length_ratio_statistics = pandas.DataFrame({'median_length': np.zeros(num_slices),'mean_length_ratio': np.zeros(num_slices), 'std_deviation_length_ratio': np.zeros(num_slices), 'mean_log_length_ratio': np.zeros(num_slices), 'std_dev_log_length_ratio': np.zeros(num_slices)})"
   ]
  },
  {
   "cell_type": "code",
   "execution_count": 814,
   "metadata": {},
   "outputs": [
    {
     "data": {
      "text/plain": [
       "14297     123\n",
       "3985      129\n",
       "108911    132\n",
       "69127     132\n",
       "24506     140\n",
       "18725     140\n",
       "55656     141\n",
       "31109     141\n",
       "107195    142\n",
       "21931     142\n",
       "Name: num_chars_hu, dtype: int64"
      ]
     },
     "execution_count": 814,
     "metadata": {},
     "output_type": "execute_result"
    }
   ],
   "source": [
    "sorted_lengths_ratios.iloc[:10,:].iloc[:,1]"
   ]
  },
  {
   "cell_type": "code",
   "execution_count": 815,
   "metadata": {},
   "outputs": [
    {
     "data": {
      "text/plain": [
       "0.0"
      ]
     },
     "execution_count": 815,
     "metadata": {},
     "output_type": "execute_result"
    }
   ],
   "source": [
    "length_ratio_statistics['median_length'][0]"
   ]
  },
  {
   "cell_type": "code",
   "execution_count": 816,
   "metadata": {},
   "outputs": [],
   "source": [
    "slice_length = int(len(sorted_lengths_ratios)/num_slices)\n",
    "for i in range(num_slices):\n",
    "    data_slice = sorted_lengths_ratios.iloc[(i*slice_length):(i+1)*slice_length,:]\n",
    "    length_ratio_statistics['median_length'][i] = data_slice.iloc[:,1].median()\n",
    "    length_ratio_statistics['mean_length_ratio'][i] = data_slice.iloc[:,0].mean()\n",
    "    length_ratio_statistics['std_deviation_length_ratio'][i] = data_slice.iloc[:,0].std()\n",
    "    length_ratio_statistics['mean_log_length_ratio'][i] = data_slice.iloc[:,2].mean()\n",
    "    length_ratio_statistics['std_dev_log_length_ratio'][i] = data_slice.iloc[:,2].std()\n",
    "        "
   ]
  },
  {
   "cell_type": "code",
   "execution_count": 819,
   "metadata": {},
   "outputs": [
    {
     "data": {
      "text/html": [
       "<div>\n",
       "<style scoped>\n",
       "    .dataframe tbody tr th:only-of-type {\n",
       "        vertical-align: middle;\n",
       "    }\n",
       "\n",
       "    .dataframe tbody tr th {\n",
       "        vertical-align: top;\n",
       "    }\n",
       "\n",
       "    .dataframe thead th {\n",
       "        text-align: right;\n",
       "    }\n",
       "</style>\n",
       "<table border=\"1\" class=\"dataframe\">\n",
       "  <thead>\n",
       "    <tr style=\"text-align: right;\">\n",
       "      <th></th>\n",
       "      <th>median_length</th>\n",
       "      <th>mean_length_ratio</th>\n",
       "      <th>std_deviation_length_ratio</th>\n",
       "      <th>mean_log_length_ratio</th>\n",
       "      <th>std_dev_log_length_ratio</th>\n",
       "    </tr>\n",
       "  </thead>\n",
       "  <tbody>\n",
       "    <tr>\n",
       "      <th>0</th>\n",
       "      <td>168.0</td>\n",
       "      <td>1.077397</td>\n",
       "      <td>0.080069</td>\n",
       "      <td>0.071752</td>\n",
       "      <td>0.075303</td>\n",
       "    </tr>\n",
       "    <tr>\n",
       "      <th>1</th>\n",
       "      <td>190.0</td>\n",
       "      <td>1.109347</td>\n",
       "      <td>0.079118</td>\n",
       "      <td>0.101153</td>\n",
       "      <td>0.073192</td>\n",
       "    </tr>\n",
       "    <tr>\n",
       "      <th>2</th>\n",
       "      <td>206.0</td>\n",
       "      <td>1.104525</td>\n",
       "      <td>0.073773</td>\n",
       "      <td>0.097130</td>\n",
       "      <td>0.068280</td>\n",
       "    </tr>\n",
       "    <tr>\n",
       "      <th>3</th>\n",
       "      <td>220.0</td>\n",
       "      <td>1.101617</td>\n",
       "      <td>0.083504</td>\n",
       "      <td>0.093824</td>\n",
       "      <td>0.077722</td>\n",
       "    </tr>\n",
       "    <tr>\n",
       "      <th>4</th>\n",
       "      <td>234.0</td>\n",
       "      <td>1.083372</td>\n",
       "      <td>0.093438</td>\n",
       "      <td>0.076283</td>\n",
       "      <td>0.087875</td>\n",
       "    </tr>\n",
       "    <tr>\n",
       "      <th>5</th>\n",
       "      <td>252.0</td>\n",
       "      <td>1.069663</td>\n",
       "      <td>0.093671</td>\n",
       "      <td>0.063488</td>\n",
       "      <td>0.088259</td>\n",
       "    </tr>\n",
       "    <tr>\n",
       "      <th>6</th>\n",
       "      <td>271.0</td>\n",
       "      <td>1.064403</td>\n",
       "      <td>0.088272</td>\n",
       "      <td>0.058986</td>\n",
       "      <td>0.083039</td>\n",
       "    </tr>\n",
       "    <tr>\n",
       "      <th>7</th>\n",
       "      <td>288.0</td>\n",
       "      <td>1.067958</td>\n",
       "      <td>0.089882</td>\n",
       "      <td>0.062164</td>\n",
       "      <td>0.085252</td>\n",
       "    </tr>\n",
       "    <tr>\n",
       "      <th>8</th>\n",
       "      <td>305.0</td>\n",
       "      <td>1.037064</td>\n",
       "      <td>0.099873</td>\n",
       "      <td>0.031792</td>\n",
       "      <td>0.096115</td>\n",
       "    </tr>\n",
       "    <tr>\n",
       "      <th>9</th>\n",
       "      <td>323.0</td>\n",
       "      <td>1.033923</td>\n",
       "      <td>0.103842</td>\n",
       "      <td>0.028354</td>\n",
       "      <td>0.100235</td>\n",
       "    </tr>\n",
       "    <tr>\n",
       "      <th>10</th>\n",
       "      <td>343.0</td>\n",
       "      <td>1.026363</td>\n",
       "      <td>0.095867</td>\n",
       "      <td>0.021706</td>\n",
       "      <td>0.093001</td>\n",
       "    </tr>\n",
       "    <tr>\n",
       "      <th>11</th>\n",
       "      <td>362.0</td>\n",
       "      <td>1.013771</td>\n",
       "      <td>0.090896</td>\n",
       "      <td>0.009768</td>\n",
       "      <td>0.088135</td>\n",
       "    </tr>\n",
       "    <tr>\n",
       "      <th>12</th>\n",
       "      <td>382.0</td>\n",
       "      <td>1.036212</td>\n",
       "      <td>0.090379</td>\n",
       "      <td>0.031824</td>\n",
       "      <td>0.086587</td>\n",
       "    </tr>\n",
       "    <tr>\n",
       "      <th>13</th>\n",
       "      <td>402.0</td>\n",
       "      <td>1.042926</td>\n",
       "      <td>0.084386</td>\n",
       "      <td>0.038786</td>\n",
       "      <td>0.080688</td>\n",
       "    </tr>\n",
       "    <tr>\n",
       "      <th>14</th>\n",
       "      <td>419.0</td>\n",
       "      <td>1.041729</td>\n",
       "      <td>0.085454</td>\n",
       "      <td>0.037578</td>\n",
       "      <td>0.081224</td>\n",
       "    </tr>\n",
       "    <tr>\n",
       "      <th>15</th>\n",
       "      <td>436.0</td>\n",
       "      <td>1.031071</td>\n",
       "      <td>0.081441</td>\n",
       "      <td>0.027534</td>\n",
       "      <td>0.078224</td>\n",
       "    </tr>\n",
       "    <tr>\n",
       "      <th>16</th>\n",
       "      <td>451.0</td>\n",
       "      <td>1.038437</td>\n",
       "      <td>0.080002</td>\n",
       "      <td>0.034802</td>\n",
       "      <td>0.076282</td>\n",
       "    </tr>\n",
       "    <tr>\n",
       "      <th>17</th>\n",
       "      <td>468.0</td>\n",
       "      <td>1.036726</td>\n",
       "      <td>0.074224</td>\n",
       "      <td>0.033560</td>\n",
       "      <td>0.070697</td>\n",
       "    </tr>\n",
       "    <tr>\n",
       "      <th>18</th>\n",
       "      <td>483.0</td>\n",
       "      <td>1.024188</td>\n",
       "      <td>0.066779</td>\n",
       "      <td>0.021833</td>\n",
       "      <td>0.064085</td>\n",
       "    </tr>\n",
       "    <tr>\n",
       "      <th>19</th>\n",
       "      <td>496.0</td>\n",
       "      <td>1.045205</td>\n",
       "      <td>0.077445</td>\n",
       "      <td>0.041523</td>\n",
       "      <td>0.073275</td>\n",
       "    </tr>\n",
       "    <tr>\n",
       "      <th>20</th>\n",
       "      <td>508.0</td>\n",
       "      <td>1.045345</td>\n",
       "      <td>0.075148</td>\n",
       "      <td>0.041838</td>\n",
       "      <td>0.070586</td>\n",
       "    </tr>\n",
       "    <tr>\n",
       "      <th>21</th>\n",
       "      <td>522.0</td>\n",
       "      <td>1.040340</td>\n",
       "      <td>0.072204</td>\n",
       "      <td>0.037201</td>\n",
       "      <td>0.068347</td>\n",
       "    </tr>\n",
       "    <tr>\n",
       "      <th>22</th>\n",
       "      <td>535.0</td>\n",
       "      <td>1.032755</td>\n",
       "      <td>0.065778</td>\n",
       "      <td>0.030260</td>\n",
       "      <td>0.062547</td>\n",
       "    </tr>\n",
       "    <tr>\n",
       "      <th>23</th>\n",
       "      <td>548.0</td>\n",
       "      <td>1.045033</td>\n",
       "      <td>0.070230</td>\n",
       "      <td>0.041819</td>\n",
       "      <td>0.066820</td>\n",
       "    </tr>\n",
       "    <tr>\n",
       "      <th>24</th>\n",
       "      <td>562.0</td>\n",
       "      <td>1.045452</td>\n",
       "      <td>0.076217</td>\n",
       "      <td>0.041855</td>\n",
       "      <td>0.071878</td>\n",
       "    </tr>\n",
       "    <tr>\n",
       "      <th>25</th>\n",
       "      <td>576.0</td>\n",
       "      <td>1.055402</td>\n",
       "      <td>0.076201</td>\n",
       "      <td>0.051371</td>\n",
       "      <td>0.071308</td>\n",
       "    </tr>\n",
       "    <tr>\n",
       "      <th>26</th>\n",
       "      <td>590.0</td>\n",
       "      <td>1.038647</td>\n",
       "      <td>0.068456</td>\n",
       "      <td>0.035792</td>\n",
       "      <td>0.065126</td>\n",
       "    </tr>\n",
       "    <tr>\n",
       "      <th>27</th>\n",
       "      <td>606.0</td>\n",
       "      <td>1.054008</td>\n",
       "      <td>0.069938</td>\n",
       "      <td>0.050432</td>\n",
       "      <td>0.065842</td>\n",
       "    </tr>\n",
       "    <tr>\n",
       "      <th>28</th>\n",
       "      <td>621.0</td>\n",
       "      <td>1.044786</td>\n",
       "      <td>0.070245</td>\n",
       "      <td>0.041590</td>\n",
       "      <td>0.066621</td>\n",
       "    </tr>\n",
       "    <tr>\n",
       "      <th>29</th>\n",
       "      <td>638.0</td>\n",
       "      <td>1.045947</td>\n",
       "      <td>0.072065</td>\n",
       "      <td>0.042617</td>\n",
       "      <td>0.067673</td>\n",
       "    </tr>\n",
       "    <tr>\n",
       "      <th>...</th>\n",
       "      <td>...</td>\n",
       "      <td>...</td>\n",
       "      <td>...</td>\n",
       "      <td>...</td>\n",
       "      <td>...</td>\n",
       "    </tr>\n",
       "    <tr>\n",
       "      <th>470</th>\n",
       "      <td>33776.0</td>\n",
       "      <td>1.084587</td>\n",
       "      <td>0.053733</td>\n",
       "      <td>0.079970</td>\n",
       "      <td>0.049769</td>\n",
       "    </tr>\n",
       "    <tr>\n",
       "      <th>471</th>\n",
       "      <td>34599.0</td>\n",
       "      <td>1.088112</td>\n",
       "      <td>0.054473</td>\n",
       "      <td>0.083201</td>\n",
       "      <td>0.049972</td>\n",
       "    </tr>\n",
       "    <tr>\n",
       "      <th>472</th>\n",
       "      <td>35378.0</td>\n",
       "      <td>1.084936</td>\n",
       "      <td>0.052902</td>\n",
       "      <td>0.080343</td>\n",
       "      <td>0.048618</td>\n",
       "    </tr>\n",
       "    <tr>\n",
       "      <th>473</th>\n",
       "      <td>36236.0</td>\n",
       "      <td>1.089063</td>\n",
       "      <td>0.057146</td>\n",
       "      <td>0.083954</td>\n",
       "      <td>0.052294</td>\n",
       "    </tr>\n",
       "    <tr>\n",
       "      <th>474</th>\n",
       "      <td>37147.0</td>\n",
       "      <td>1.081835</td>\n",
       "      <td>0.056954</td>\n",
       "      <td>0.077272</td>\n",
       "      <td>0.052852</td>\n",
       "    </tr>\n",
       "    <tr>\n",
       "      <th>475</th>\n",
       "      <td>38030.0</td>\n",
       "      <td>1.088176</td>\n",
       "      <td>0.049086</td>\n",
       "      <td>0.083489</td>\n",
       "      <td>0.045177</td>\n",
       "    </tr>\n",
       "    <tr>\n",
       "      <th>476</th>\n",
       "      <td>39000.0</td>\n",
       "      <td>1.082525</td>\n",
       "      <td>0.051042</td>\n",
       "      <td>0.078190</td>\n",
       "      <td>0.047144</td>\n",
       "    </tr>\n",
       "    <tr>\n",
       "      <th>477</th>\n",
       "      <td>40036.0</td>\n",
       "      <td>1.083131</td>\n",
       "      <td>0.055859</td>\n",
       "      <td>0.078535</td>\n",
       "      <td>0.051505</td>\n",
       "    </tr>\n",
       "    <tr>\n",
       "      <th>478</th>\n",
       "      <td>41078.0</td>\n",
       "      <td>1.079652</td>\n",
       "      <td>0.048421</td>\n",
       "      <td>0.075641</td>\n",
       "      <td>0.044741</td>\n",
       "    </tr>\n",
       "    <tr>\n",
       "      <th>479</th>\n",
       "      <td>42354.0</td>\n",
       "      <td>1.081212</td>\n",
       "      <td>0.049352</td>\n",
       "      <td>0.077046</td>\n",
       "      <td>0.045664</td>\n",
       "    </tr>\n",
       "    <tr>\n",
       "      <th>480</th>\n",
       "      <td>43861.0</td>\n",
       "      <td>1.084508</td>\n",
       "      <td>0.057355</td>\n",
       "      <td>0.079743</td>\n",
       "      <td>0.052643</td>\n",
       "    </tr>\n",
       "    <tr>\n",
       "      <th>481</th>\n",
       "      <td>45472.0</td>\n",
       "      <td>1.081665</td>\n",
       "      <td>0.054638</td>\n",
       "      <td>0.077224</td>\n",
       "      <td>0.050734</td>\n",
       "    </tr>\n",
       "    <tr>\n",
       "      <th>482</th>\n",
       "      <td>46973.0</td>\n",
       "      <td>1.087378</td>\n",
       "      <td>0.057410</td>\n",
       "      <td>0.082395</td>\n",
       "      <td>0.052445</td>\n",
       "    </tr>\n",
       "    <tr>\n",
       "      <th>483</th>\n",
       "      <td>48972.0</td>\n",
       "      <td>1.081421</td>\n",
       "      <td>0.052559</td>\n",
       "      <td>0.077097</td>\n",
       "      <td>0.048731</td>\n",
       "    </tr>\n",
       "    <tr>\n",
       "      <th>484</th>\n",
       "      <td>51130.0</td>\n",
       "      <td>1.080748</td>\n",
       "      <td>0.056716</td>\n",
       "      <td>0.076284</td>\n",
       "      <td>0.052473</td>\n",
       "    </tr>\n",
       "    <tr>\n",
       "      <th>485</th>\n",
       "      <td>53441.0</td>\n",
       "      <td>1.085171</td>\n",
       "      <td>0.054432</td>\n",
       "      <td>0.080501</td>\n",
       "      <td>0.049704</td>\n",
       "    </tr>\n",
       "    <tr>\n",
       "      <th>486</th>\n",
       "      <td>56225.0</td>\n",
       "      <td>1.077919</td>\n",
       "      <td>0.050958</td>\n",
       "      <td>0.073920</td>\n",
       "      <td>0.047289</td>\n",
       "    </tr>\n",
       "    <tr>\n",
       "      <th>487</th>\n",
       "      <td>59304.0</td>\n",
       "      <td>1.080170</td>\n",
       "      <td>0.046963</td>\n",
       "      <td>0.076177</td>\n",
       "      <td>0.043491</td>\n",
       "    </tr>\n",
       "    <tr>\n",
       "      <th>488</th>\n",
       "      <td>62541.0</td>\n",
       "      <td>1.079121</td>\n",
       "      <td>0.050918</td>\n",
       "      <td>0.075051</td>\n",
       "      <td>0.046797</td>\n",
       "    </tr>\n",
       "    <tr>\n",
       "      <th>489</th>\n",
       "      <td>66137.0</td>\n",
       "      <td>1.077942</td>\n",
       "      <td>0.049034</td>\n",
       "      <td>0.074024</td>\n",
       "      <td>0.045492</td>\n",
       "    </tr>\n",
       "    <tr>\n",
       "      <th>490</th>\n",
       "      <td>70829.0</td>\n",
       "      <td>1.086351</td>\n",
       "      <td>0.049065</td>\n",
       "      <td>0.081811</td>\n",
       "      <td>0.045108</td>\n",
       "    </tr>\n",
       "    <tr>\n",
       "      <th>491</th>\n",
       "      <td>75906.0</td>\n",
       "      <td>1.076835</td>\n",
       "      <td>0.049436</td>\n",
       "      <td>0.072980</td>\n",
       "      <td>0.045801</td>\n",
       "    </tr>\n",
       "    <tr>\n",
       "      <th>492</th>\n",
       "      <td>82562.0</td>\n",
       "      <td>1.080795</td>\n",
       "      <td>0.045574</td>\n",
       "      <td>0.076817</td>\n",
       "      <td>0.042003</td>\n",
       "    </tr>\n",
       "    <tr>\n",
       "      <th>493</th>\n",
       "      <td>89723.0</td>\n",
       "      <td>1.081824</td>\n",
       "      <td>0.045660</td>\n",
       "      <td>0.077761</td>\n",
       "      <td>0.042237</td>\n",
       "    </tr>\n",
       "    <tr>\n",
       "      <th>494</th>\n",
       "      <td>97678.0</td>\n",
       "      <td>1.080196</td>\n",
       "      <td>0.052131</td>\n",
       "      <td>0.075993</td>\n",
       "      <td>0.047976</td>\n",
       "    </tr>\n",
       "    <tr>\n",
       "      <th>495</th>\n",
       "      <td>110091.0</td>\n",
       "      <td>1.077769</td>\n",
       "      <td>0.046360</td>\n",
       "      <td>0.073970</td>\n",
       "      <td>0.043107</td>\n",
       "    </tr>\n",
       "    <tr>\n",
       "      <th>496</th>\n",
       "      <td>123598.0</td>\n",
       "      <td>1.081622</td>\n",
       "      <td>0.047600</td>\n",
       "      <td>0.077509</td>\n",
       "      <td>0.043631</td>\n",
       "    </tr>\n",
       "    <tr>\n",
       "      <th>497</th>\n",
       "      <td>144159.0</td>\n",
       "      <td>1.078350</td>\n",
       "      <td>0.046032</td>\n",
       "      <td>0.074523</td>\n",
       "      <td>0.042742</td>\n",
       "    </tr>\n",
       "    <tr>\n",
       "      <th>498</th>\n",
       "      <td>175839.0</td>\n",
       "      <td>1.076540</td>\n",
       "      <td>0.046003</td>\n",
       "      <td>0.072855</td>\n",
       "      <td>0.042341</td>\n",
       "    </tr>\n",
       "    <tr>\n",
       "      <th>499</th>\n",
       "      <td>248635.0</td>\n",
       "      <td>1.077675</td>\n",
       "      <td>0.045659</td>\n",
       "      <td>0.073918</td>\n",
       "      <td>0.042165</td>\n",
       "    </tr>\n",
       "  </tbody>\n",
       "</table>\n",
       "<p>500 rows × 5 columns</p>\n",
       "</div>"
      ],
      "text/plain": [
       "     median_length  mean_length_ratio  std_deviation_length_ratio  \\\n",
       "0            168.0           1.077397                    0.080069   \n",
       "1            190.0           1.109347                    0.079118   \n",
       "2            206.0           1.104525                    0.073773   \n",
       "3            220.0           1.101617                    0.083504   \n",
       "4            234.0           1.083372                    0.093438   \n",
       "5            252.0           1.069663                    0.093671   \n",
       "6            271.0           1.064403                    0.088272   \n",
       "7            288.0           1.067958                    0.089882   \n",
       "8            305.0           1.037064                    0.099873   \n",
       "9            323.0           1.033923                    0.103842   \n",
       "10           343.0           1.026363                    0.095867   \n",
       "11           362.0           1.013771                    0.090896   \n",
       "12           382.0           1.036212                    0.090379   \n",
       "13           402.0           1.042926                    0.084386   \n",
       "14           419.0           1.041729                    0.085454   \n",
       "15           436.0           1.031071                    0.081441   \n",
       "16           451.0           1.038437                    0.080002   \n",
       "17           468.0           1.036726                    0.074224   \n",
       "18           483.0           1.024188                    0.066779   \n",
       "19           496.0           1.045205                    0.077445   \n",
       "20           508.0           1.045345                    0.075148   \n",
       "21           522.0           1.040340                    0.072204   \n",
       "22           535.0           1.032755                    0.065778   \n",
       "23           548.0           1.045033                    0.070230   \n",
       "24           562.0           1.045452                    0.076217   \n",
       "25           576.0           1.055402                    0.076201   \n",
       "26           590.0           1.038647                    0.068456   \n",
       "27           606.0           1.054008                    0.069938   \n",
       "28           621.0           1.044786                    0.070245   \n",
       "29           638.0           1.045947                    0.072065   \n",
       "..             ...                ...                         ...   \n",
       "470        33776.0           1.084587                    0.053733   \n",
       "471        34599.0           1.088112                    0.054473   \n",
       "472        35378.0           1.084936                    0.052902   \n",
       "473        36236.0           1.089063                    0.057146   \n",
       "474        37147.0           1.081835                    0.056954   \n",
       "475        38030.0           1.088176                    0.049086   \n",
       "476        39000.0           1.082525                    0.051042   \n",
       "477        40036.0           1.083131                    0.055859   \n",
       "478        41078.0           1.079652                    0.048421   \n",
       "479        42354.0           1.081212                    0.049352   \n",
       "480        43861.0           1.084508                    0.057355   \n",
       "481        45472.0           1.081665                    0.054638   \n",
       "482        46973.0           1.087378                    0.057410   \n",
       "483        48972.0           1.081421                    0.052559   \n",
       "484        51130.0           1.080748                    0.056716   \n",
       "485        53441.0           1.085171                    0.054432   \n",
       "486        56225.0           1.077919                    0.050958   \n",
       "487        59304.0           1.080170                    0.046963   \n",
       "488        62541.0           1.079121                    0.050918   \n",
       "489        66137.0           1.077942                    0.049034   \n",
       "490        70829.0           1.086351                    0.049065   \n",
       "491        75906.0           1.076835                    0.049436   \n",
       "492        82562.0           1.080795                    0.045574   \n",
       "493        89723.0           1.081824                    0.045660   \n",
       "494        97678.0           1.080196                    0.052131   \n",
       "495       110091.0           1.077769                    0.046360   \n",
       "496       123598.0           1.081622                    0.047600   \n",
       "497       144159.0           1.078350                    0.046032   \n",
       "498       175839.0           1.076540                    0.046003   \n",
       "499       248635.0           1.077675                    0.045659   \n",
       "\n",
       "     mean_log_length_ratio  std_dev_log_length_ratio  \n",
       "0                 0.071752                  0.075303  \n",
       "1                 0.101153                  0.073192  \n",
       "2                 0.097130                  0.068280  \n",
       "3                 0.093824                  0.077722  \n",
       "4                 0.076283                  0.087875  \n",
       "5                 0.063488                  0.088259  \n",
       "6                 0.058986                  0.083039  \n",
       "7                 0.062164                  0.085252  \n",
       "8                 0.031792                  0.096115  \n",
       "9                 0.028354                  0.100235  \n",
       "10                0.021706                  0.093001  \n",
       "11                0.009768                  0.088135  \n",
       "12                0.031824                  0.086587  \n",
       "13                0.038786                  0.080688  \n",
       "14                0.037578                  0.081224  \n",
       "15                0.027534                  0.078224  \n",
       "16                0.034802                  0.076282  \n",
       "17                0.033560                  0.070697  \n",
       "18                0.021833                  0.064085  \n",
       "19                0.041523                  0.073275  \n",
       "20                0.041838                  0.070586  \n",
       "21                0.037201                  0.068347  \n",
       "22                0.030260                  0.062547  \n",
       "23                0.041819                  0.066820  \n",
       "24                0.041855                  0.071878  \n",
       "25                0.051371                  0.071308  \n",
       "26                0.035792                  0.065126  \n",
       "27                0.050432                  0.065842  \n",
       "28                0.041590                  0.066621  \n",
       "29                0.042617                  0.067673  \n",
       "..                     ...                       ...  \n",
       "470               0.079970                  0.049769  \n",
       "471               0.083201                  0.049972  \n",
       "472               0.080343                  0.048618  \n",
       "473               0.083954                  0.052294  \n",
       "474               0.077272                  0.052852  \n",
       "475               0.083489                  0.045177  \n",
       "476               0.078190                  0.047144  \n",
       "477               0.078535                  0.051505  \n",
       "478               0.075641                  0.044741  \n",
       "479               0.077046                  0.045664  \n",
       "480               0.079743                  0.052643  \n",
       "481               0.077224                  0.050734  \n",
       "482               0.082395                  0.052445  \n",
       "483               0.077097                  0.048731  \n",
       "484               0.076284                  0.052473  \n",
       "485               0.080501                  0.049704  \n",
       "486               0.073920                  0.047289  \n",
       "487               0.076177                  0.043491  \n",
       "488               0.075051                  0.046797  \n",
       "489               0.074024                  0.045492  \n",
       "490               0.081811                  0.045108  \n",
       "491               0.072980                  0.045801  \n",
       "492               0.076817                  0.042003  \n",
       "493               0.077761                  0.042237  \n",
       "494               0.075993                  0.047976  \n",
       "495               0.073970                  0.043107  \n",
       "496               0.077509                  0.043631  \n",
       "497               0.074523                  0.042742  \n",
       "498               0.072855                  0.042341  \n",
       "499               0.073918                  0.042165  \n",
       "\n",
       "[500 rows x 5 columns]"
      ]
     },
     "execution_count": 819,
     "metadata": {},
     "output_type": "execute_result"
    }
   ],
   "source": [
    "length_ratio_statistics"
   ]
  },
  {
   "cell_type": "code",
   "execution_count": 818,
   "metadata": {},
   "outputs": [],
   "source": [
    "length_ratio_statistics.to_csv(jox_root+'ratios_by_length.csv')"
   ]
  },
  {
   "cell_type": "code",
   "execution_count": 825,
   "metadata": {},
   "outputs": [],
   "source": [
    "x = length_ratio_statistics['median_length'].to_numpy()"
   ]
  },
  {
   "cell_type": "code",
   "execution_count": 826,
   "metadata": {},
   "outputs": [],
   "source": [
    "y1 = length_ratio_statistics['mean_log_length_ratio'].to_numpy()\n",
    "y2 = length_ratio_statistics['std_dev_log_length_ratio'].to_numpy()"
   ]
  },
  {
   "cell_type": "code",
   "execution_count": 828,
   "metadata": {},
   "outputs": [],
   "source": [
    "y = length_ratio_statistics[['mean_log_length_ratio','std_dev_log_length_ratio']].to_numpy()"
   ]
  },
  {
   "cell_type": "code",
   "execution_count": 829,
   "metadata": {},
   "outputs": [
    {
     "data": {
      "text/plain": [
       "(500, 2)"
      ]
     },
     "execution_count": 829,
     "metadata": {},
     "output_type": "execute_result"
    }
   ],
   "source": [
    "y.shape"
   ]
  },
  {
   "cell_type": "code",
   "execution_count": 838,
   "metadata": {},
   "outputs": [],
   "source": [
    "linear_model = np.polyfit(x[:70],y[:70],1)"
   ]
  },
  {
   "cell_type": "code",
   "execution_count": 847,
   "metadata": {},
   "outputs": [
    {
     "data": {
      "text/plain": [
       "array([-1.66230513e-05,  5.62334540e-02])"
      ]
     },
     "execution_count": 847,
     "metadata": {},
     "output_type": "execute_result"
    }
   ],
   "source": [
    "linear_model[:,0]"
   ]
  },
  {
   "cell_type": "code",
   "execution_count": 844,
   "metadata": {},
   "outputs": [
    {
     "data": {
      "text/plain": [
       "0.046259623220000004"
      ]
     },
     "execution_count": 844,
     "metadata": {},
     "output_type": "execute_result"
    }
   ],
   "source": [
    "-1.66230513e-05 * 600 + 5.62334540e-02"
   ]
  },
  {
   "cell_type": "code",
   "execution_count": 845,
   "metadata": {},
   "outputs": [
    {
     "data": {
      "text/plain": [
       "0.0705565019"
      ]
     },
     "execution_count": 845,
     "metadata": {},
     "output_type": "execute_result"
    }
   ],
   "source": [
    "-3.36208230e-05 * 600 + 9.07289957e-02"
   ]
  },
  {
   "cell_type": "code",
   "execution_count": null,
   "metadata": {},
   "outputs": [],
   "source": []
  }
 ],
 "metadata": {
  "kernelspec": {
   "display_name": "Python 3",
   "language": "python",
   "name": "python3"
  },
  "language_info": {
   "codemirror_mode": {
    "name": "ipython",
    "version": 3
   },
   "file_extension": ".py",
   "mimetype": "text/x-python",
   "name": "python",
   "nbconvert_exporter": "python",
   "pygments_lexer": "ipython3",
   "version": "3.7.2"
  }
 },
 "nbformat": 4,
 "nbformat_minor": 2
}
